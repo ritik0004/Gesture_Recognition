{
 "cells": [
  {
   "cell_type": "markdown",
   "metadata": {
    "id": "YEhXXQZMng5u"
   },
   "source": [
    "# ❓ Problem Statement\n",
    "\n",
    "👋 Gesture Recognition\n",
    "\n",
    "You are working as a data scientist at a leading electronics company, ‘SG Electrics' which manufactures state of the art Smart Televisions. As an addition to the smart features of the televisions, you are given the responsibility to develop a model that can recognise 5 different gestures listed below which will help the customers in navigating through the SMART TV without using the remote.\n",
    "\n",
    "In this project, we are going to build a model that will be able to predict the 5 gestures correctly.\n",
    "\n",
    "For the application of gesture recognition while watching a movie, the following gestures have been selected with their functionality as described:\n",
    "\n",
    "Thumbs Up 👍: Increase the volume\n",
    "\n",
    "Thumbs Down 👎: Lower the volume\n",
    "\n",
    "Stop ✋: Pause the movie\n",
    "\n",
    "Left Swipe : Fast Forward 10 seconds\n",
    "\n",
    "Right Swipe: Fast Backward 10 seconds\n",
    "\n"
   ]
  },
  {
   "cell_type": "code",
   "execution_count": null,
   "metadata": {
    "colab": {
     "base_uri": "https://localhost:8080/"
    },
    "id": "ta1D94W7oaIQ",
    "outputId": "1b7a4548-07ea-4a5e-cb79-463298320514"
   },
   "outputs": [
    {
     "name": "stdout",
     "output_type": "stream",
     "text": [
      "Looking in indexes: https://pypi.org/simple, https://us-python.pkg.dev/colab-wheels/public/simple/\n",
      "Collecting scipy==1.1.0\n",
      "  Downloading scipy-1.1.0-cp37-cp37m-manylinux1_x86_64.whl (31.2 MB)\n",
      "\u001b[K     |████████████████████████████████| 31.2 MB 1.2 MB/s \n",
      "\u001b[?25hRequirement already satisfied: numpy>=1.8.2 in /usr/local/lib/python3.7/dist-packages (from scipy==1.1.0) (1.21.6)\n",
      "Installing collected packages: scipy\n",
      "  Attempting uninstall: scipy\n",
      "    Found existing installation: scipy 1.7.3\n",
      "    Uninstalling scipy-1.7.3:\n",
      "      Successfully uninstalled scipy-1.7.3\n",
      "\u001b[31mERROR: pip's dependency resolver does not currently take into account all the packages that are installed. This behaviour is the source of the following dependency conflicts.\n",
      "pymc3 3.11.5 requires scipy<1.8.0,>=1.7.3, but you have scipy 1.1.0 which is incompatible.\n",
      "plotnine 0.6.0 requires scipy>=1.2.0, but you have scipy 1.1.0 which is incompatible.\n",
      "jaxlib 0.3.14+cuda11.cudnn805 requires scipy>=1.5, but you have scipy 1.1.0 which is incompatible.\n",
      "jax 0.3.14 requires scipy>=1.5, but you have scipy 1.1.0 which is incompatible.\u001b[0m\n",
      "Successfully installed scipy-1.1.0\n"
     ]
    }
   ],
   "source": [
    "# Downgrading the module scipy to leverage the functionality of the imread and imresize\n",
    "!pip install scipy==1.1.0"
   ]
  },
  {
   "cell_type": "code",
   "execution_count": null,
   "metadata": {
    "id": "TLhy3_meng56"
   },
   "outputs": [],
   "source": [
    "import numpy as np\n",
    "import os\n",
    "from scipy.misc import imread, imresize\n",
    "import datetime\n",
    "import os\n",
    "import cv2\n",
    "import matplotlib.pyplot as plt"
   ]
  },
  {
   "cell_type": "markdown",
   "metadata": {
    "id": "zNI9AaChng59"
   },
   "source": [
    "We set the random seed so that the results don't vary drastically."
   ]
  },
  {
   "cell_type": "code",
   "execution_count": null,
   "metadata": {
    "id": "YtX9FMeWng5_"
   },
   "outputs": [],
   "source": [
    "# Please run this cell twice in order to import the libraries correctly. It errors out in the first try and works fine in the second one.\n",
    "np.random.seed(30)\n",
    "import random as rn\n",
    "rn.seed(30)\n",
    "from keras import backend as K\n",
    "import tensorflow as tf\n",
    "tf.random.set_seed(30)"
   ]
  },
  {
   "cell_type": "code",
   "execution_count": null,
   "metadata": {
    "colab": {
     "base_uri": "https://localhost:8080/"
    },
    "id": "I9freqKwoCsP",
    "outputId": "80392e03-af4c-4a86-f500-c20c1cd02e59"
   },
   "outputs": [
    {
     "name": "stdout",
     "output_type": "stream",
     "text": [
      "Mounted at /content/drive\n"
     ]
    }
   ],
   "source": [
    "# Mounting google drive to access the images\n",
    "from google.colab import drive\n",
    "drive.mount('/content/drive')"
   ]
  },
  {
   "cell_type": "markdown",
   "metadata": {
    "id": "DVT-QB0kng6A"
   },
   "source": [
    "In this block, you read the folder names for training and validation. You also set the `batch_size` here. Note that you set the batch size in such a way that you are able to use the GPU in full capacity. You keep increasing the batch size until the machine throws an error."
   ]
  },
  {
   "cell_type": "code",
   "execution_count": null,
   "metadata": {
    "id": "1m2KYfZ2vkmA"
   },
   "outputs": [],
   "source": [
    "# Importing the files module to upload train and val in order to make them avaialable in CSV format\n",
    "from google.colab import files"
   ]
  },
  {
   "cell_type": "code",
   "execution_count": null,
   "metadata": {
    "colab": {
     "base_uri": "https://localhost:8080/",
     "height": 73,
     "resources": {
      "http://localhost:8080/nbextensions/google.colab/files.js": {
       "data": "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",
       "headers": [
        [
         "content-type",
         "application/javascript"
        ]
       ],
       "ok": true,
       "status": 200,
       "status_text": ""
      }
     }
    },
    "id": "hEX17qp7vmd5",
    "outputId": "d969a0d4-68ec-42fc-dbaf-08302ce40c5b"
   },
   "outputs": [
    {
     "data": {
      "text/html": [
       "\n",
       "     <input type=\"file\" id=\"files-d57c919b-d29d-4e5e-be18-41231db1fd48\" name=\"files[]\" multiple disabled\n",
       "        style=\"border:none\" />\n",
       "     <output id=\"result-d57c919b-d29d-4e5e-be18-41231db1fd48\">\n",
       "      Upload widget is only available when the cell has been executed in the\n",
       "      current browser session. Please rerun this cell to enable.\n",
       "      </output>\n",
       "      <script src=\"/nbextensions/google.colab/files.js\"></script> "
      ],
      "text/plain": [
       "<IPython.core.display.HTML object>"
      ]
     },
     "metadata": {},
     "output_type": "display_data"
    },
    {
     "name": "stdout",
     "output_type": "stream",
     "text": [
      "Saving train.csv to train.csv\n"
     ]
    }
   ],
   "source": [
    "train = files.upload()"
   ]
  },
  {
   "cell_type": "code",
   "execution_count": null,
   "metadata": {
    "colab": {
     "base_uri": "https://localhost:8080/",
     "height": 73,
     "resources": {
      "http://localhost:8080/nbextensions/google.colab/files.js": {
       "data": "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",
       "headers": [
        [
         "content-type",
         "application/javascript"
        ]
       ],
       "ok": true,
       "status": 200,
       "status_text": ""
      }
     }
    },
    "id": "nCIi5NSqv4vP",
    "outputId": "259a2688-e765-4a92-f8d7-3785282dfbb1"
   },
   "outputs": [
    {
     "data": {
      "text/html": [
       "\n",
       "     <input type=\"file\" id=\"files-b56d99a3-fc97-4df2-a776-241e6bcc9941\" name=\"files[]\" multiple disabled\n",
       "        style=\"border:none\" />\n",
       "     <output id=\"result-b56d99a3-fc97-4df2-a776-241e6bcc9941\">\n",
       "      Upload widget is only available when the cell has been executed in the\n",
       "      current browser session. Please rerun this cell to enable.\n",
       "      </output>\n",
       "      <script src=\"/nbextensions/google.colab/files.js\"></script> "
      ],
      "text/plain": [
       "<IPython.core.display.HTML object>"
      ]
     },
     "metadata": {},
     "output_type": "display_data"
    },
    {
     "name": "stdout",
     "output_type": "stream",
     "text": [
      "Saving val.csv to val.csv\n"
     ]
    }
   ],
   "source": [
    "val = files.upload()"
   ]
  },
  {
   "cell_type": "code",
   "execution_count": null,
   "metadata": {
    "id": "vvgeEWlHng6B"
   },
   "outputs": [],
   "source": [
    "# Reading the train and val files\n",
    "train_doc = np.random.permutation(open('/content/train.csv').readlines())\n",
    "val_doc = np.random.permutation(open('/content/val.csv').readlines())"
   ]
  },
  {
   "cell_type": "markdown",
   "metadata": {
    "id": "3tHSfpgWng6D"
   },
   "source": [
    "# Generator\n",
    "This is one of the most important part of the code. The overall structure of the generator has been given. In the generator, you are going to preprocess the images as you have images of 2 different dimensions as well as create a batch of video frames. You have to experiment with `img_idx`, `y`,`z` and normalization such that you get high accuracy."
   ]
  },
  {
   "cell_type": "code",
   "execution_count": null,
   "metadata": {
    "id": "KECm9QDPng6E"
   },
   "outputs": [],
   "source": [
    "def get_batch_images(source_path, folder_list, batch_num, batch_size, t, validation, input_shape):\n",
    "    \n",
    "    batch_data = np.zeros((batch_size, input_shape[0], input_shape[1], input_shape[2], input_shape[3])) \n",
    "    batch_labels = np.zeros((batch_size,5))\n",
    "    \n",
    "    #create a list of image numbers you want to use for a particular video using full frames\n",
    "    img_idx = np.round(np.linspace(0,29,input_shape[0])).astype(int)\n",
    "\n",
    "    for folder in range(batch_size): # iterate over the batch_size\n",
    "        # read all the images in the folder\n",
    "        imgs = sorted(os.listdir(source_path+'/'+ t[folder + (batch_num*batch_size)].split(';')[0])) \n",
    "        # Generate a random affine to be used in image transformation for buidling agumented data set\n",
    "        dx, dy = np.random.randint(-1.7, 1.8, 2)\n",
    "        M = np.float32([[1, 0, dx], [0, 1, dy]])\n",
    "        \n",
    "        \n",
    "        #  Iterate over the frames/images of a folder to read them in\n",
    "        for idx, item in enumerate(img_idx): \n",
    "            image = cv2.imread(source_path+'/'+ t[folder + (batch_num*batch_size)].strip().split(';')[0]+'/'+imgs[item], cv2.IMREAD_COLOR)\n",
    "            image = cv2.cvtColor(image, cv2.COLOR_BGR2RGB)\n",
    "            \n",
    "            # Cropping non symmetric frames\n",
    "            if image.shape[0] != image.shape[1]:\n",
    "                image=image[0:120,20:140]\n",
    "            \n",
    "            #crop the images and resize them. Note that the images are of 2 different shape \n",
    "            #and the conv3D will throw error if the inputs in a batch have different shapes   \n",
    "            resized = cv2.resize(image, (input_shape[1], input_shape[2]), interpolation = cv2.INTER_AREA)\n",
    "            #Normal data\n",
    "            batch_data[folder,idx] = (resized)\n",
    "            \n",
    "\n",
    "        batch_labels[folder, int(t[folder + (batch_num*batch_size)].strip().split(';')[2])] = 1\n",
    "       \n",
    "    \n",
    "    if validation:\n",
    "        batch_data=batch_data\n",
    "        batch_labels= batch_labels\n",
    "        \n",
    "    return batch_data,batch_labels"
   ]
  },
  {
   "cell_type": "markdown",
   "metadata": {
    "id": "oy4rjvHjng6H"
   },
   "source": [
    "Note here that a video is represented above in the generator as (number of images, height, width, number of channels). Take this into consideration while creating the model architecture."
   ]
  },
  {
   "cell_type": "code",
   "execution_count": null,
   "metadata": {
    "id": "tKqpFtszdOrB"
   },
   "outputs": [],
   "source": [
    "def generator(source_path, folder_list, batch_size, input_shape, validation=False):\n",
    "    print( 'Source path = ', source_path, '; batch size =', batch_size)\n",
    "    while True:\n",
    "        t = np.random.permutation(folder_list)\n",
    "        num_batches = len(folder_list)//batch_size # calculate the number of batches\n",
    "        for batch in range(num_batches): # iterate over the number of batches\n",
    "            # yield the batch_data and the batch_labels\n",
    "            yield get_batch_images(source_path, folder_list, batch, batch_size, t,validation, input_shape)\n",
    "            \n",
    "\n",
    "        \n",
    "        # Code for the remaining data points which are left after full batches\n",
    "        if (len(folder_list) != batch_size*num_batches):\n",
    "            batch_size = len(folder_list) - (batch_size*num_batches)\n",
    "            yield get_batch_images(source_path, folder_list, batch, batch_size, t,validation, input_shape)\n"
   ]
  },
  {
   "cell_type": "code",
   "execution_count": null,
   "metadata": {
    "id": "9iBVvmoZng6O"
   },
   "outputs": [],
   "source": [
    "# Function to tweak the batch_size, number of epochs, input_shape and consequently steps_per_epoch and validation steps\n",
    "def gen(batch_size, epochs, input_shape):\n",
    "  train_path = '/content/drive/MyDrive/Project_data/train '\n",
    "  val_path = '/content/drive/MyDrive/Project_data/val'\n",
    "  num_train_sequences = len(train_doc)\n",
    "  print('# training sequences =', num_train_sequences)\n",
    "  num_val_sequences = len(val_doc)\n",
    "  print('# validation sequences =', num_val_sequences)\n",
    "  print('batch_size =', batch_size)\n",
    "  num_epochs = epochs\n",
    "  print('# epochs =', num_epochs)\n",
    "  train_generator = generator(train_path, train_doc, batch_size, input_shape)\n",
    "  val_generator = generator(val_path, val_doc, batch_size, input_shape, validation=True)\n",
    "  if (num_train_sequences%batch_size) == 0:\n",
    "    steps_per_epoch = int(num_train_sequences/batch_size)\n",
    "  else:\n",
    "    steps_per_epoch = (num_train_sequences//batch_size) + 1\n",
    "  if (num_val_sequences%batch_size) == 0:\n",
    "    validation_steps = int(num_val_sequences/batch_size)\n",
    "  else:\n",
    "    validation_steps = (num_val_sequences//batch_size) + 1\n",
    "  print('# steps per epoch ', steps_per_epoch)\n",
    "  print('# validation steps ', validation_steps)\n",
    "  print('Input Shape ', input_shape)\n",
    "  return (train_generator, val_generator, steps_per_epoch, validation_steps, num_epochs)"
   ]
  },
  {
   "cell_type": "markdown",
   "metadata": {
    "id": "tS11pjf0ng6K"
   },
   "source": [
    "# Model Building\n",
    "Here you make the model using different functionalities that Keras provides. Remember to use `Conv3D` and `MaxPooling3D` and not `Conv2D` and `Maxpooling2D` for a 3D convolution model. You would want to use `TimeDistributed` while building a Conv2D + RNN model. Also remember that the last layer is the softmax. Design the network in such a way that the model is able to give good accuracy on the least number of parameters so that it can fit in the memory of the webcam."
   ]
  },
  {
   "cell_type": "markdown",
   "metadata": {
    "id": "5QXHRhLktJ-n"
   },
   "source": [
    "# Conv3D Models"
   ]
  },
  {
   "cell_type": "code",
   "execution_count": null,
   "metadata": {
    "id": "rO-DDmWtAI40"
   },
   "outputs": [],
   "source": [
    "from keras.models import Sequential, Model\n",
    "from keras.layers import Dense, GRU, Flatten, TimeDistributed, Flatten, BatchNormalization, Activation, Dropout\n",
    "from keras.layers.convolutional import Conv3D, MaxPooling3D\n",
    "from keras.callbacks import ModelCheckpoint, ReduceLROnPlateau, EarlyStopping\n",
    "from keras.losses import categorical_crossentropy\n",
    "from tensorflow.keras.optimizers import Adam"
   ]
  },
  {
   "cell_type": "code",
   "execution_count": null,
   "metadata": {
    "colab": {
     "base_uri": "https://localhost:8080/"
    },
    "id": "RU-ZbCO-ng6P",
    "outputId": "eaa65d77-08f5-4812-f1d8-77c567bf13d4"
   },
   "outputs": [
    {
     "name": "stderr",
     "output_type": "stream",
     "text": [
      "WARNING:tensorflow:`period` argument is deprecated. Please use `save_freq` to specify the frequency in number of batches seen.\n"
     ]
    }
   ],
   "source": [
    "# Defining the structure of model name to be stored\n",
    "curr_dt_time = datetime.datetime.now()\n",
    "model_name = 'model_init' + '_' + str(curr_dt_time).replace(' ','').replace(':','_') + '/'\n",
    "    \n",
    "if not os.path.exists(model_name):\n",
    "    os.mkdir(model_name)\n",
    "        \n",
    "filepath = model_name + 'model-{epoch:05d}-{loss:.5f}-{categorical_accuracy:.5f}-{val_loss:.5f}-{val_categorical_accuracy:.5f}.h5'\n",
    "\n",
    "# Adding earlystopping callback\n",
    "earlystop = EarlyStopping(monitor=\"val_categorical_accuracy\", min_delta=0, patience=3, verbose=1)\n",
    "# Adding model checkpoint\n",
    "checkpoint = ModelCheckpoint(filepath, monitor='val_loss', verbose=1, save_best_only=False, save_weights_only=False, mode='auto', period=1)\n",
    "\n",
    "# Adding reduce LR on plateau\n",
    "LR = ReduceLROnPlateau(monitor='val_loss', factor=0.5, patience=2, cooldown=1, verbose=1)\n",
    "callbacks_list = [checkpoint, LR, earlystop]"
   ]
  },
  {
   "cell_type": "code",
   "execution_count": null,
   "metadata": {
    "id": "cm25huZ-SJJY"
   },
   "outputs": [],
   "source": [
    "# Defining a function to plot the training and validation accuracy\n",
    "def plot(model):\n",
    "    fig, axes = plt.subplots(nrows=1, ncols=2, figsize=(15,4))\n",
    "    axes[0].plot(model.history.history['loss'])   \n",
    "    axes[0].plot(model.history.history['val_loss'])\n",
    "    axes[0].legend(['loss','val_loss'])\n",
    "\n",
    "    axes[1].plot(model.history.history['categorical_accuracy'])   \n",
    "    axes[1].plot(model.history.history['val_categorical_accuracy'])\n",
    "    axes[1].legend(['categorical_accuracy','val_categorical_accuracy'])"
   ]
  },
  {
   "cell_type": "markdown",
   "metadata": {
    "id": "DJoUUiHABqGo"
   },
   "source": [
    "**First we will go ahead and try to build various versions of a Conv3D model which then will be followed by a Conv2D + RNN, also known as LSTM models. We will compare all the models and select the best one in terms of loss, accuracy and number of parameters.** "
   ]
  },
  {
   "cell_type": "markdown",
   "metadata": {
    "id": "-rRg_9byYJli"
   },
   "source": [
    "## Model 1: Conv3D \n",
    "A model considering all the frames in the image and image size being (120,120). BatchNormalization and Pooling layers have also been added."
   ]
  },
  {
   "cell_type": "code",
   "execution_count": null,
   "metadata": {
    "id": "MA6VtuVyZnc7"
   },
   "outputs": [],
   "source": [
    "# Number of filters, each increasing index refers to the next layer\n",
    "nb_filters = [8,16,32,64]\n",
    "# Number of dense nuerons in fully connected layers, the last element refers to the number of classes\n",
    "nb_dense = [256, 128, 5]"
   ]
  },
  {
   "cell_type": "code",
   "execution_count": null,
   "metadata": {
    "id": "CSUdQp5Kng6L"
   },
   "outputs": [],
   "source": [
    "# Input Shape of the image in the format: (number of frames, image height, image width, number of channels)\n",
    "input_shape=(30,120,120,3)\n",
    "\n",
    "# Model Architecture\n",
    "model = Sequential()\n",
    "\n",
    "model.add(Conv3D(nb_filters[0], \n",
    "                 kernel_size=(3,3,3), \n",
    "                 input_shape=input_shape,\n",
    "                 padding='same'))\n",
    "model.add(BatchNormalization())\n",
    "model.add(Activation('relu'))\n",
    "\n",
    "model.add(MaxPooling3D(pool_size=(2,2,2)))\n",
    "\n",
    "model.add(Conv3D(nb_filters[1], \n",
    "                 kernel_size=(3,3,3), \n",
    "                 padding='same'))\n",
    "model.add(BatchNormalization())\n",
    "model.add(Activation('relu'))\n",
    "\n",
    "model.add(MaxPooling3D(pool_size=(2,2,2)))\n",
    "\n",
    "model.add(Conv3D(nb_filters[2], \n",
    "                 kernel_size=(1,3,3), \n",
    "                 padding='same'))\n",
    "model.add(BatchNormalization())\n",
    "model.add(Activation('relu'))\n",
    "\n",
    "model.add(MaxPooling3D(pool_size=(2,2,2)))\n",
    "\n",
    "model.add(Conv3D(nb_filters[3], \n",
    "                 kernel_size=(1,3,3), \n",
    "                 padding='same'))\n",
    "model.add(Activation('relu'))\n",
    "\n",
    "\n",
    "model.add(MaxPooling3D(pool_size=(2,2,2)))\n",
    "\n",
    "#Flatten Layers\n",
    "model.add(Flatten())\n",
    "\n",
    "model.add(Dense(nb_dense[0], activation='relu'))\n",
    "\n",
    "\n",
    "model.add(Dense(nb_dense[1], activation='relu'))\n",
    "\n",
    "\n",
    "#softmax layer\n",
    "model.add(Dense(nb_dense[2], activation='softmax'))"
   ]
  },
  {
   "cell_type": "code",
   "execution_count": null,
   "metadata": {
    "colab": {
     "base_uri": "https://localhost:8080/"
    },
    "id": "LBtK0Pxqng6N",
    "outputId": "2ca109f9-e5b6-4114-f5dc-9058678871b2",
    "scrolled": true
   },
   "outputs": [
    {
     "name": "stdout",
     "output_type": "stream",
     "text": [
      "Model: \"sequential\"\n",
      "_________________________________________________________________\n",
      " Layer (type)                Output Shape              Param #   \n",
      "=================================================================\n",
      " conv3d (Conv3D)             (None, 30, 120, 120, 8)   656       \n",
      "                                                                 \n",
      " batch_normalization (BatchN  (None, 30, 120, 120, 8)  32        \n",
      " ormalization)                                                   \n",
      "                                                                 \n",
      " activation (Activation)     (None, 30, 120, 120, 8)   0         \n",
      "                                                                 \n",
      " max_pooling3d (MaxPooling3D  (None, 15, 60, 60, 8)    0         \n",
      " )                                                               \n",
      "                                                                 \n",
      " conv3d_1 (Conv3D)           (None, 15, 60, 60, 16)    3472      \n",
      "                                                                 \n",
      " batch_normalization_1 (Batc  (None, 15, 60, 60, 16)   64        \n",
      " hNormalization)                                                 \n",
      "                                                                 \n",
      " activation_1 (Activation)   (None, 15, 60, 60, 16)    0         \n",
      "                                                                 \n",
      " max_pooling3d_1 (MaxPooling  (None, 7, 30, 30, 16)    0         \n",
      " 3D)                                                             \n",
      "                                                                 \n",
      " conv3d_2 (Conv3D)           (None, 7, 30, 30, 32)     4640      \n",
      "                                                                 \n",
      " batch_normalization_2 (Batc  (None, 7, 30, 30, 32)    128       \n",
      " hNormalization)                                                 \n",
      "                                                                 \n",
      " activation_2 (Activation)   (None, 7, 30, 30, 32)     0         \n",
      "                                                                 \n",
      " max_pooling3d_2 (MaxPooling  (None, 3, 15, 15, 32)    0         \n",
      " 3D)                                                             \n",
      "                                                                 \n",
      " conv3d_3 (Conv3D)           (None, 3, 15, 15, 64)     18496     \n",
      "                                                                 \n",
      " activation_3 (Activation)   (None, 3, 15, 15, 64)     0         \n",
      "                                                                 \n",
      " max_pooling3d_3 (MaxPooling  (None, 1, 7, 7, 64)      0         \n",
      " 3D)                                                             \n",
      "                                                                 \n",
      " flatten (Flatten)           (None, 3136)              0         \n",
      "                                                                 \n",
      " dense (Dense)               (None, 256)               803072    \n",
      "                                                                 \n",
      " dense_1 (Dense)             (None, 128)               32896     \n",
      "                                                                 \n",
      " dense_2 (Dense)             (None, 5)                 645       \n",
      "                                                                 \n",
      "=================================================================\n",
      "Total params: 864,101\n",
      "Trainable params: 863,989\n",
      "Non-trainable params: 112\n",
      "_________________________________________________________________\n",
      "None\n"
     ]
    }
   ],
   "source": [
    "# Defining optimizer \n",
    "optimiser = Adam() \n",
    "model.compile(optimizer=optimiser, loss='categorical_crossentropy', metrics=['categorical_accuracy'])\n",
    "print (model.summary())"
   ]
  },
  {
   "cell_type": "code",
   "execution_count": null,
   "metadata": {
    "colab": {
     "base_uri": "https://localhost:8080/"
    },
    "id": "DeC7OZVZZwe3",
    "outputId": "b6301c87-7db9-4f72-c69e-5795a0774f9b"
   },
   "outputs": [
    {
     "name": "stdout",
     "output_type": "stream",
     "text": [
      "# training sequences = 663\n",
      "# validation sequences = 100\n",
      "batch_size = 64\n",
      "# epochs = 15\n",
      "# steps per epoch  11\n",
      "# validation steps  2\n",
      "Input Shape  (30, 120, 120, 3)\n"
     ]
    }
   ],
   "source": [
    "# Setting batch_size and num_epochs\n",
    "(train_generator, val_generator, steps_per_epoch, validation_steps, num_epochs) = gen(batch_size = 64, epochs = 15, input_shape = input_shape)"
   ]
  },
  {
   "cell_type": "code",
   "execution_count": null,
   "metadata": {
    "colab": {
     "base_uri": "https://localhost:8080/"
    },
    "id": "nR1X9IMOng6S",
    "outputId": "2ea2da47-6fda-4cfd-edee-2ee449ad0620"
   },
   "outputs": [
    {
     "name": "stdout",
     "output_type": "stream",
     "text": [
      "Source path =  /content/drive/MyDrive/Project_data/train  ; batch size = 64\n",
      "Epoch 1/15\n",
      "11/11 [==============================] - ETA: 0s - loss: 1.9829 - categorical_accuracy: 0.2278  Source path =  /content/drive/MyDrive/Project_data/val ; batch size = 64\n",
      "\n",
      "Epoch 1: saving model to model_init_2022-08-1113_02_18.794768/model-00001-1.98289-0.22775-2.36919-0.19000.h5\n",
      "11/11 [==============================] - 5859s 585s/step - loss: 1.9829 - categorical_accuracy: 0.2278 - val_loss: 2.3692 - val_categorical_accuracy: 0.1900 - lr: 0.0010\n",
      "Epoch 2/15\n",
      "11/11 [==============================] - ETA: 0s - loss: 1.4074 - categorical_accuracy: 0.4032\n",
      "Epoch 2: saving model to model_init_2022-08-1113_02_18.794768/model-00002-1.40741-0.40316-4.73854-0.20312.h5\n",
      "11/11 [==============================] - 233s 23s/step - loss: 1.4074 - categorical_accuracy: 0.4032 - val_loss: 4.7385 - val_categorical_accuracy: 0.2031 - lr: 0.0010\n",
      "Epoch 3/15\n",
      "11/11 [==============================] - ETA: 0s - loss: 1.2019 - categorical_accuracy: 0.4941\n",
      "Epoch 3: saving model to model_init_2022-08-1113_02_18.794768/model-00003-1.20187-0.49407-4.46487-0.26786.h5\n",
      "\n",
      "Epoch 3: ReduceLROnPlateau reducing learning rate to 0.0005000000237487257.\n",
      "11/11 [==============================] - 129s 13s/step - loss: 1.2019 - categorical_accuracy: 0.4941 - val_loss: 4.4649 - val_categorical_accuracy: 0.2679 - lr: 0.0010\n",
      "Epoch 4/15\n",
      "11/11 [==============================] - ETA: 0s - loss: 1.1095 - categorical_accuracy: 0.5150\n",
      "Epoch 4: saving model to model_init_2022-08-1113_02_18.794768/model-00004-1.10947-0.51502-5.34280-0.15625.h5\n",
      "11/11 [==============================] - 100s 10s/step - loss: 1.1095 - categorical_accuracy: 0.5150 - val_loss: 5.3428 - val_categorical_accuracy: 0.1562 - lr: 5.0000e-04\n",
      "Epoch 5/15\n",
      "11/11 [==============================] - ETA: 0s - loss: 0.8339 - categorical_accuracy: 0.6938\n",
      "Epoch 5: saving model to model_init_2022-08-1113_02_18.794768/model-00005-0.83392-0.69378-4.11839-0.31250.h5\n",
      "\n",
      "Epoch 5: ReduceLROnPlateau reducing learning rate to 0.0002500000118743628.\n",
      "11/11 [==============================] - 35s 3s/step - loss: 0.8339 - categorical_accuracy: 0.6938 - val_loss: 4.1184 - val_categorical_accuracy: 0.3125 - lr: 5.0000e-04\n",
      "Epoch 6/15\n",
      "11/11 [==============================] - ETA: 0s - loss: 0.8635 - categorical_accuracy: 0.6316\n",
      "Epoch 6: saving model to model_init_2022-08-1113_02_18.794768/model-00006-0.86352-0.63158-3.86028-0.12500.h5\n",
      "11/11 [==============================] - 40s 4s/step - loss: 0.8635 - categorical_accuracy: 0.6316 - val_loss: 3.8603 - val_categorical_accuracy: 0.1250 - lr: 2.5000e-04\n",
      "Epoch 7/15\n",
      "11/11 [==============================] - ETA: 0s - loss: 0.7251 - categorical_accuracy: 0.7833\n",
      "Epoch 7: saving model to model_init_2022-08-1113_02_18.794768/model-00007-0.72511-0.78325-2.58584-0.37500.h5\n",
      "\n",
      "Epoch 7: ReduceLROnPlateau reducing learning rate to 0.0001250000059371814.\n",
      "11/11 [==============================] - 22s 2s/step - loss: 0.7251 - categorical_accuracy: 0.7833 - val_loss: 2.5858 - val_categorical_accuracy: 0.3750 - lr: 2.5000e-04\n",
      "Epoch 8/15\n",
      "11/11 [==============================] - ETA: 0s - loss: 0.6845 - categorical_accuracy: 0.7647\n",
      "Epoch 8: saving model to model_init_2022-08-1113_02_18.794768/model-00008-0.68454-0.76471-1.98209-0.50000.h5\n",
      "11/11 [==============================] - 19s 2s/step - loss: 0.6845 - categorical_accuracy: 0.7647 - val_loss: 1.9821 - val_categorical_accuracy: 0.5000 - lr: 1.2500e-04\n",
      "Epoch 9/15\n",
      "11/11 [==============================] - ETA: 0s - loss: 0.6788 - categorical_accuracy: 0.7380\n",
      "Epoch 9: saving model to model_init_2022-08-1113_02_18.794768/model-00009-0.67875-0.73797-2.08443-0.12500.h5\n",
      "11/11 [==============================] - 21s 2s/step - loss: 0.6788 - categorical_accuracy: 0.7380 - val_loss: 2.0844 - val_categorical_accuracy: 0.1250 - lr: 1.2500e-04\n",
      "Epoch 10/15\n",
      "11/11 [==============================] - ETA: 0s - loss: 0.5810 - categorical_accuracy: 0.8128\n",
      "Epoch 10: saving model to model_init_2022-08-1113_02_18.794768/model-00010-0.58099-0.81283-1.70549-0.37500.h5\n",
      "11/11 [==============================] - 21s 2s/step - loss: 0.5810 - categorical_accuracy: 0.8128 - val_loss: 1.7055 - val_categorical_accuracy: 0.3750 - lr: 1.2500e-04\n",
      "Epoch 11/15\n",
      "11/11 [==============================] - ETA: 0s - loss: 0.6330 - categorical_accuracy: 0.7594\n",
      "Epoch 11: saving model to model_init_2022-08-1113_02_18.794768/model-00011-0.63296-0.75936-1.90998-0.37500.h5\n",
      "11/11 [==============================] - 19s 2s/step - loss: 0.6330 - categorical_accuracy: 0.7594 - val_loss: 1.9100 - val_categorical_accuracy: 0.3750 - lr: 1.2500e-04\n",
      "Epoch 11: early stopping\n"
     ]
    },
    {
     "data": {
      "text/plain": [
       "<keras.callbacks.History at 0x7f60c9728390>"
      ]
     },
     "execution_count": 21,
     "metadata": {},
     "output_type": "execute_result"
    }
   ],
   "source": [
    "# Fitting the model\n",
    "model.fit(train_generator, steps_per_epoch=steps_per_epoch, epochs=num_epochs, verbose=1, \n",
    "                    callbacks=callbacks_list, validation_data=val_generator, \n",
    "                    validation_steps=validation_steps, class_weight=None, workers=1, initial_epoch=0)"
   ]
  },
  {
   "cell_type": "code",
   "execution_count": null,
   "metadata": {
    "colab": {
     "base_uri": "https://localhost:8080/",
     "height": 265
    },
    "id": "ly6LDA1TTCIa",
    "outputId": "4dd96f35-eb18-4c67-bbab-ca52dbc6f14d"
   },
   "outputs": [
    {
     "data": {
      "image/png": "[encoded data removed]",
      "text/plain": [
       "<Figure size 1080x288 with 2 Axes>"
      ]
     },
     "metadata": {
      "needs_background": "light"
     },
     "output_type": "display_data"
    }
   ],
   "source": [
    "# Plotting the results\n",
    "plot(model)"
   ]
  },
  {
   "cell_type": "markdown",
   "metadata": {
    "id": "IfpnOjLo3iOv"
   },
   "source": [
    "**There are some signs of overfitting as there is a significance difference between categorical accuracy and validation accuracy.**"
   ]
  },
  {
   "cell_type": "markdown",
   "metadata": {
    "id": "Y5v2gbhd4fYQ"
   },
   "source": [
    "**Let's do some experiments. Let's try adding dropout layers to the current model to see how it affects our model performance.**"
   ]
  },
  {
   "cell_type": "markdown",
   "metadata": {
    "id": "3_xAQFF_yNfD"
   },
   "source": [
    "## Model 2: Conv3D \n",
    "A model considering all the frames in the image and image size being (120,120). BatchNormalization and Pooling layers, and droput layers have also been added."
   ]
  },
  {
   "cell_type": "code",
   "execution_count": null,
   "metadata": {
    "id": "uvhbBF2ayXpE"
   },
   "outputs": [],
   "source": [
    "# Input Shape of the image in the format: (number of frames, image height, image width, number of channels)\n",
    "input_shape=(30,120,120,3)\n",
    "\n",
    "# Model Architecture\n",
    "model = Sequential()\n",
    "\n",
    "model.add(Conv3D(nb_filters[0], \n",
    "                 kernel_size=(3,3,3), \n",
    "                 input_shape=input_shape,\n",
    "                 padding='same'))\n",
    "model.add(BatchNormalization())\n",
    "model.add(Activation('relu'))\n",
    "\n",
    "model.add(MaxPooling3D(pool_size=(2,2,2)))\n",
    "\n",
    "model.add(Conv3D(nb_filters[1], \n",
    "                 kernel_size=(3,3,3), \n",
    "                 padding='same'))\n",
    "model.add(BatchNormalization())\n",
    "model.add(Activation('relu'))\n",
    "\n",
    "model.add(MaxPooling3D(pool_size=(2,2,2)))\n",
    "\n",
    "model.add(Conv3D(nb_filters[2], \n",
    "                 kernel_size=(1,3,3), \n",
    "                 padding='same'))\n",
    "model.add(BatchNormalization())\n",
    "model.add(Activation('relu'))\n",
    "\n",
    "model.add(MaxPooling3D(pool_size=(2,2,2)))\n",
    "\n",
    "model.add(Conv3D(nb_filters[3], \n",
    "                 kernel_size=(1,3,3), \n",
    "                 padding='same'))\n",
    "model.add(Activation('relu'))\n",
    "model.add(Dropout(0.25))\n",
    "\n",
    "model.add(MaxPooling3D(pool_size=(2,2,2)))\n",
    "\n",
    "#Flatten Layers\n",
    "model.add(Flatten())\n",
    "\n",
    "model.add(Dense(nb_dense[0], activation='relu'))\n",
    "model.add(Dropout(0.25))\n",
    "\n",
    "model.add(Dense(nb_dense[1], activation='relu'))\n",
    "model.add(Dropout(0.25))\n",
    "\n",
    "#softmax layer\n",
    "model.add(Dense(nb_dense[2], activation='softmax'))"
   ]
  },
  {
   "cell_type": "code",
   "execution_count": null,
   "metadata": {
    "colab": {
     "base_uri": "https://localhost:8080/"
    },
    "id": "mf9fmCXsybOL",
    "outputId": "89e34c0a-da19-4da7-d1a5-f6003d7392d0"
   },
   "outputs": [
    {
     "name": "stdout",
     "output_type": "stream",
     "text": [
      "Model: \"sequential_1\"\n",
      "_________________________________________________________________\n",
      " Layer (type)                Output Shape              Param #   \n",
      "=================================================================\n",
      " conv3d_4 (Conv3D)           (None, 30, 120, 120, 8)   656       \n",
      "                                                                 \n",
      " batch_normalization_3 (Batc  (None, 30, 120, 120, 8)  32        \n",
      " hNormalization)                                                 \n",
      "                                                                 \n",
      " activation_4 (Activation)   (None, 30, 120, 120, 8)   0         \n",
      "                                                                 \n",
      " max_pooling3d_4 (MaxPooling  (None, 15, 60, 60, 8)    0         \n",
      " 3D)                                                             \n",
      "                                                                 \n",
      " conv3d_5 (Conv3D)           (None, 15, 60, 60, 16)    3472      \n",
      "                                                                 \n",
      " batch_normalization_4 (Batc  (None, 15, 60, 60, 16)   64        \n",
      " hNormalization)                                                 \n",
      "                                                                 \n",
      " activation_5 (Activation)   (None, 15, 60, 60, 16)    0         \n",
      "                                                                 \n",
      " max_pooling3d_5 (MaxPooling  (None, 7, 30, 30, 16)    0         \n",
      " 3D)                                                             \n",
      "                                                                 \n",
      " conv3d_6 (Conv3D)           (None, 7, 30, 30, 32)     4640      \n",
      "                                                                 \n",
      " batch_normalization_5 (Batc  (None, 7, 30, 30, 32)    128       \n",
      " hNormalization)                                                 \n",
      "                                                                 \n",
      " activation_6 (Activation)   (None, 7, 30, 30, 32)     0         \n",
      "                                                                 \n",
      " max_pooling3d_6 (MaxPooling  (None, 3, 15, 15, 32)    0         \n",
      " 3D)                                                             \n",
      "                                                                 \n",
      " conv3d_7 (Conv3D)           (None, 3, 15, 15, 64)     18496     \n",
      "                                                                 \n",
      " activation_7 (Activation)   (None, 3, 15, 15, 64)     0         \n",
      "                                                                 \n",
      " dropout (Dropout)           (None, 3, 15, 15, 64)     0         \n",
      "                                                                 \n",
      " max_pooling3d_7 (MaxPooling  (None, 1, 7, 7, 64)      0         \n",
      " 3D)                                                             \n",
      "                                                                 \n",
      " flatten_1 (Flatten)         (None, 3136)              0         \n",
      "                                                                 \n",
      " dense_3 (Dense)             (None, 256)               803072    \n",
      "                                                                 \n",
      " dropout_1 (Dropout)         (None, 256)               0         \n",
      "                                                                 \n",
      " dense_4 (Dense)             (None, 128)               32896     \n",
      "                                                                 \n",
      " dropout_2 (Dropout)         (None, 128)               0         \n",
      "                                                                 \n",
      " dense_5 (Dense)             (None, 5)                 645       \n",
      "                                                                 \n",
      "=================================================================\n",
      "Total params: 864,101\n",
      "Trainable params: 863,989\n",
      "Non-trainable params: 112\n",
      "_________________________________________________________________\n",
      "None\n"
     ]
    }
   ],
   "source": [
    "# Defining optimizer\n",
    "optimiser = Adam() \n",
    "model.compile(optimizer=optimiser, loss='categorical_crossentropy', metrics=['categorical_accuracy'])\n",
    "print (model.summary())"
   ]
  },
  {
   "cell_type": "code",
   "execution_count": null,
   "metadata": {
    "colab": {
     "base_uri": "https://localhost:8080/"
    },
    "id": "DXjIf1AFwCBj",
    "outputId": "02c77e1c-289e-42c5-d96a-84e7a498dc23"
   },
   "outputs": [
    {
     "name": "stdout",
     "output_type": "stream",
     "text": [
      "# training sequences = 663\n",
      "# validation sequences = 100\n",
      "batch_size = 64\n",
      "# epochs = 15\n",
      "# steps per epoch  11\n",
      "# validation steps  2\n",
      "Input Shape  (30, 120, 120, 3)\n"
     ]
    }
   ],
   "source": [
    "# Setting batch_size and num_epochs\n",
    "(train_generator, val_generator, steps_per_epoch, validation_steps, num_epochs) = gen(batch_size = 64, epochs = 15, input_shape = input_shape)"
   ]
  },
  {
   "cell_type": "code",
   "execution_count": null,
   "metadata": {
    "colab": {
     "base_uri": "https://localhost:8080/"
    },
    "id": "1k7GUhAUyxE2",
    "outputId": "6f0072bf-e3d6-457e-ac96-a62d31135b1c"
   },
   "outputs": [
    {
     "name": "stdout",
     "output_type": "stream",
     "text": [
      "Source path =  /content/drive/MyDrive/Project_data/train  ; batch size = 64\n",
      "Epoch 1/15\n",
      "11/11 [==============================] - ETA: 0s - loss: 1.9320 - categorical_accuracy: 0.2549Source path =  /content/drive/MyDrive/Project_data/val ; batch size = 64\n",
      "\n",
      "Epoch 1: saving model to model_init_2022-08-1113_02_18.794768/model-00001-1.93200-0.25490-1.69432-0.15000.h5\n",
      "11/11 [==============================] - 80s 8s/step - loss: 1.9320 - categorical_accuracy: 0.2549 - val_loss: 1.6943 - val_categorical_accuracy: 0.1500 - lr: 0.0010\n",
      "Epoch 2/15\n",
      "11/11 [==============================] - ETA: 0s - loss: 1.4002 - categorical_accuracy: 0.4387\n",
      "Epoch 2: saving model to model_init_2022-08-1113_02_18.794768/model-00002-1.40025-0.43874-2.53645-0.29688.h5\n",
      "11/11 [==============================] - 36s 4s/step - loss: 1.4002 - categorical_accuracy: 0.4387 - val_loss: 2.5365 - val_categorical_accuracy: 0.2969 - lr: 0.0010\n",
      "Epoch 3/15\n",
      "11/11 [==============================] - ETA: 0s - loss: 1.3217 - categorical_accuracy: 0.4269\n",
      "Epoch 3: saving model to model_init_2022-08-1113_02_18.794768/model-00003-1.32172-0.42688-2.53064-0.28571.h5\n",
      "\n",
      "Epoch 3: ReduceLROnPlateau reducing learning rate to 0.0005000000237487257.\n",
      "11/11 [==============================] - 33s 3s/step - loss: 1.3217 - categorical_accuracy: 0.4269 - val_loss: 2.5306 - val_categorical_accuracy: 0.2857 - lr: 0.0010\n",
      "Epoch 4/15\n",
      "11/11 [==============================] - ETA: 0s - loss: 1.1470 - categorical_accuracy: 0.5064\n",
      "Epoch 4: saving model to model_init_2022-08-1113_02_18.794768/model-00004-1.14704-0.50644-3.37549-0.25000.h5\n",
      "11/11 [==============================] - 27s 3s/step - loss: 1.1470 - categorical_accuracy: 0.5064 - val_loss: 3.3755 - val_categorical_accuracy: 0.2500 - lr: 5.0000e-04\n",
      "Epoch 5/15\n",
      "11/11 [==============================] - ETA: 0s - loss: 1.0294 - categorical_accuracy: 0.5981\n",
      "Epoch 5: saving model to model_init_2022-08-1113_02_18.794768/model-00005-1.02945-0.59809-2.57342-0.28125.h5\n",
      "\n",
      "Epoch 5: ReduceLROnPlateau reducing learning rate to 0.0002500000118743628.\n",
      "11/11 [==============================] - 27s 3s/step - loss: 1.0294 - categorical_accuracy: 0.5981 - val_loss: 2.5734 - val_categorical_accuracy: 0.2812 - lr: 5.0000e-04\n",
      "Epoch 5: early stopping\n"
     ]
    },
    {
     "data": {
      "text/plain": [
       "<keras.callbacks.History at 0x7f60320c3750>"
      ]
     },
     "execution_count": 26,
     "metadata": {},
     "output_type": "execute_result"
    }
   ],
   "source": [
    "# Fitting the model\n",
    "model.fit(train_generator, steps_per_epoch=steps_per_epoch, epochs=num_epochs, verbose=1, \n",
    "                    callbacks=callbacks_list, validation_data=val_generator, \n",
    "                    validation_steps=validation_steps, class_weight=None, workers=1, initial_epoch=0)"
   ]
  },
  {
   "cell_type": "code",
   "execution_count": null,
   "metadata": {
    "colab": {
     "base_uri": "https://localhost:8080/",
     "height": 265
    },
    "id": "8-BE6Td7y0VC",
    "outputId": "3af05562-31af-4985-c057-a60f8c09fc81"
   },
   "outputs": [
    {
     "data": {
      "image/png": "[encoded data removed]",
      "text/plain": [
       "<Figure size 1080x288 with 2 Axes>"
      ]
     },
     "metadata": {
      "needs_background": "light"
     },
     "output_type": "display_data"
    }
   ],
   "source": [
    "# Plotting the results\n",
    "plot(model)"
   ]
  },
  {
   "cell_type": "markdown",
   "metadata": {
    "id": "yrV06F_j0nQR"
   },
   "source": [
    "Dropout with 0.25 doesn't seem to have dealt with the problem of overfitting."
   ]
  },
  {
   "cell_type": "markdown",
   "metadata": {
    "id": "ahDsqroaYEwv"
   },
   "source": [
    "## Model 3: Conv3D\n",
    "\n",
    "A model considering only 20 out of the 30 frames in the image and image size being (120,120). BatchNormalization and Pooling layers, and droput layers with a value of 0.50 have also been added. Batch size has been reduced to 20 and number of epochs have been increased to 25."
   ]
  },
  {
   "cell_type": "code",
   "execution_count": null,
   "metadata": {
    "id": "ce9pXY1UIZub"
   },
   "outputs": [],
   "source": [
    "# Input Shape of the image in the format: (number of frames, image height, image width, number of channels)\n",
    "input_shape=(20,120,120,3)\n",
    "\n",
    "# Model Architecture\n",
    "model = Sequential()\n",
    "\n",
    "model.add(Conv3D(nb_filters[0], \n",
    "                 kernel_size=(3,3,3), \n",
    "                 input_shape=input_shape,\n",
    "                 padding='same'))\n",
    "model.add(BatchNormalization())\n",
    "model.add(Activation('relu'))\n",
    "\n",
    "model.add(MaxPooling3D(pool_size=(2,2,2)))\n",
    "\n",
    "model.add(Conv3D(nb_filters[1], \n",
    "                 kernel_size=(3,3,3), \n",
    "                 padding='same'))\n",
    "model.add(BatchNormalization())\n",
    "model.add(Activation('relu'))\n",
    "\n",
    "model.add(MaxPooling3D(pool_size=(2,2,2)))\n",
    "\n",
    "model.add(Conv3D(nb_filters[2], \n",
    "                 kernel_size=(1,3,3), \n",
    "                 padding='same'))\n",
    "model.add(BatchNormalization())\n",
    "model.add(Activation('relu'))\n",
    "\n",
    "model.add(MaxPooling3D(pool_size=(2,2,2)))\n",
    "\n",
    "model.add(Conv3D(nb_filters[3], \n",
    "                 kernel_size=(1,3,3), \n",
    "                 padding='same'))\n",
    "model.add(Activation('relu'))\n",
    "model.add(Dropout(0.50))\n",
    "\n",
    "model.add(MaxPooling3D(pool_size=(2,2,2)))\n",
    "\n",
    "#Flatten Layers\n",
    "model.add(Flatten())\n",
    "\n",
    "model.add(Dense(nb_dense[0], activation='relu'))\n",
    "model.add(Dropout(0.50))\n",
    "\n",
    "model.add(Dense(nb_dense[0], activation='relu'))\n",
    "model.add(Dropout(0.50))\n",
    "\n",
    "#softmax layer\n",
    "model.add(Dense(nb_dense[2], activation='softmax'))"
   ]
  },
  {
   "cell_type": "code",
   "execution_count": null,
   "metadata": {
    "colab": {
     "base_uri": "https://localhost:8080/"
    },
    "id": "LA-vBl0yL0c8",
    "outputId": "c8be8fa1-71ef-4c18-f870-f51844a9bb1f"
   },
   "outputs": [
    {
     "name": "stdout",
     "output_type": "stream",
     "text": [
      "Model: \"sequential_2\"\n",
      "_________________________________________________________________\n",
      " Layer (type)                Output Shape              Param #   \n",
      "=================================================================\n",
      " conv3d_8 (Conv3D)           (None, 20, 120, 120, 8)   656       \n",
      "                                                                 \n",
      " batch_normalization_6 (Batc  (None, 20, 120, 120, 8)  32        \n",
      " hNormalization)                                                 \n",
      "                                                                 \n",
      " activation_8 (Activation)   (None, 20, 120, 120, 8)   0         \n",
      "                                                                 \n",
      " max_pooling3d_8 (MaxPooling  (None, 10, 60, 60, 8)    0         \n",
      " 3D)                                                             \n",
      "                                                                 \n",
      " conv3d_9 (Conv3D)           (None, 10, 60, 60, 16)    3472      \n",
      "                                                                 \n",
      " batch_normalization_7 (Batc  (None, 10, 60, 60, 16)   64        \n",
      " hNormalization)                                                 \n",
      "                                                                 \n",
      " activation_9 (Activation)   (None, 10, 60, 60, 16)    0         \n",
      "                                                                 \n",
      " max_pooling3d_9 (MaxPooling  (None, 5, 30, 30, 16)    0         \n",
      " 3D)                                                             \n",
      "                                                                 \n",
      " conv3d_10 (Conv3D)          (None, 5, 30, 30, 32)     4640      \n",
      "                                                                 \n",
      " batch_normalization_8 (Batc  (None, 5, 30, 30, 32)    128       \n",
      " hNormalization)                                                 \n",
      "                                                                 \n",
      " activation_10 (Activation)  (None, 5, 30, 30, 32)     0         \n",
      "                                                                 \n",
      " max_pooling3d_10 (MaxPoolin  (None, 2, 15, 15, 32)    0         \n",
      " g3D)                                                            \n",
      "                                                                 \n",
      " conv3d_11 (Conv3D)          (None, 2, 15, 15, 64)     18496     \n",
      "                                                                 \n",
      " activation_11 (Activation)  (None, 2, 15, 15, 64)     0         \n",
      "                                                                 \n",
      " dropout_3 (Dropout)         (None, 2, 15, 15, 64)     0         \n",
      "                                                                 \n",
      " max_pooling3d_11 (MaxPoolin  (None, 1, 7, 7, 64)      0         \n",
      " g3D)                                                            \n",
      "                                                                 \n",
      " flatten_2 (Flatten)         (None, 3136)              0         \n",
      "                                                                 \n",
      " dense_6 (Dense)             (None, 256)               803072    \n",
      "                                                                 \n",
      " dropout_4 (Dropout)         (None, 256)               0         \n",
      "                                                                 \n",
      " dense_7 (Dense)             (None, 256)               65792     \n",
      "                                                                 \n",
      " dropout_5 (Dropout)         (None, 256)               0         \n",
      "                                                                 \n",
      " dense_8 (Dense)             (None, 5)                 1285      \n",
      "                                                                 \n",
      "=================================================================\n",
      "Total params: 897,637\n",
      "Trainable params: 897,525\n",
      "Non-trainable params: 112\n",
      "_________________________________________________________________\n",
      "None\n"
     ]
    }
   ],
   "source": [
    "# Defining the optimizer\n",
    "optimiser = Adam() \n",
    "model.compile(optimizer=optimiser, loss='categorical_crossentropy', metrics=['categorical_accuracy'])\n",
    "print (model.summary())"
   ]
  },
  {
   "cell_type": "code",
   "execution_count": null,
   "metadata": {
    "colab": {
     "base_uri": "https://localhost:8080/"
    },
    "id": "c8CdqnYk0zrq",
    "outputId": "ec913315-9290-4b9d-df6d-348da2a8167d"
   },
   "outputs": [
    {
     "name": "stdout",
     "output_type": "stream",
     "text": [
      "# training sequences = 663\n",
      "# validation sequences = 100\n",
      "batch_size = 20\n",
      "# epochs = 25\n",
      "# steps per epoch  34\n",
      "# validation steps  5\n",
      "Input Shape  (20, 120, 120, 3)\n"
     ]
    }
   ],
   "source": [
    "# Setting batch_size and num_epochs\n",
    "(train_generator, val_generator, steps_per_epoch, validation_steps, num_epochs) = gen(batch_size = 20, epochs = 25, input_shape = input_shape)"
   ]
  },
  {
   "cell_type": "code",
   "execution_count": null,
   "metadata": {
    "colab": {
     "base_uri": "https://localhost:8080/"
    },
    "id": "0MaJoOVvUk9N",
    "outputId": "30cdfe05-3de3-43c2-b46d-d08833edbc4c"
   },
   "outputs": [
    {
     "name": "stdout",
     "output_type": "stream",
     "text": [
      "Source path =  /content/drive/MyDrive/Project_data/train  ; batch size = 20\n",
      "Epoch 1/25\n",
      "34/34 [==============================] - ETA: 0s - loss: 2.3020 - categorical_accuracy: 0.2519Source path =  /content/drive/MyDrive/Project_data/val ; batch size = 20\n",
      "\n",
      "Epoch 1: saving model to model_init_2022-08-1113_02_18.794768/model-00001-2.30200-0.25189-2.28044-0.23000.h5\n",
      "34/34 [==============================] - 56s 2s/step - loss: 2.3020 - categorical_accuracy: 0.2519 - val_loss: 2.2804 - val_categorical_accuracy: 0.2300 - lr: 0.0010\n",
      "Epoch 2/25\n",
      "34/34 [==============================] - ETA: 0s - loss: 1.5587 - categorical_accuracy: 0.2843\n",
      "Epoch 2: saving model to model_init_2022-08-1113_02_18.794768/model-00002-1.55874-0.28431-1.80107-0.25000.h5\n",
      "34/34 [==============================] - 16s 478ms/step - loss: 1.5587 - categorical_accuracy: 0.2843 - val_loss: 1.8011 - val_categorical_accuracy: 0.2500 - lr: 0.0010\n",
      "Epoch 3/25\n",
      "34/34 [==============================] - ETA: 0s - loss: 1.6092 - categorical_accuracy: 0.2451\n",
      "Epoch 3: saving model to model_init_2022-08-1113_02_18.794768/model-00003-1.60917-0.24510-1.64235-0.30000.h5\n",
      "34/34 [==============================] - 16s 489ms/step - loss: 1.6092 - categorical_accuracy: 0.2451 - val_loss: 1.6423 - val_categorical_accuracy: 0.3000 - lr: 0.0010\n",
      "Epoch 4/25\n",
      "34/34 [==============================] - ETA: 0s - loss: 1.5797 - categorical_accuracy: 0.2549\n",
      "Epoch 4: saving model to model_init_2022-08-1113_02_18.794768/model-00004-1.57965-0.25490-1.54659-0.26000.h5\n",
      "34/34 [==============================] - 17s 521ms/step - loss: 1.5797 - categorical_accuracy: 0.2549 - val_loss: 1.5466 - val_categorical_accuracy: 0.2600 - lr: 0.0010\n",
      "Epoch 5/25\n",
      "34/34 [==============================] - ETA: 0s - loss: 1.5286 - categorical_accuracy: 0.3627\n",
      "Epoch 5: saving model to model_init_2022-08-1113_02_18.794768/model-00005-1.52862-0.36275-1.66106-0.19000.h5\n",
      "34/34 [==============================] - 16s 493ms/step - loss: 1.5286 - categorical_accuracy: 0.3627 - val_loss: 1.6611 - val_categorical_accuracy: 0.1900 - lr: 0.0010\n",
      "Epoch 6/25\n",
      "34/34 [==============================] - ETA: 0s - loss: 1.5787 - categorical_accuracy: 0.3922\n",
      "Epoch 6: saving model to model_init_2022-08-1113_02_18.794768/model-00006-1.57875-0.39216-2.68827-0.23000.h5\n",
      "\n",
      "Epoch 6: ReduceLROnPlateau reducing learning rate to 0.0005000000237487257.\n",
      "34/34 [==============================] - 17s 508ms/step - loss: 1.5787 - categorical_accuracy: 0.3922 - val_loss: 2.6883 - val_categorical_accuracy: 0.2300 - lr: 0.0010\n",
      "Epoch 6: early stopping\n"
     ]
    },
    {
     "data": {
      "text/plain": [
       "<keras.callbacks.History at 0x7f60110a7990>"
      ]
     },
     "execution_count": 31,
     "metadata": {},
     "output_type": "execute_result"
    }
   ],
   "source": [
    "# Fitting the model\n",
    "model.fit(train_generator, steps_per_epoch=steps_per_epoch, epochs=num_epochs, verbose=1, \n",
    "                    callbacks=callbacks_list, validation_data=val_generator, \n",
    "                    validation_steps=validation_steps, class_weight=None, workers=1, initial_epoch=0)"
   ]
  },
  {
   "cell_type": "code",
   "execution_count": null,
   "metadata": {
    "colab": {
     "base_uri": "https://localhost:8080/",
     "height": 267
    },
    "id": "g8-P641wY5Np",
    "outputId": "d575a55d-6200-4840-ab0b-af1d34f2d5a0"
   },
   "outputs": [
    {
     "data": {
      "image/png": "[encoded data removed]",
      "text/plain": [
       "<Figure size 1080x288 with 2 Axes>"
      ]
     },
     "metadata": {
      "needs_background": "light"
     },
     "output_type": "display_data"
    }
   ],
   "source": [
    "# Plotting the results\n",
    "plot(model)"
   ]
  },
  {
   "cell_type": "markdown",
   "metadata": {
    "id": "t2J0m1qwaOPw"
   },
   "source": [
    "**We observe a considerable amount of overfitting, hence on to the next architecture.**"
   ]
  },
  {
   "cell_type": "markdown",
   "metadata": {
    "id": "9ApCmALdaTJP"
   },
   "source": [
    "## Model 4: Conv3D\n",
    "\n",
    "In this model, we have used all the frames, (120,120) as image shape and reduced the filter size to (2,2,2). BatchNormalization and pooling layers have also been added. No dropouts have been used. Batch size has been increased to 32."
   ]
  },
  {
   "cell_type": "code",
   "execution_count": null,
   "metadata": {
    "id": "LSmLZQrqaXW8"
   },
   "outputs": [],
   "source": [
    "# Input Shape of the image in the format: (number of frames, image height, image width, number of channels)\n",
    "input_shape=(30,120,120,3)\n",
    "\n",
    "# Define Architecture\n",
    "model = Sequential()\n",
    "\n",
    "model.add(Conv3D(nb_filters[0], \n",
    "                 kernel_size=(2,2,2), \n",
    "                 input_shape=input_shape,\n",
    "                 padding='same'))\n",
    "model.add(BatchNormalization())\n",
    "model.add(Activation('relu'))\n",
    "\n",
    "model.add(MaxPooling3D(pool_size=(2,2,2)))\n",
    "\n",
    "model.add(Conv3D(nb_filters[1], \n",
    "                 kernel_size=(2,2,2), \n",
    "                 padding='same'))\n",
    "model.add(BatchNormalization())\n",
    "model.add(Activation('relu'))\n",
    "\n",
    "model.add(MaxPooling3D(pool_size=(2,2,2)))\n",
    "\n",
    "model.add(Conv3D(nb_filters[2], \n",
    "                 kernel_size=(1,2,2), \n",
    "                 padding='same'))\n",
    "model.add(BatchNormalization())\n",
    "model.add(Activation('relu'))\n",
    "\n",
    "model.add(MaxPooling3D(pool_size=(2,2,2)))\n",
    "\n",
    "model.add(Conv3D(nb_filters[3], \n",
    "                 kernel_size=(1,2,2), \n",
    "                 padding='same'))\n",
    "model.add(Activation('relu'))\n",
    "\n",
    "\n",
    "model.add(MaxPooling3D(pool_size=(2,2,2)))\n",
    "\n",
    "#Flatten Layers\n",
    "model.add(Flatten())\n",
    "\n",
    "model.add(Dense(nb_dense[0], activation='relu'))\n",
    "\n",
    "\n",
    "model.add(Dense(nb_dense[1], activation='relu'))\n",
    "\n",
    "\n",
    "#softmax layer\n",
    "model.add(Dense(nb_dense[2], activation='softmax'))"
   ]
  },
  {
   "cell_type": "code",
   "execution_count": null,
   "metadata": {
    "colab": {
     "base_uri": "https://localhost:8080/"
    },
    "id": "lmCmWbdYeQN0",
    "outputId": "52d9682c-b117-4664-bb34-9aa6196f753a"
   },
   "outputs": [
    {
     "name": "stdout",
     "output_type": "stream",
     "text": [
      "Model: \"sequential_3\"\n",
      "_________________________________________________________________\n",
      " Layer (type)                Output Shape              Param #   \n",
      "=================================================================\n",
      " conv3d_12 (Conv3D)          (None, 30, 120, 120, 8)   200       \n",
      "                                                                 \n",
      " batch_normalization_9 (Batc  (None, 30, 120, 120, 8)  32        \n",
      " hNormalization)                                                 \n",
      "                                                                 \n",
      " activation_12 (Activation)  (None, 30, 120, 120, 8)   0         \n",
      "                                                                 \n",
      " max_pooling3d_12 (MaxPoolin  (None, 15, 60, 60, 8)    0         \n",
      " g3D)                                                            \n",
      "                                                                 \n",
      " conv3d_13 (Conv3D)          (None, 15, 60, 60, 16)    1040      \n",
      "                                                                 \n",
      " batch_normalization_10 (Bat  (None, 15, 60, 60, 16)   64        \n",
      " chNormalization)                                                \n",
      "                                                                 \n",
      " activation_13 (Activation)  (None, 15, 60, 60, 16)    0         \n",
      "                                                                 \n",
      " max_pooling3d_13 (MaxPoolin  (None, 7, 30, 30, 16)    0         \n",
      " g3D)                                                            \n",
      "                                                                 \n",
      " conv3d_14 (Conv3D)          (None, 7, 30, 30, 32)     2080      \n",
      "                                                                 \n",
      " batch_normalization_11 (Bat  (None, 7, 30, 30, 32)    128       \n",
      " chNormalization)                                                \n",
      "                                                                 \n",
      " activation_14 (Activation)  (None, 7, 30, 30, 32)     0         \n",
      "                                                                 \n",
      " max_pooling3d_14 (MaxPoolin  (None, 3, 15, 15, 32)    0         \n",
      " g3D)                                                            \n",
      "                                                                 \n",
      " conv3d_15 (Conv3D)          (None, 3, 15, 15, 64)     8256      \n",
      "                                                                 \n",
      " activation_15 (Activation)  (None, 3, 15, 15, 64)     0         \n",
      "                                                                 \n",
      " max_pooling3d_15 (MaxPoolin  (None, 1, 7, 7, 64)      0         \n",
      " g3D)                                                            \n",
      "                                                                 \n",
      " flatten_3 (Flatten)         (None, 3136)              0         \n",
      "                                                                 \n",
      " dense_9 (Dense)             (None, 256)               803072    \n",
      "                                                                 \n",
      " dense_10 (Dense)            (None, 128)               32896     \n",
      "                                                                 \n",
      " dense_11 (Dense)            (None, 5)                 645       \n",
      "                                                                 \n",
      "=================================================================\n",
      "Total params: 848,413\n",
      "Trainable params: 848,301\n",
      "Non-trainable params: 112\n",
      "_________________________________________________________________\n",
      "None\n"
     ]
    }
   ],
   "source": [
    "# Define Optimizer\n",
    "optimiser = Adam()\n",
    "model.compile(optimizer=optimiser, loss='categorical_crossentropy', metrics=['categorical_accuracy'])\n",
    "print (model.summary())"
   ]
  },
  {
   "cell_type": "code",
   "execution_count": null,
   "metadata": {
    "colab": {
     "base_uri": "https://localhost:8080/"
    },
    "id": "T_NJ7RxpEjWM",
    "outputId": "52740474-419a-4286-b7f1-f21b4f8f5f09"
   },
   "outputs": [
    {
     "name": "stdout",
     "output_type": "stream",
     "text": [
      "# training sequences = 663\n",
      "# validation sequences = 100\n",
      "batch_size = 32\n",
      "# epochs = 25\n",
      "# steps per epoch  21\n",
      "# validation steps  4\n",
      "Input Shape  (30, 120, 120, 3)\n"
     ]
    }
   ],
   "source": [
    "# Setting batch_size and num_epochs\n",
    "(train_generator, val_generator, steps_per_epoch, validation_steps, num_epochs) = gen(batch_size = 32, epochs = 25, input_shape = input_shape)"
   ]
  },
  {
   "cell_type": "code",
   "execution_count": null,
   "metadata": {
    "colab": {
     "base_uri": "https://localhost:8080/"
    },
    "id": "KL6HC2SaeTL9",
    "outputId": "9934a300-21b5-442a-be78-e876eac4fb93"
   },
   "outputs": [
    {
     "name": "stdout",
     "output_type": "stream",
     "text": [
      "Source path =  /content/drive/MyDrive/Project_data/train  ; batch size = 32\n",
      "Epoch 1/25\n",
      "21/21 [==============================] - ETA: 0s - loss: 1.8389 - categorical_accuracy: 0.3318Source path =  /content/drive/MyDrive/Project_data/val ; batch size = 32\n",
      "\n",
      "Epoch 1: saving model to model_init_2022-08-1113_02_18.794768/model-00001-1.83892-0.33183-2.47287-0.24000.h5\n",
      "21/21 [==============================] - 80s 4s/step - loss: 1.8389 - categorical_accuracy: 0.3318 - val_loss: 2.4729 - val_categorical_accuracy: 0.2400 - lr: 0.0010\n",
      "Epoch 2/25\n",
      "21/21 [==============================] - ETA: 0s - loss: 0.9416 - categorical_accuracy: 0.6460\n",
      "Epoch 2: saving model to model_init_2022-08-1113_02_18.794768/model-00002-0.94158-0.64596-4.40869-0.18750.h5\n",
      "21/21 [==============================] - 51s 3s/step - loss: 0.9416 - categorical_accuracy: 0.6460 - val_loss: 4.4087 - val_categorical_accuracy: 0.1875 - lr: 0.0010\n",
      "Epoch 3/25\n",
      "21/21 [==============================] - ETA: 0s - loss: 0.7647 - categorical_accuracy: 0.7096\n",
      "Epoch 3: saving model to model_init_2022-08-1113_02_18.794768/model-00003-0.76471-0.70960-2.14127-0.50000.h5\n",
      "21/21 [==============================] - 44s 2s/step - loss: 0.7647 - categorical_accuracy: 0.7096 - val_loss: 2.1413 - val_categorical_accuracy: 0.5000 - lr: 0.0010\n",
      "Epoch 4/25\n",
      "21/21 [==============================] - ETA: 0s - loss: 0.6041 - categorical_accuracy: 0.7820\n",
      "Epoch 4: saving model to model_init_2022-08-1113_02_18.794768/model-00004-0.60408-0.78195-1.99236-0.37500.h5\n",
      "21/21 [==============================] - 44s 2s/step - loss: 0.6041 - categorical_accuracy: 0.7820 - val_loss: 1.9924 - val_categorical_accuracy: 0.3750 - lr: 0.0010\n",
      "Epoch 5/25\n",
      "21/21 [==============================] - ETA: 0s - loss: 0.4006 - categorical_accuracy: 0.8571\n",
      "Epoch 5: saving model to model_init_2022-08-1113_02_18.794768/model-00005-0.40064-0.85714-2.10833-0.43750.h5\n",
      "21/21 [==============================] - 38s 2s/step - loss: 0.4006 - categorical_accuracy: 0.8571 - val_loss: 2.1083 - val_categorical_accuracy: 0.4375 - lr: 0.0010\n",
      "Epoch 6/25\n",
      "21/21 [==============================] - ETA: 0s - loss: 0.4667 - categorical_accuracy: 0.8375\n",
      "Epoch 6: saving model to model_init_2022-08-1113_02_18.794768/model-00006-0.46667-0.83754-1.58375-0.43750.h5\n",
      "21/21 [==============================] - 38s 2s/step - loss: 0.4667 - categorical_accuracy: 0.8375 - val_loss: 1.5837 - val_categorical_accuracy: 0.4375 - lr: 0.0010\n",
      "Epoch 6: early stopping\n"
     ]
    },
    {
     "data": {
      "text/plain": [
       "<keras.callbacks.History at 0x7f600e6df7d0>"
      ]
     },
     "execution_count": 37,
     "metadata": {},
     "output_type": "execute_result"
    }
   ],
   "source": [
    "# Fitting the model\n",
    "model.fit(train_generator, steps_per_epoch=steps_per_epoch, epochs=num_epochs, verbose=1, \n",
    "                    callbacks=callbacks_list, validation_data=val_generator, \n",
    "                    validation_steps=validation_steps, class_weight=None, workers=1, initial_epoch=0)"
   ]
  },
  {
   "cell_type": "code",
   "execution_count": null,
   "metadata": {
    "colab": {
     "base_uri": "https://localhost:8080/",
     "height": 265
    },
    "id": "zb5QDrfBeYAw",
    "outputId": "b928e9dd-1daa-4d45-db9d-b3f3b82b9e21"
   },
   "outputs": [
    {
     "data": {
      "image/png": "[encoded data removed]",
      "text/plain": [
       "<Figure size 1080x288 with 2 Axes>"
      ]
     },
     "metadata": {
      "needs_background": "light"
     },
     "output_type": "display_data"
    }
   ],
   "source": [
    "# Plotting the results\n",
    "plot(model)"
   ]
  },
  {
   "cell_type": "markdown",
   "metadata": {
    "id": "lovVcjbVTq-G"
   },
   "source": [
    "**The accuracy has surely increased, but there are still signs of overfitting. We need to experiment further.**"
   ]
  },
  {
   "cell_type": "markdown",
   "metadata": {
    "id": "AArrZ_nLGVVD"
   },
   "source": [
    "## Model 5: Conv3D\n",
    "\n",
    "In this model, we have used exactly the same architecture we used in Model 4, but added a dropout layer with a dropout value of 0.25 to address the issue of overfitting."
   ]
  },
  {
   "cell_type": "code",
   "execution_count": null,
   "metadata": {
    "id": "CtBh5Kp9GVJ6"
   },
   "outputs": [],
   "source": [
    "# Input Shape of the image in the format: (number of frames, image height, image width, number of channels)\n",
    "input_shape=(30,120,120,3)\n",
    "\n",
    "# Model Architecture\n",
    "model = Sequential()\n",
    "\n",
    "model.add(Conv3D(nb_filters[0], \n",
    "                 kernel_size=(2,2,2), \n",
    "                 input_shape=input_shape,\n",
    "                 padding='same'))\n",
    "model.add(BatchNormalization())\n",
    "model.add(Activation('relu'))\n",
    "\n",
    "model.add(MaxPooling3D(pool_size=(2,2,2)))\n",
    "\n",
    "model.add(Conv3D(nb_filters[1], \n",
    "                 kernel_size=(2,2,2), \n",
    "                 padding='same'))\n",
    "model.add(BatchNormalization())\n",
    "model.add(Activation('relu'))\n",
    "\n",
    "model.add(MaxPooling3D(pool_size=(2,2,2)))\n",
    "\n",
    "model.add(Conv3D(nb_filters[2], \n",
    "                 kernel_size=(1,2,2), \n",
    "                 padding='same'))\n",
    "model.add(BatchNormalization())\n",
    "model.add(Activation('relu'))\n",
    "\n",
    "model.add(MaxPooling3D(pool_size=(2,2,2)))\n",
    "\n",
    "model.add(Conv3D(nb_filters[3], \n",
    "                 kernel_size=(1,2,2), \n",
    "                 padding='same'))\n",
    "model.add(Activation('relu'))\n",
    "model.add(Dropout(0.25))\n",
    "\n",
    "model.add(MaxPooling3D(pool_size=(2,2,2)))\n",
    "\n",
    "#Flatten Layers\n",
    "model.add(Flatten())\n",
    "\n",
    "model.add(Dense(nb_dense[0], activation='relu'))\n",
    "model.add(Dropout(0.25))\n",
    "\n",
    "model.add(Dense(nb_dense[1], activation='relu'))\n",
    "model.add(Dropout(0.25))\n",
    "\n",
    "#softmax layer\n",
    "model.add(Dense(nb_dense[2], activation='softmax'))"
   ]
  },
  {
   "cell_type": "code",
   "execution_count": null,
   "metadata": {
    "colab": {
     "base_uri": "https://localhost:8080/"
    },
    "id": "INNOsFBtGU5I",
    "outputId": "3bb277ed-0d35-4e1b-d2e8-f2805b581430"
   },
   "outputs": [
    {
     "name": "stdout",
     "output_type": "stream",
     "text": [
      "Model: \"sequential_4\"\n",
      "_________________________________________________________________\n",
      " Layer (type)                Output Shape              Param #   \n",
      "=================================================================\n",
      " conv3d_16 (Conv3D)          (None, 30, 120, 120, 8)   200       \n",
      "                                                                 \n",
      " batch_normalization_12 (Bat  (None, 30, 120, 120, 8)  32        \n",
      " chNormalization)                                                \n",
      "                                                                 \n",
      " activation_16 (Activation)  (None, 30, 120, 120, 8)   0         \n",
      "                                                                 \n",
      " max_pooling3d_16 (MaxPoolin  (None, 15, 60, 60, 8)    0         \n",
      " g3D)                                                            \n",
      "                                                                 \n",
      " conv3d_17 (Conv3D)          (None, 15, 60, 60, 16)    1040      \n",
      "                                                                 \n",
      " batch_normalization_13 (Bat  (None, 15, 60, 60, 16)   64        \n",
      " chNormalization)                                                \n",
      "                                                                 \n",
      " activation_17 (Activation)  (None, 15, 60, 60, 16)    0         \n",
      "                                                                 \n",
      " max_pooling3d_17 (MaxPoolin  (None, 7, 30, 30, 16)    0         \n",
      " g3D)                                                            \n",
      "                                                                 \n",
      " conv3d_18 (Conv3D)          (None, 7, 30, 30, 32)     2080      \n",
      "                                                                 \n",
      " batch_normalization_14 (Bat  (None, 7, 30, 30, 32)    128       \n",
      " chNormalization)                                                \n",
      "                                                                 \n",
      " activation_18 (Activation)  (None, 7, 30, 30, 32)     0         \n",
      "                                                                 \n",
      " max_pooling3d_18 (MaxPoolin  (None, 3, 15, 15, 32)    0         \n",
      " g3D)                                                            \n",
      "                                                                 \n",
      " conv3d_19 (Conv3D)          (None, 3, 15, 15, 64)     8256      \n",
      "                                                                 \n",
      " activation_19 (Activation)  (None, 3, 15, 15, 64)     0         \n",
      "                                                                 \n",
      " dropout_6 (Dropout)         (None, 3, 15, 15, 64)     0         \n",
      "                                                                 \n",
      " max_pooling3d_19 (MaxPoolin  (None, 1, 7, 7, 64)      0         \n",
      " g3D)                                                            \n",
      "                                                                 \n",
      " flatten_4 (Flatten)         (None, 3136)              0         \n",
      "                                                                 \n",
      " dense_12 (Dense)            (None, 256)               803072    \n",
      "                                                                 \n",
      " dropout_7 (Dropout)         (None, 256)               0         \n",
      "                                                                 \n",
      " dense_13 (Dense)            (None, 128)               32896     \n",
      "                                                                 \n",
      " dropout_8 (Dropout)         (None, 128)               0         \n",
      "                                                                 \n",
      " dense_14 (Dense)            (None, 5)                 645       \n",
      "                                                                 \n",
      "=================================================================\n",
      "Total params: 848,413\n",
      "Trainable params: 848,301\n",
      "Non-trainable params: 112\n",
      "_________________________________________________________________\n",
      "None\n"
     ]
    }
   ],
   "source": [
    "# Define Optimizer\n",
    "optimiser = Adam()\n",
    "model.compile(optimizer=optimiser, loss='categorical_crossentropy', metrics=['categorical_accuracy'])\n",
    "print (model.summary())"
   ]
  },
  {
   "cell_type": "code",
   "execution_count": null,
   "metadata": {
    "colab": {
     "base_uri": "https://localhost:8080/"
    },
    "id": "RKIc0XV_Jhp5",
    "outputId": "3170fa3c-528c-41ce-bdec-98352d2014e3"
   },
   "outputs": [
    {
     "name": "stdout",
     "output_type": "stream",
     "text": [
      "# training sequences = 663\n",
      "# validation sequences = 100\n",
      "batch_size = 32\n",
      "# epochs = 15\n",
      "# steps per epoch  21\n",
      "# validation steps  4\n",
      "Input Shape  (30, 120, 120, 3)\n"
     ]
    }
   ],
   "source": [
    "# Setting batch_size and num_epochs\n",
    "(train_generator, val_generator, steps_per_epoch, validation_steps, num_epochs) = gen(batch_size = 32, epochs = 15, input_shape = input_shape)"
   ]
  },
  {
   "cell_type": "code",
   "execution_count": null,
   "metadata": {
    "colab": {
     "base_uri": "https://localhost:8080/"
    },
    "id": "nW2VFtBAGUbc",
    "outputId": "586e3116-016e-433a-e926-90d06ec865bd"
   },
   "outputs": [
    {
     "name": "stdout",
     "output_type": "stream",
     "text": [
      "Source path =  /content/drive/MyDrive/Project_data/train  ; batch size = 32\n",
      "Epoch 1/15\n",
      "21/21 [==============================] - ETA: 0s - loss: 1.9117 - categorical_accuracy: 0.2911Source path =  /content/drive/MyDrive/Project_data/val ; batch size = 32\n",
      "\n",
      "Epoch 1: saving model to model_init_2022-08-1113_02_18.794768/model-00001-1.91175-0.29110-1.44415-0.27000.h5\n",
      "21/21 [==============================] - 80s 4s/step - loss: 1.9117 - categorical_accuracy: 0.2911 - val_loss: 1.4441 - val_categorical_accuracy: 0.2700 - lr: 0.0010\n",
      "Epoch 2/15\n",
      "21/21 [==============================] - ETA: 0s - loss: 1.2438 - categorical_accuracy: 0.4865\n",
      "Epoch 2: saving model to model_init_2022-08-1113_02_18.794768/model-00002-1.24379-0.48654-1.79260-0.37500.h5\n",
      "21/21 [==============================] - 50s 3s/step - loss: 1.2438 - categorical_accuracy: 0.4865 - val_loss: 1.7926 - val_categorical_accuracy: 0.3750 - lr: 0.0010\n",
      "Epoch 3/15\n",
      "21/21 [==============================] - ETA: 0s - loss: 1.0117 - categorical_accuracy: 0.5902\n",
      "Epoch 3: saving model to model_init_2022-08-1113_02_18.794768/model-00003-1.01165-0.59016-1.25098-0.43750.h5\n",
      "21/21 [==============================] - 46s 2s/step - loss: 1.0117 - categorical_accuracy: 0.5902 - val_loss: 1.2510 - val_categorical_accuracy: 0.4375 - lr: 0.0010\n",
      "Epoch 4/15\n",
      "21/21 [==============================] - ETA: 0s - loss: 0.8340 - categorical_accuracy: 0.6667\n",
      "Epoch 4: saving model to model_init_2022-08-1113_02_18.794768/model-00004-0.83396-0.66667-1.17804-0.43750.h5\n",
      "21/21 [==============================] - 43s 2s/step - loss: 0.8340 - categorical_accuracy: 0.6667 - val_loss: 1.1780 - val_categorical_accuracy: 0.4375 - lr: 0.0010\n",
      "Epoch 5/15\n",
      "21/21 [==============================] - ETA: 0s - loss: 0.6211 - categorical_accuracy: 0.7703\n",
      "Epoch 5: saving model to model_init_2022-08-1113_02_18.794768/model-00005-0.62112-0.77031-1.24705-0.37500.h5\n",
      "21/21 [==============================] - 37s 2s/step - loss: 0.6211 - categorical_accuracy: 0.7703 - val_loss: 1.2470 - val_categorical_accuracy: 0.3750 - lr: 0.0010\n",
      "Epoch 6/15\n",
      "21/21 [==============================] - ETA: 0s - loss: 0.6509 - categorical_accuracy: 0.7675\n",
      "Epoch 6: saving model to model_init_2022-08-1113_02_18.794768/model-00006-0.65086-0.76751-1.01614-0.68750.h5\n",
      "21/21 [==============================] - 40s 2s/step - loss: 0.6509 - categorical_accuracy: 0.7675 - val_loss: 1.0161 - val_categorical_accuracy: 0.6875 - lr: 0.0010\n",
      "Epoch 7/15\n",
      "21/21 [==============================] - ETA: 0s - loss: 0.5471 - categorical_accuracy: 0.8039\n",
      "Epoch 7: saving model to model_init_2022-08-1113_02_18.794768/model-00007-0.54707-0.80392-1.18508-0.50000.h5\n",
      "21/21 [==============================] - 38s 2s/step - loss: 0.5471 - categorical_accuracy: 0.8039 - val_loss: 1.1851 - val_categorical_accuracy: 0.5000 - lr: 0.0010\n",
      "Epoch 8/15\n",
      "21/21 [==============================] - ETA: 0s - loss: 0.4175 - categorical_accuracy: 0.8347\n",
      "Epoch 8: saving model to model_init_2022-08-1113_02_18.794768/model-00008-0.41751-0.83473-0.88373-0.62500.h5\n",
      "21/21 [==============================] - 39s 2s/step - loss: 0.4175 - categorical_accuracy: 0.8347 - val_loss: 0.8837 - val_categorical_accuracy: 0.6250 - lr: 0.0010\n",
      "Epoch 9/15\n",
      "21/21 [==============================] - ETA: 0s - loss: 0.3247 - categorical_accuracy: 0.8796\n",
      "Epoch 9: saving model to model_init_2022-08-1113_02_18.794768/model-00009-0.32472-0.87955-0.18688-1.00000.h5\n",
      "21/21 [==============================] - 39s 2s/step - loss: 0.3247 - categorical_accuracy: 0.8796 - val_loss: 0.1869 - val_categorical_accuracy: 1.0000 - lr: 0.0010\n",
      "Epoch 10/15\n",
      "21/21 [==============================] - ETA: 0s - loss: 0.2501 - categorical_accuracy: 0.9188\n",
      "Epoch 10: saving model to model_init_2022-08-1113_02_18.794768/model-00010-0.25009-0.91877-0.94002-0.62500.h5\n",
      "21/21 [==============================] - 38s 2s/step - loss: 0.2501 - categorical_accuracy: 0.9188 - val_loss: 0.9400 - val_categorical_accuracy: 0.6250 - lr: 0.0010\n",
      "Epoch 11/15\n",
      "21/21 [==============================] - ETA: 0s - loss: 0.1793 - categorical_accuracy: 0.9328\n",
      "Epoch 11: saving model to model_init_2022-08-1113_02_18.794768/model-00011-0.17925-0.93277-1.42725-0.50000.h5\n",
      "\n",
      "Epoch 11: ReduceLROnPlateau reducing learning rate to 0.0005000000237487257.\n",
      "21/21 [==============================] - 39s 2s/step - loss: 0.1793 - categorical_accuracy: 0.9328 - val_loss: 1.4273 - val_categorical_accuracy: 0.5000 - lr: 0.0010\n",
      "Epoch 12/15\n",
      "21/21 [==============================] - ETA: 0s - loss: 0.1515 - categorical_accuracy: 0.9328\n",
      "Epoch 12: saving model to model_init_2022-08-1113_02_18.794768/model-00012-0.15148-0.93277-0.38065-0.87500.h5\n",
      "21/21 [==============================] - 38s 2s/step - loss: 0.1515 - categorical_accuracy: 0.9328 - val_loss: 0.3806 - val_categorical_accuracy: 0.8750 - lr: 5.0000e-04\n",
      "Epoch 12: early stopping\n"
     ]
    },
    {
     "data": {
      "text/plain": [
       "<keras.callbacks.History at 0x7f600ee4b590>"
      ]
     },
     "execution_count": 42,
     "metadata": {},
     "output_type": "execute_result"
    }
   ],
   "source": [
    "# Fitting the model\n",
    "model.fit(train_generator, steps_per_epoch=steps_per_epoch, epochs=num_epochs, verbose=1, \n",
    "                    callbacks=callbacks_list, validation_data=val_generator, \n",
    "                    validation_steps=validation_steps, class_weight=None, workers=1, initial_epoch=0)"
   ]
  },
  {
   "cell_type": "code",
   "execution_count": null,
   "metadata": {
    "colab": {
     "base_uri": "https://localhost:8080/",
     "height": 265
    },
    "id": "0ACbL9DoG4Tb",
    "outputId": "5ea1bee6-f6b4-4bee-d9d8-1a61ea3dc522"
   },
   "outputs": [
    {
     "data": {
      "image/png": "[encoded data removed]",
      "text/plain": [
       "<Figure size 1080x288 with 2 Axes>"
      ]
     },
     "metadata": {
      "needs_background": "light"
     },
     "output_type": "display_data"
    }
   ],
   "source": [
    "# Plotting the model\n",
    "plot(model)"
   ]
  },
  {
   "cell_type": "markdown",
   "metadata": {
    "id": "ZutTUh0SUfkw"
   },
   "source": [
    "**This model has given us the best results so far. Let's experiment some more to see if thigs can get better than this one.**"
   ]
  },
  {
   "cell_type": "markdown",
   "metadata": {
    "id": "Rq2MqUK8IBnp"
   },
   "source": [
    "## Model 6: Conv3D\n",
    "\n",
    "This model is another variation of Model 4. In this model, we have added dropout layers with a dropout value of 0.50. "
   ]
  },
  {
   "cell_type": "code",
   "execution_count": null,
   "metadata": {
    "id": "6pU8zRs2IBG0"
   },
   "outputs": [],
   "source": [
    "# Input Shape of the image in the format: (number of frames, image height, image width, number of channels)\n",
    "input_shape=(30,120,120,3)\n",
    "\n",
    "# Model Architecture\n",
    "model = Sequential()\n",
    "\n",
    "model.add(Conv3D(nb_filters[0], \n",
    "                 kernel_size=(2,2,2), \n",
    "                 input_shape=input_shape,\n",
    "                 padding='same'))\n",
    "model.add(BatchNormalization())\n",
    "model.add(Activation('relu'))\n",
    "\n",
    "model.add(MaxPooling3D(pool_size=(2,2,2)))\n",
    "\n",
    "model.add(Conv3D(nb_filters[1], \n",
    "                 kernel_size=(2,2,2), \n",
    "                 padding='same'))\n",
    "model.add(BatchNormalization())\n",
    "model.add(Activation('relu'))\n",
    "\n",
    "model.add(MaxPooling3D(pool_size=(2,2,2)))\n",
    "\n",
    "model.add(Conv3D(nb_filters[2], \n",
    "                 kernel_size=(1,2,2), \n",
    "                 padding='same'))\n",
    "model.add(BatchNormalization())\n",
    "model.add(Activation('relu'))\n",
    "\n",
    "model.add(MaxPooling3D(pool_size=(2,2,2)))\n",
    "\n",
    "model.add(Conv3D(nb_filters[3], \n",
    "                 kernel_size=(1,2,2), \n",
    "                 padding='same'))\n",
    "model.add(Activation('relu'))\n",
    "model.add(Dropout(0.50))\n",
    "\n",
    "model.add(MaxPooling3D(pool_size=(2,2,2)))\n",
    "\n",
    "#Flatten Layers\n",
    "model.add(Flatten())\n",
    "\n",
    "model.add(Dense(nb_dense[0], activation='relu'))\n",
    "model.add(Dropout(0.50))\n",
    "\n",
    "model.add(Dense(nb_dense[1], activation='relu'))\n",
    "model.add(Dropout(0.50))\n",
    "\n",
    "#softmax layer\n",
    "model.add(Dense(nb_dense[2], activation='softmax'))"
   ]
  },
  {
   "cell_type": "code",
   "execution_count": null,
   "metadata": {
    "colab": {
     "base_uri": "https://localhost:8080/"
    },
    "id": "C5YT89loIA4x",
    "outputId": "d3bd8c5c-fc6e-428a-ffd6-9a008db28be0"
   },
   "outputs": [
    {
     "name": "stdout",
     "output_type": "stream",
     "text": [
      "Model: \"sequential_5\"\n",
      "_________________________________________________________________\n",
      " Layer (type)                Output Shape              Param #   \n",
      "=================================================================\n",
      " conv3d_20 (Conv3D)          (None, 30, 120, 120, 8)   200       \n",
      "                                                                 \n",
      " batch_normalization_15 (Bat  (None, 30, 120, 120, 8)  32        \n",
      " chNormalization)                                                \n",
      "                                                                 \n",
      " activation_20 (Activation)  (None, 30, 120, 120, 8)   0         \n",
      "                                                                 \n",
      " max_pooling3d_20 (MaxPoolin  (None, 15, 60, 60, 8)    0         \n",
      " g3D)                                                            \n",
      "                                                                 \n",
      " conv3d_21 (Conv3D)          (None, 15, 60, 60, 16)    1040      \n",
      "                                                                 \n",
      " batch_normalization_16 (Bat  (None, 15, 60, 60, 16)   64        \n",
      " chNormalization)                                                \n",
      "                                                                 \n",
      " activation_21 (Activation)  (None, 15, 60, 60, 16)    0         \n",
      "                                                                 \n",
      " max_pooling3d_21 (MaxPoolin  (None, 7, 30, 30, 16)    0         \n",
      " g3D)                                                            \n",
      "                                                                 \n",
      " conv3d_22 (Conv3D)          (None, 7, 30, 30, 32)     2080      \n",
      "                                                                 \n",
      " batch_normalization_17 (Bat  (None, 7, 30, 30, 32)    128       \n",
      " chNormalization)                                                \n",
      "                                                                 \n",
      " activation_22 (Activation)  (None, 7, 30, 30, 32)     0         \n",
      "                                                                 \n",
      " max_pooling3d_22 (MaxPoolin  (None, 3, 15, 15, 32)    0         \n",
      " g3D)                                                            \n",
      "                                                                 \n",
      " conv3d_23 (Conv3D)          (None, 3, 15, 15, 64)     8256      \n",
      "                                                                 \n",
      " activation_23 (Activation)  (None, 3, 15, 15, 64)     0         \n",
      "                                                                 \n",
      " dropout_9 (Dropout)         (None, 3, 15, 15, 64)     0         \n",
      "                                                                 \n",
      " max_pooling3d_23 (MaxPoolin  (None, 1, 7, 7, 64)      0         \n",
      " g3D)                                                            \n",
      "                                                                 \n",
      " flatten_5 (Flatten)         (None, 3136)              0         \n",
      "                                                                 \n",
      " dense_15 (Dense)            (None, 256)               803072    \n",
      "                                                                 \n",
      " dropout_10 (Dropout)        (None, 256)               0         \n",
      "                                                                 \n",
      " dense_16 (Dense)            (None, 128)               32896     \n",
      "                                                                 \n",
      " dropout_11 (Dropout)        (None, 128)               0         \n",
      "                                                                 \n",
      " dense_17 (Dense)            (None, 5)                 645       \n",
      "                                                                 \n",
      "=================================================================\n",
      "Total params: 848,413\n",
      "Trainable params: 848,301\n",
      "Non-trainable params: 112\n",
      "_________________________________________________________________\n",
      "None\n"
     ]
    }
   ],
   "source": [
    "# Define Optimizer\n",
    "optimiser = Adam() \n",
    "model.compile(optimizer=optimiser, loss='categorical_crossentropy', metrics=['categorical_accuracy'])\n",
    "print (model.summary())"
   ]
  },
  {
   "cell_type": "code",
   "execution_count": null,
   "metadata": {
    "colab": {
     "base_uri": "https://localhost:8080/"
    },
    "id": "4lTUN0eIwhA7",
    "outputId": "206ce93b-b0ed-4ba0-e1b2-763f43dde646"
   },
   "outputs": [
    {
     "name": "stdout",
     "output_type": "stream",
     "text": [
      "# training sequences = 663\n",
      "# validation sequences = 100\n",
      "batch_size = 32\n",
      "# epochs = 15\n",
      "# steps per epoch  21\n",
      "# validation steps  4\n",
      "Input Shape  (30, 120, 120, 3)\n"
     ]
    }
   ],
   "source": [
    "# Setting batch_size and num_epochs\n",
    "(train_generator, val_generator, steps_per_epoch, validation_steps, num_epochs) = gen(batch_size = 32, epochs = 15, input_shape = input_shape)"
   ]
  },
  {
   "cell_type": "code",
   "execution_count": null,
   "metadata": {
    "colab": {
     "base_uri": "https://localhost:8080/"
    },
    "id": "9qD98n57IArR",
    "outputId": "9c024c37-71de-4a0e-dc84-ce713f3bf7e8"
   },
   "outputs": [
    {
     "name": "stdout",
     "output_type": "stream",
     "text": [
      "Source path =  /content/drive/MyDrive/Project_data/train  ; batch size = 32\n",
      "Epoch 1/15\n",
      "21/21 [==============================] - ETA: 0s - loss: 2.8900 - categorical_accuracy: 0.2127Source path =  /content/drive/MyDrive/Project_data/val ; batch size = 32\n",
      "\n",
      "Epoch 1: saving model to model_init_2022-08-1113_02_18.794768/model-00001-2.89000-0.21267-1.61323-0.22000.h5\n",
      "21/21 [==============================] - 80s 4s/step - loss: 2.8900 - categorical_accuracy: 0.2127 - val_loss: 1.6132 - val_categorical_accuracy: 0.2200 - lr: 0.0010\n",
      "Epoch 2/15\n",
      "21/21 [==============================] - ETA: 0s - loss: 1.4985 - categorical_accuracy: 0.3209\n",
      "Epoch 2: saving model to model_init_2022-08-1113_02_18.794768/model-00002-1.49852-0.32091-1.92195-0.31250.h5\n",
      "21/21 [==============================] - 52s 3s/step - loss: 1.4985 - categorical_accuracy: 0.3209 - val_loss: 1.9220 - val_categorical_accuracy: 0.3125 - lr: 0.0010\n",
      "Epoch 3/15\n",
      "21/21 [==============================] - ETA: 0s - loss: 1.4835 - categorical_accuracy: 0.3349\n",
      "Epoch 3: saving model to model_init_2022-08-1113_02_18.794768/model-00003-1.48354-0.33489-1.75348-0.25000.h5\n",
      "\n",
      "Epoch 3: ReduceLROnPlateau reducing learning rate to 0.0005000000237487257.\n",
      "21/21 [==============================] - 45s 2s/step - loss: 1.4835 - categorical_accuracy: 0.3349 - val_loss: 1.7535 - val_categorical_accuracy: 0.2500 - lr: 0.0010\n",
      "Epoch 4/15\n",
      "21/21 [==============================] - ETA: 0s - loss: 1.3512 - categorical_accuracy: 0.4737\n",
      "Epoch 4: saving model to model_init_2022-08-1113_02_18.794768/model-00004-1.35121-0.47368-2.08539-0.25000.h5\n",
      "21/21 [==============================] - 43s 2s/step - loss: 1.3512 - categorical_accuracy: 0.4737 - val_loss: 2.0854 - val_categorical_accuracy: 0.2500 - lr: 5.0000e-04\n",
      "Epoch 5/15\n",
      "21/21 [==============================] - ETA: 0s - loss: 1.2655 - categorical_accuracy: 0.4818\n",
      "Epoch 5: saving model to model_init_2022-08-1113_02_18.794768/model-00005-1.26547-0.48179-1.61440-0.18750.h5\n",
      "\n",
      "Epoch 5: ReduceLROnPlateau reducing learning rate to 0.0002500000118743628.\n",
      "21/21 [==============================] - 38s 2s/step - loss: 1.2655 - categorical_accuracy: 0.4818 - val_loss: 1.6144 - val_categorical_accuracy: 0.1875 - lr: 5.0000e-04\n",
      "Epoch 5: early stopping\n"
     ]
    },
    {
     "data": {
      "text/plain": [
       "<keras.callbacks.History at 0x7f600eecbf50>"
      ]
     },
     "execution_count": 47,
     "metadata": {},
     "output_type": "execute_result"
    }
   ],
   "source": [
    "# Fitting the model\n",
    "model.fit(train_generator, steps_per_epoch=steps_per_epoch, epochs=num_epochs, verbose=1, \n",
    "                    callbacks=callbacks_list, validation_data=val_generator, \n",
    "                    validation_steps=validation_steps, class_weight=None, workers=1, initial_epoch=0)"
   ]
  },
  {
   "cell_type": "code",
   "execution_count": null,
   "metadata": {
    "colab": {
     "base_uri": "https://localhost:8080/",
     "height": 265
    },
    "id": "V11JXzYAKZH8",
    "outputId": "ed1ddf1d-ab54-4359-e869-bfe420a2138d"
   },
   "outputs": [
    {
     "data": {
      "image/png": "[encoded data removed]",
      "text/plain": [
       "<Figure size 1080x288 with 2 Axes>"
      ]
     },
     "metadata": {
      "needs_background": "light"
     },
     "output_type": "display_data"
    }
   ],
   "source": [
    "# Plotting the model\n",
    "plot(model)"
   ]
  },
  {
   "cell_type": "markdown",
   "metadata": {
    "id": "mXz-DI9ki_BB"
   },
   "source": [
    "**We haven't seen any appreciable improvements in the results. Let's experiment with some other aspects.**"
   ]
  },
  {
   "cell_type": "markdown",
   "metadata": {
    "id": "oGdXm-2opEXs"
   },
   "source": [
    "## Model 7: Conv3D\n",
    "\n",
    "In an attempt to reduce the number of parameters, we have reduced the number of frames to 16, decreased the batch size to 20 and reduced the size of the filter in the subsequent layers."
   ]
  },
  {
   "cell_type": "code",
   "execution_count": null,
   "metadata": {
    "id": "XrqjWkTupRem"
   },
   "outputs": [],
   "source": [
    "# Input Shape of the image in the format: (number of frames, image height, image width, number of channels)\n",
    "input_shape = (16, 120, 120, 3)\n",
    "\n",
    "model = Sequential()\n",
    "\n",
    "model.add(Conv3D(nb_filters[0], \n",
    "                 kernel_size=(3,3,3), \n",
    "                 input_shape=input_shape,\n",
    "                 padding='same'))\n",
    "model.add(BatchNormalization())\n",
    "model.add(Activation('relu'))\n",
    "\n",
    "model.add(MaxPooling3D(pool_size=(2,2,2)))\n",
    "\n",
    "model.add(Conv3D(nb_filters[1], \n",
    "                 kernel_size=(2,2,2), \n",
    "                 padding='same'))\n",
    "model.add(BatchNormalization())\n",
    "model.add(Activation('relu'))\n",
    "\n",
    "model.add(MaxPooling3D(pool_size=(2,2,2)))\n",
    "\n",
    "model.add(Conv3D(nb_filters[2], \n",
    "                 kernel_size=(1,2,2), \n",
    "                 padding='same'))\n",
    "model.add(BatchNormalization())\n",
    "model.add(Activation('relu'))\n",
    "\n",
    "model.add(MaxPooling3D(pool_size=(2,2,2)))\n",
    "\n",
    "model.add(Conv3D(nb_filters[3], \n",
    "                 kernel_size=(1,2,2), \n",
    "                 padding='same'))\n",
    "model.add(Activation('relu'))\n",
    "\n",
    "\n",
    "model.add(MaxPooling3D(pool_size=(2,2,2)))\n",
    "\n",
    "#Flatten Layers\n",
    "model.add(Flatten())\n",
    "\n",
    "model.add(Dense(128, activation='relu'))\n",
    "model.add(BatchNormalization())\n",
    "model.add(Dropout(0.25))\n",
    "\n",
    "model.add(Dense(128, activation='relu'))\n",
    "model.add(BatchNormalization())\n",
    "model.add(Dropout(0.25))\n",
    "\n",
    "\n",
    "#softmax layer\n",
    "model.add(Dense(nb_dense[2], activation='softmax'))"
   ]
  },
  {
   "cell_type": "code",
   "execution_count": null,
   "metadata": {
    "colab": {
     "base_uri": "https://localhost:8080/"
    },
    "id": "693V-gQowpbu",
    "outputId": "698936db-5033-4634-e403-65108b2d0449"
   },
   "outputs": [
    {
     "name": "stdout",
     "output_type": "stream",
     "text": [
      "Model: \"sequential_7\"\n",
      "_________________________________________________________________\n",
      " Layer (type)                Output Shape              Param #   \n",
      "=================================================================\n",
      " conv3d_24 (Conv3D)          (None, 16, 120, 120, 8)   656       \n",
      "                                                                 \n",
      " batch_normalization_18 (Bat  (None, 16, 120, 120, 8)  32        \n",
      " chNormalization)                                                \n",
      "                                                                 \n",
      " activation_24 (Activation)  (None, 16, 120, 120, 8)   0         \n",
      "                                                                 \n",
      " max_pooling3d_24 (MaxPoolin  (None, 8, 60, 60, 8)     0         \n",
      " g3D)                                                            \n",
      "                                                                 \n",
      " conv3d_25 (Conv3D)          (None, 8, 60, 60, 16)     1040      \n",
      "                                                                 \n",
      " batch_normalization_19 (Bat  (None, 8, 60, 60, 16)    64        \n",
      " chNormalization)                                                \n",
      "                                                                 \n",
      " activation_25 (Activation)  (None, 8, 60, 60, 16)     0         \n",
      "                                                                 \n",
      " max_pooling3d_25 (MaxPoolin  (None, 4, 30, 30, 16)    0         \n",
      " g3D)                                                            \n",
      "                                                                 \n",
      " conv3d_26 (Conv3D)          (None, 4, 30, 30, 32)     2080      \n",
      "                                                                 \n",
      " batch_normalization_20 (Bat  (None, 4, 30, 30, 32)    128       \n",
      " chNormalization)                                                \n",
      "                                                                 \n",
      " activation_26 (Activation)  (None, 4, 30, 30, 32)     0         \n",
      "                                                                 \n",
      " max_pooling3d_26 (MaxPoolin  (None, 2, 15, 15, 32)    0         \n",
      " g3D)                                                            \n",
      "                                                                 \n",
      " conv3d_27 (Conv3D)          (None, 2, 15, 15, 64)     8256      \n",
      "                                                                 \n",
      " activation_27 (Activation)  (None, 2, 15, 15, 64)     0         \n",
      "                                                                 \n",
      " max_pooling3d_27 (MaxPoolin  (None, 1, 7, 7, 64)      0         \n",
      " g3D)                                                            \n",
      "                                                                 \n",
      " flatten_6 (Flatten)         (None, 3136)              0         \n",
      "                                                                 \n",
      " dense_18 (Dense)            (None, 128)               401536    \n",
      "                                                                 \n",
      " batch_normalization_21 (Bat  (None, 128)              512       \n",
      " chNormalization)                                                \n",
      "                                                                 \n",
      " dropout_12 (Dropout)        (None, 128)               0         \n",
      "                                                                 \n",
      " dense_19 (Dense)            (None, 128)               16512     \n",
      "                                                                 \n",
      " batch_normalization_22 (Bat  (None, 128)              512       \n",
      " chNormalization)                                                \n",
      "                                                                 \n",
      " dropout_13 (Dropout)        (None, 128)               0         \n",
      "                                                                 \n",
      " dense_20 (Dense)            (None, 5)                 645       \n",
      "                                                                 \n",
      "=================================================================\n",
      "Total params: 431,973\n",
      "Trainable params: 431,349\n",
      "Non-trainable params: 624\n",
      "_________________________________________________________________\n",
      "None\n"
     ]
    }
   ],
   "source": [
    "# Defining the optimizer\n",
    "optimiser = Adam()\n",
    "model.compile(optimizer=optimiser, loss='categorical_crossentropy', metrics=['categorical_accuracy'])\n",
    "print (model.summary())"
   ]
  },
  {
   "cell_type": "code",
   "execution_count": null,
   "metadata": {
    "colab": {
     "base_uri": "https://localhost:8080/"
    },
    "id": "novNCZkJkEpz",
    "outputId": "df5054fb-c013-4fe5-caa8-1581dce6107f"
   },
   "outputs": [
    {
     "name": "stdout",
     "output_type": "stream",
     "text": [
      "# training sequences = 663\n",
      "# validation sequences = 100\n",
      "batch_size = 20\n",
      "# epochs = 20\n",
      "# steps per epoch  34\n",
      "# validation steps  5\n",
      "Input Shape  (16, 120, 120, 3)\n"
     ]
    }
   ],
   "source": [
    "# Setting batch_size and num_epochs\n",
    "(train_generator, val_generator, steps_per_epoch, validation_steps, num_epochs) = gen(batch_size = 20, epochs = 20, input_shape = input_shape)"
   ]
  },
  {
   "cell_type": "code",
   "execution_count": null,
   "metadata": {
    "colab": {
     "base_uri": "https://localhost:8080/"
    },
    "id": "7YF3ggK_w2DU",
    "outputId": "a8d99686-5245-440a-88de-011fa5d6c705"
   },
   "outputs": [
    {
     "name": "stdout",
     "output_type": "stream",
     "text": [
      "Source path =  /content/drive/MyDrive/Project_data/train  ; batch size = 20\n",
      "Epoch 1/20\n",
      "34/34 [==============================] - ETA: 0s - loss: 1.5222 - categorical_accuracy: 0.4253Source path =  /content/drive/MyDrive/Project_data/val ; batch size = 20\n",
      "\n",
      "Epoch 1: saving model to model_init_2022-08-1113_02_18.794768/model-00001-1.52216-0.42534-4.28741-0.22000.h5\n",
      "34/34 [==============================] - 46s 1s/step - loss: 1.5222 - categorical_accuracy: 0.4253 - val_loss: 4.2874 - val_categorical_accuracy: 0.2200 - lr: 0.0010\n",
      "Epoch 2/20\n",
      "34/34 [==============================] - ETA: 0s - loss: 1.4060 - categorical_accuracy: 0.4804\n",
      "Epoch 2: saving model to model_init_2022-08-1113_02_18.794768/model-00002-1.40601-0.48039-4.02499-0.18000.h5\n",
      "34/34 [==============================] - 13s 408ms/step - loss: 1.4060 - categorical_accuracy: 0.4804 - val_loss: 4.0250 - val_categorical_accuracy: 0.1800 - lr: 0.0010\n",
      "Epoch 3/20\n",
      "34/34 [==============================] - ETA: 0s - loss: 1.5696 - categorical_accuracy: 0.4608\n",
      "Epoch 3: saving model to model_init_2022-08-1113_02_18.794768/model-00003-1.56956-0.46078-3.73504-0.19000.h5\n",
      "34/34 [==============================] - 13s 397ms/step - loss: 1.5696 - categorical_accuracy: 0.4608 - val_loss: 3.7350 - val_categorical_accuracy: 0.1900 - lr: 0.0010\n",
      "Epoch 4/20\n",
      "34/34 [==============================] - ETA: 0s - loss: 1.8720 - categorical_accuracy: 0.2941\n",
      "Epoch 4: saving model to model_init_2022-08-1113_02_18.794768/model-00004-1.87199-0.29412-1.99273-0.35000.h5\n",
      "34/34 [==============================] - 13s 395ms/step - loss: 1.8720 - categorical_accuracy: 0.2941 - val_loss: 1.9927 - val_categorical_accuracy: 0.3500 - lr: 0.0010\n",
      "Epoch 5/20\n",
      "34/34 [==============================] - ETA: 0s - loss: 1.3168 - categorical_accuracy: 0.4706\n",
      "Epoch 5: saving model to model_init_2022-08-1113_02_18.794768/model-00005-1.31682-0.47059-2.97637-0.18000.h5\n",
      "34/34 [==============================] - 14s 414ms/step - loss: 1.3168 - categorical_accuracy: 0.4706 - val_loss: 2.9764 - val_categorical_accuracy: 0.1800 - lr: 0.0010\n",
      "Epoch 6/20\n",
      "34/34 [==============================] - ETA: 0s - loss: 1.8145 - categorical_accuracy: 0.3333\n",
      "Epoch 6: saving model to model_init_2022-08-1113_02_18.794768/model-00006-1.81446-0.33333-3.74151-0.18000.h5\n",
      "\n",
      "Epoch 6: ReduceLROnPlateau reducing learning rate to 0.0005000000237487257.\n",
      "34/34 [==============================] - 14s 421ms/step - loss: 1.8145 - categorical_accuracy: 0.3333 - val_loss: 3.7415 - val_categorical_accuracy: 0.1800 - lr: 0.0010\n",
      "Epoch 7/20\n",
      "34/34 [==============================] - ETA: 0s - loss: 1.4200 - categorical_accuracy: 0.4608\n",
      "Epoch 7: saving model to model_init_2022-08-1113_02_18.794768/model-00007-1.41997-0.46078-1.90584-0.38000.h5\n",
      "34/34 [==============================] - 14s 417ms/step - loss: 1.4200 - categorical_accuracy: 0.4608 - val_loss: 1.9058 - val_categorical_accuracy: 0.3800 - lr: 5.0000e-04\n",
      "Epoch 8/20\n",
      "34/34 [==============================] - ETA: 0s - loss: 1.5046 - categorical_accuracy: 0.3922\n",
      "Epoch 8: saving model to model_init_2022-08-1113_02_18.794768/model-00008-1.50463-0.39216-3.47708-0.31000.h5\n",
      "34/34 [==============================] - 13s 395ms/step - loss: 1.5046 - categorical_accuracy: 0.3922 - val_loss: 3.4771 - val_categorical_accuracy: 0.3100 - lr: 5.0000e-04\n",
      "Epoch 9/20\n",
      "34/34 [==============================] - ETA: 0s - loss: 1.3725 - categorical_accuracy: 0.4412\n",
      "Epoch 9: saving model to model_init_2022-08-1113_02_18.794768/model-00009-1.37245-0.44118-2.98158-0.32000.h5\n",
      "\n",
      "Epoch 9: ReduceLROnPlateau reducing learning rate to 0.0002500000118743628.\n",
      "34/34 [==============================] - 14s 436ms/step - loss: 1.3725 - categorical_accuracy: 0.4412 - val_loss: 2.9816 - val_categorical_accuracy: 0.3200 - lr: 5.0000e-04\n",
      "Epoch 10/20\n",
      "34/34 [==============================] - ETA: 0s - loss: 1.5633 - categorical_accuracy: 0.4020\n",
      "Epoch 10: saving model to model_init_2022-08-1113_02_18.794768/model-00010-1.56333-0.40196-2.20321-0.33000.h5\n",
      "34/34 [==============================] - 14s 411ms/step - loss: 1.5633 - categorical_accuracy: 0.4020 - val_loss: 2.2032 - val_categorical_accuracy: 0.3300 - lr: 2.5000e-04\n",
      "Epoch 10: early stopping\n"
     ]
    },
    {
     "data": {
      "text/plain": [
       "<keras.callbacks.History at 0x7f600e198a10>"
      ]
     },
     "execution_count": 54,
     "metadata": {},
     "output_type": "execute_result"
    }
   ],
   "source": [
    "# Fitting the model\n",
    "model.fit(train_generator, steps_per_epoch=steps_per_epoch, epochs=num_epochs, verbose=1, \n",
    "                    callbacks=callbacks_list, validation_data=val_generator, \n",
    "                    validation_steps=validation_steps, class_weight=None, workers=1, initial_epoch=0)"
   ]
  },
  {
   "cell_type": "code",
   "execution_count": null,
   "metadata": {
    "colab": {
     "base_uri": "https://localhost:8080/",
     "height": 265
    },
    "id": "G5QOkHFh4bZg",
    "outputId": "d51848c7-c1ab-42d0-9f56-bda34a4b8af0"
   },
   "outputs": [
    {
     "data": {
      "image/png": "[encoded data removed]",
      "text/plain": [
       "<Figure size 1080x288 with 2 Axes>"
      ]
     },
     "metadata": {
      "needs_background": "light"
     },
     "output_type": "display_data"
    }
   ],
   "source": [
    "# Plotting the results\n",
    "plot(model)"
   ]
  },
  {
   "cell_type": "markdown",
   "metadata": {
    "id": "boK6NJXVYa34"
   },
   "source": [
    "**The performance given by this model isn't up to what we expected. Moving on to the next architecture.**"
   ]
  },
  {
   "cell_type": "markdown",
   "metadata": {
    "id": "RKKZY0JW_-GW"
   },
   "source": [
    "## Model 8: Conv3D\n",
    "\n",
    "This model is built by tweeking the dropout value to 0.5 and increasing the filter size back to (3,3,3) in the input layer."
   ]
  },
  {
   "cell_type": "code",
   "execution_count": null,
   "metadata": {
    "id": "U8SI5fy-8Tox"
   },
   "outputs": [],
   "source": [
    "# Input Shape of the image in the format: (number of frames, image height, image width, number of channels)\n",
    "input_shape = (16, 120, 120, 3)\n",
    "\n",
    "# Model Architecture\n",
    "model = Sequential()\n",
    "\n",
    "model.add(Conv3D(nb_filters[0], \n",
    "                 kernel_size=(3,3,3), \n",
    "                 input_shape=input_shape,\n",
    "                 padding='same'))\n",
    "model.add(BatchNormalization())\n",
    "model.add(Activation('relu'))\n",
    "\n",
    "model.add(MaxPooling3D(pool_size=(2,2,2)))\n",
    "\n",
    "model.add(Conv3D(nb_filters[1], \n",
    "                 kernel_size=(3,3,3), \n",
    "                 padding='same'))\n",
    "model.add(BatchNormalization())\n",
    "model.add(Activation('relu'))\n",
    "\n",
    "model.add(MaxPooling3D(pool_size=(2,2,2)))\n",
    "\n",
    "model.add(Conv3D(nb_filters[2], \n",
    "                 kernel_size=(1,3,3), \n",
    "                 padding='same'))\n",
    "model.add(BatchNormalization())\n",
    "model.add(Activation('relu'))\n",
    "\n",
    "model.add(MaxPooling3D(pool_size=(2,2,2)))\n",
    "\n",
    "model.add(Conv3D(nb_filters[3], \n",
    "                 kernel_size=(1,3,3), \n",
    "                 padding='same'))\n",
    "model.add(Activation('relu'))\n",
    "\n",
    "\n",
    "model.add(MaxPooling3D(pool_size=(2,2,2)))\n",
    "\n",
    "#Flatten Layers\n",
    "model.add(Flatten())\n",
    "\n",
    "model.add(Dense(64, activation='relu'))\n",
    "model.add(BatchNormalization())\n",
    "model.add(Dropout(0.50))\n",
    "\n",
    "model.add(Dense(64, activation='relu'))\n",
    "model.add(BatchNormalization())\n",
    "model.add(Dropout(0.50))\n",
    "\n",
    "\n",
    "#softmax layer\n",
    "model.add(Dense(nb_dense[2], activation='softmax'))"
   ]
  },
  {
   "cell_type": "code",
   "execution_count": null,
   "metadata": {
    "colab": {
     "base_uri": "https://localhost:8080/"
    },
    "id": "GO8ErlPF8_Uz",
    "outputId": "1dc8256e-f629-45d1-bef1-3164acd0824c"
   },
   "outputs": [
    {
     "name": "stdout",
     "output_type": "stream",
     "text": [
      "Model: \"sequential_8\"\n",
      "_________________________________________________________________\n",
      " Layer (type)                Output Shape              Param #   \n",
      "=================================================================\n",
      " conv3d_28 (Conv3D)          (None, 16, 120, 120, 8)   656       \n",
      "                                                                 \n",
      " batch_normalization_23 (Bat  (None, 16, 120, 120, 8)  32        \n",
      " chNormalization)                                                \n",
      "                                                                 \n",
      " activation_28 (Activation)  (None, 16, 120, 120, 8)   0         \n",
      "                                                                 \n",
      " max_pooling3d_28 (MaxPoolin  (None, 8, 60, 60, 8)     0         \n",
      " g3D)                                                            \n",
      "                                                                 \n",
      " conv3d_29 (Conv3D)          (None, 8, 60, 60, 16)     3472      \n",
      "                                                                 \n",
      " batch_normalization_24 (Bat  (None, 8, 60, 60, 16)    64        \n",
      " chNormalization)                                                \n",
      "                                                                 \n",
      " activation_29 (Activation)  (None, 8, 60, 60, 16)     0         \n",
      "                                                                 \n",
      " max_pooling3d_29 (MaxPoolin  (None, 4, 30, 30, 16)    0         \n",
      " g3D)                                                            \n",
      "                                                                 \n",
      " conv3d_30 (Conv3D)          (None, 4, 30, 30, 32)     4640      \n",
      "                                                                 \n",
      " batch_normalization_25 (Bat  (None, 4, 30, 30, 32)    128       \n",
      " chNormalization)                                                \n",
      "                                                                 \n",
      " activation_30 (Activation)  (None, 4, 30, 30, 32)     0         \n",
      "                                                                 \n",
      " max_pooling3d_30 (MaxPoolin  (None, 2, 15, 15, 32)    0         \n",
      " g3D)                                                            \n",
      "                                                                 \n",
      " conv3d_31 (Conv3D)          (None, 2, 15, 15, 64)     18496     \n",
      "                                                                 \n",
      " activation_31 (Activation)  (None, 2, 15, 15, 64)     0         \n",
      "                                                                 \n",
      " max_pooling3d_31 (MaxPoolin  (None, 1, 7, 7, 64)      0         \n",
      " g3D)                                                            \n",
      "                                                                 \n",
      " flatten_7 (Flatten)         (None, 3136)              0         \n",
      "                                                                 \n",
      " dense_21 (Dense)            (None, 64)                200768    \n",
      "                                                                 \n",
      " batch_normalization_26 (Bat  (None, 64)               256       \n",
      " chNormalization)                                                \n",
      "                                                                 \n",
      " dropout_14 (Dropout)        (None, 64)                0         \n",
      "                                                                 \n",
      " dense_22 (Dense)            (None, 64)                4160      \n",
      "                                                                 \n",
      " batch_normalization_27 (Bat  (None, 64)               256       \n",
      " chNormalization)                                                \n",
      "                                                                 \n",
      " dropout_15 (Dropout)        (None, 64)                0         \n",
      "                                                                 \n",
      " dense_23 (Dense)            (None, 5)                 325       \n",
      "                                                                 \n",
      "=================================================================\n",
      "Total params: 233,253\n",
      "Trainable params: 232,885\n",
      "Non-trainable params: 368\n",
      "_________________________________________________________________\n",
      "None\n"
     ]
    }
   ],
   "source": [
    "# Defining optimizer\n",
    "optimiser = Adam()\n",
    "model.compile(optimizer=optimiser, loss='categorical_crossentropy', metrics=['categorical_accuracy'])\n",
    "print (model.summary())"
   ]
  },
  {
   "cell_type": "code",
   "execution_count": null,
   "metadata": {
    "colab": {
     "base_uri": "https://localhost:8080/"
    },
    "id": "DHP0hZEWXamT",
    "outputId": "d92d83f9-7ff0-4bbb-efa2-233047557883"
   },
   "outputs": [
    {
     "name": "stdout",
     "output_type": "stream",
     "text": [
      "# training sequences = 663\n",
      "# validation sequences = 100\n",
      "batch_size = 64\n",
      "# epochs = 15\n",
      "# steps per epoch  11\n",
      "# validation steps  2\n",
      "Input Shape  (16, 120, 120, 3)\n"
     ]
    }
   ],
   "source": [
    "# Setting batch_size and num_epochs\n",
    "(train_generator, val_generator, steps_per_epoch, validation_steps, num_epochs) = gen(batch_size = 64, epochs = 15, input_shape = input_shape)"
   ]
  },
  {
   "cell_type": "code",
   "execution_count": null,
   "metadata": {
    "colab": {
     "base_uri": "https://localhost:8080/"
    },
    "id": "InLHreL99DgL",
    "outputId": "62a96df4-ca5c-4886-edc4-d1b2831aaa70"
   },
   "outputs": [
    {
     "name": "stdout",
     "output_type": "stream",
     "text": [
      "Source path =  /content/drive/MyDrive/Project_data/train  ; batch size = 64\n",
      "Epoch 1/15\n",
      "11/11 [==============================] - ETA: 0s - loss: 2.3887 - categorical_accuracy: 0.2579Source path =  /content/drive/MyDrive/Project_data/val ; batch size = 64\n",
      "\n",
      "Epoch 1: saving model to model_init_2022-08-1113_02_18.794768/model-00001-2.38867-0.25792-4.62148-0.22000.h5\n",
      "11/11 [==============================] - 44s 4s/step - loss: 2.3887 - categorical_accuracy: 0.2579 - val_loss: 4.6215 - val_categorical_accuracy: 0.2200 - lr: 0.0010\n",
      "Epoch 2/15\n",
      "11/11 [==============================] - ETA: 0s - loss: 1.8730 - categorical_accuracy: 0.3320\n",
      "Epoch 2: saving model to model_init_2022-08-1113_02_18.794768/model-00002-1.87301-0.33202-4.57880-0.37500.h5\n",
      "11/11 [==============================] - 20s 2s/step - loss: 1.8730 - categorical_accuracy: 0.3320 - val_loss: 4.5788 - val_categorical_accuracy: 0.3750 - lr: 0.0010\n",
      "Epoch 3/15\n",
      "11/11 [==============================] - ETA: 0s - loss: 1.8257 - categorical_accuracy: 0.3478\n",
      "Epoch 3: saving model to model_init_2022-08-1113_02_18.794768/model-00003-1.82575-0.34783-7.51264-0.25000.h5\n",
      "11/11 [==============================] - 17s 2s/step - loss: 1.8257 - categorical_accuracy: 0.3478 - val_loss: 7.5126 - val_categorical_accuracy: 0.2500 - lr: 0.0010\n",
      "Epoch 4/15\n",
      "11/11 [==============================] - ETA: 0s - loss: 1.7219 - categorical_accuracy: 0.3777\n",
      "Epoch 4: saving model to model_init_2022-08-1113_02_18.794768/model-00004-1.72187-0.37768-6.22355-0.31250.h5\n",
      "\n",
      "Epoch 4: ReduceLROnPlateau reducing learning rate to 0.0005000000237487257.\n",
      "11/11 [==============================] - 16s 2s/step - loss: 1.7219 - categorical_accuracy: 0.3777 - val_loss: 6.2235 - val_categorical_accuracy: 0.3125 - lr: 0.0010\n",
      "Epoch 5/15\n",
      "11/11 [==============================] - ETA: 0s - loss: 1.5766 - categorical_accuracy: 0.4211\n",
      "Epoch 5: saving model to model_init_2022-08-1113_02_18.794768/model-00005-1.57663-0.42105-5.70718-0.12500.h5\n",
      "11/11 [==============================] - 14s 1s/step - loss: 1.5766 - categorical_accuracy: 0.4211 - val_loss: 5.7072 - val_categorical_accuracy: 0.1250 - lr: 5.0000e-04\n",
      "Epoch 5: early stopping\n"
     ]
    },
    {
     "data": {
      "text/plain": [
       "<keras.callbacks.History at 0x7f600e707150>"
      ]
     },
     "execution_count": 59,
     "metadata": {},
     "output_type": "execute_result"
    }
   ],
   "source": [
    "# Fitting the model\n",
    "model.fit(train_generator, steps_per_epoch=steps_per_epoch, epochs=num_epochs, verbose=1, \n",
    "                    callbacks=callbacks_list, validation_data=val_generator, \n",
    "                    validation_steps=validation_steps, class_weight=None, workers=1, initial_epoch=0)"
   ]
  },
  {
   "cell_type": "code",
   "execution_count": null,
   "metadata": {
    "colab": {
     "base_uri": "https://localhost:8080/",
     "height": 265
    },
    "id": "33I_sUrK9mNv",
    "outputId": "3a8bb8c3-6298-4794-8cd0-e0320b2b39fe"
   },
   "outputs": [
    {
     "data": {
      "image/png": "[encoded data removed]",
      "text/plain": [
       "<Figure size 1080x288 with 2 Axes>"
      ]
     },
     "metadata": {
      "needs_background": "light"
     },
     "output_type": "display_data"
    }
   ],
   "source": [
    "# Plotting the model\n",
    "plot(model)"
   ]
  },
  {
   "cell_type": "markdown",
   "metadata": {
    "id": "lLTfPQjbC-b7"
   },
   "source": [
    "**We have been successful in reducing the number of parameters but it has cost us dearly in terms of accuracy.**"
   ]
  },
  {
   "cell_type": "markdown",
   "metadata": {
    "id": "68SGguxODOI1"
   },
   "source": [
    "## Model 9: Conv3D\n",
    "\n",
    "This model is another variation of Model 7, with an added dropout layer with a dropout value of 0.25 and set filter size to (3,3,3)."
   ]
  },
  {
   "cell_type": "code",
   "execution_count": null,
   "metadata": {
    "id": "jZ8Q9l7vDzQU"
   },
   "outputs": [],
   "source": [
    "# Input Shape of the image in the format: (number of frames, image height, image width, number of channels)\n",
    "input_shape = (16, 120, 120, 3)\n",
    "\n",
    "# Defining Architecture\n",
    "model = Sequential()\n",
    "\n",
    "model.add(Conv3D(nb_filters[0], \n",
    "                 kernel_size=(3,3,3), \n",
    "                 input_shape=input_shape,\n",
    "                 padding='same'))\n",
    "model.add(BatchNormalization())\n",
    "model.add(Activation('relu'))\n",
    "\n",
    "model.add(MaxPooling3D(pool_size=(2,2,2)))\n",
    "\n",
    "model.add(Conv3D(nb_filters[1], \n",
    "                 kernel_size=(3,3,3), \n",
    "                 padding='same'))\n",
    "model.add(BatchNormalization())\n",
    "model.add(Activation('relu'))\n",
    "\n",
    "model.add(MaxPooling3D(pool_size=(2,2,2)))\n",
    "\n",
    "model.add(Conv3D(nb_filters[2], \n",
    "                 kernel_size=(1,3,3), \n",
    "                 padding='same'))\n",
    "model.add(BatchNormalization())\n",
    "model.add(Activation('relu'))\n",
    "\n",
    "model.add(MaxPooling3D(pool_size=(2,2,2)))\n",
    "\n",
    "model.add(Conv3D(nb_filters[3], \n",
    "                 kernel_size=(1,3,3), \n",
    "                 padding='same'))\n",
    "model.add(Activation('relu'))\n",
    "\n",
    "\n",
    "model.add(MaxPooling3D(pool_size=(2,2,2)))\n",
    "\n",
    "#Flatten Layers\n",
    "model.add(Flatten())\n",
    "\n",
    "model.add(Dense(64, activation='relu'))\n",
    "model.add(BatchNormalization())\n",
    "model.add(Dropout(0.25))\n",
    "\n",
    "model.add(Dense(64, activation='relu'))\n",
    "model.add(BatchNormalization())\n",
    "model.add(Dropout(0.25))\n",
    "\n",
    "\n",
    "#softmax layer\n",
    "model.add(Dense(nb_dense[2], activation='softmax'))"
   ]
  },
  {
   "cell_type": "code",
   "execution_count": null,
   "metadata": {
    "colab": {
     "base_uri": "https://localhost:8080/"
    },
    "id": "C_iCtUZWD52I",
    "outputId": "486cb79a-8368-4326-a362-b7988416231b"
   },
   "outputs": [
    {
     "name": "stdout",
     "output_type": "stream",
     "text": [
      "Model: \"sequential_9\"\n",
      "_________________________________________________________________\n",
      " Layer (type)                Output Shape              Param #   \n",
      "=================================================================\n",
      " conv3d_32 (Conv3D)          (None, 16, 120, 120, 8)   656       \n",
      "                                                                 \n",
      " batch_normalization_28 (Bat  (None, 16, 120, 120, 8)  32        \n",
      " chNormalization)                                                \n",
      "                                                                 \n",
      " activation_32 (Activation)  (None, 16, 120, 120, 8)   0         \n",
      "                                                                 \n",
      " max_pooling3d_32 (MaxPoolin  (None, 8, 60, 60, 8)     0         \n",
      " g3D)                                                            \n",
      "                                                                 \n",
      " conv3d_33 (Conv3D)          (None, 8, 60, 60, 16)     3472      \n",
      "                                                                 \n",
      " batch_normalization_29 (Bat  (None, 8, 60, 60, 16)    64        \n",
      " chNormalization)                                                \n",
      "                                                                 \n",
      " activation_33 (Activation)  (None, 8, 60, 60, 16)     0         \n",
      "                                                                 \n",
      " max_pooling3d_33 (MaxPoolin  (None, 4, 30, 30, 16)    0         \n",
      " g3D)                                                            \n",
      "                                                                 \n",
      " conv3d_34 (Conv3D)          (None, 4, 30, 30, 32)     4640      \n",
      "                                                                 \n",
      " batch_normalization_30 (Bat  (None, 4, 30, 30, 32)    128       \n",
      " chNormalization)                                                \n",
      "                                                                 \n",
      " activation_34 (Activation)  (None, 4, 30, 30, 32)     0         \n",
      "                                                                 \n",
      " max_pooling3d_34 (MaxPoolin  (None, 2, 15, 15, 32)    0         \n",
      " g3D)                                                            \n",
      "                                                                 \n",
      " conv3d_35 (Conv3D)          (None, 2, 15, 15, 64)     18496     \n",
      "                                                                 \n",
      " activation_35 (Activation)  (None, 2, 15, 15, 64)     0         \n",
      "                                                                 \n",
      " max_pooling3d_35 (MaxPoolin  (None, 1, 7, 7, 64)      0         \n",
      " g3D)                                                            \n",
      "                                                                 \n",
      " flatten_8 (Flatten)         (None, 3136)              0         \n",
      "                                                                 \n",
      " dense_24 (Dense)            (None, 64)                200768    \n",
      "                                                                 \n",
      " batch_normalization_31 (Bat  (None, 64)               256       \n",
      " chNormalization)                                                \n",
      "                                                                 \n",
      " dropout_16 (Dropout)        (None, 64)                0         \n",
      "                                                                 \n",
      " dense_25 (Dense)            (None, 64)                4160      \n",
      "                                                                 \n",
      " batch_normalization_32 (Bat  (None, 64)               256       \n",
      " chNormalization)                                                \n",
      "                                                                 \n",
      " dropout_17 (Dropout)        (None, 64)                0         \n",
      "                                                                 \n",
      " dense_26 (Dense)            (None, 5)                 325       \n",
      "                                                                 \n",
      "=================================================================\n",
      "Total params: 233,253\n",
      "Trainable params: 232,885\n",
      "Non-trainable params: 368\n",
      "_________________________________________________________________\n",
      "None\n"
     ]
    }
   ],
   "source": [
    "# Defining Optimizer\n",
    "optimiser = Adam()\n",
    "model.compile(optimizer=optimiser, loss='categorical_crossentropy', metrics=['categorical_accuracy'])\n",
    "print (model.summary())"
   ]
  },
  {
   "cell_type": "code",
   "execution_count": null,
   "metadata": {
    "colab": {
     "base_uri": "https://localhost:8080/"
    },
    "id": "v1WhwFWNaZK_",
    "outputId": "a62025c5-6f55-40f3-d69d-aa4d02142999"
   },
   "outputs": [
    {
     "name": "stdout",
     "output_type": "stream",
     "text": [
      "# training sequences = 663\n",
      "# validation sequences = 100\n",
      "batch_size = 64\n",
      "# epochs = 15\n",
      "# steps per epoch  11\n",
      "# validation steps  2\n",
      "Input Shape  (16, 120, 120, 3)\n"
     ]
    }
   ],
   "source": [
    "# Setting batch_size and num_epochs\n",
    "(train_generator, val_generator, steps_per_epoch, validation_steps, num_epochs) = gen(batch_size = 64, epochs = 15, input_shape = input_shape)"
   ]
  },
  {
   "cell_type": "code",
   "execution_count": null,
   "metadata": {
    "colab": {
     "base_uri": "https://localhost:8080/"
    },
    "id": "15vhGIAAD83x",
    "outputId": "6171dbed-80f2-40c9-9099-f84f6d2b2625"
   },
   "outputs": [
    {
     "name": "stdout",
     "output_type": "stream",
     "text": [
      "Source path =  /content/drive/MyDrive/Project_data/train  ; batch size = 64\n",
      "Epoch 1/15\n",
      "11/11 [==============================] - ETA: 0s - loss: 1.7422 - categorical_accuracy: 0.3665Source path =  /content/drive/MyDrive/Project_data/val ; batch size = 64\n",
      "\n",
      "Epoch 1: saving model to model_init_2022-08-1113_02_18.794768/model-00001-1.74216-0.36652-3.58260-0.29000.h5\n",
      "11/11 [==============================] - 44s 4s/step - loss: 1.7422 - categorical_accuracy: 0.3665 - val_loss: 3.5826 - val_categorical_accuracy: 0.2900 - lr: 0.0010\n",
      "Epoch 2/15\n",
      "11/11 [==============================] - ETA: 0s - loss: 1.1145 - categorical_accuracy: 0.5968\n",
      "Epoch 2: saving model to model_init_2022-08-1113_02_18.794768/model-00002-1.11452-0.59684-4.32501-0.18750.h5\n",
      "11/11 [==============================] - 19s 2s/step - loss: 1.1145 - categorical_accuracy: 0.5968 - val_loss: 4.3250 - val_categorical_accuracy: 0.1875 - lr: 0.0010\n",
      "Epoch 3/15\n",
      "11/11 [==============================] - ETA: 0s - loss: 1.1817 - categorical_accuracy: 0.5692\n",
      "Epoch 3: saving model to model_init_2022-08-1113_02_18.794768/model-00003-1.18170-0.56917-3.28989-0.26786.h5\n",
      "11/11 [==============================] - 19s 2s/step - loss: 1.1817 - categorical_accuracy: 0.5692 - val_loss: 3.2899 - val_categorical_accuracy: 0.2679 - lr: 0.0010\n",
      "Epoch 4/15\n",
      "11/11 [==============================] - ETA: 0s - loss: 1.1486 - categorical_accuracy: 0.5665\n",
      "Epoch 4: saving model to model_init_2022-08-1113_02_18.794768/model-00004-1.14859-0.56652-2.04470-0.34375.h5\n",
      "11/11 [==============================] - 16s 2s/step - loss: 1.1486 - categorical_accuracy: 0.5665 - val_loss: 2.0447 - val_categorical_accuracy: 0.3438 - lr: 0.0010\n",
      "Epoch 5/15\n",
      "11/11 [==============================] - ETA: 0s - loss: 0.7598 - categorical_accuracy: 0.7273\n",
      "Epoch 5: saving model to model_init_2022-08-1113_02_18.794768/model-00005-0.75981-0.72727-1.85655-0.34375.h5\n",
      "11/11 [==============================] - 14s 1s/step - loss: 0.7598 - categorical_accuracy: 0.7273 - val_loss: 1.8566 - val_categorical_accuracy: 0.3438 - lr: 0.0010\n",
      "Epoch 6/15\n",
      "11/11 [==============================] - ETA: 0s - loss: 0.8398 - categorical_accuracy: 0.7177\n",
      "Epoch 6: saving model to model_init_2022-08-1113_02_18.794768/model-00006-0.83983-0.71770-1.21699-0.50000.h5\n",
      "11/11 [==============================] - 12s 1s/step - loss: 0.8398 - categorical_accuracy: 0.7177 - val_loss: 1.2170 - val_categorical_accuracy: 0.5000 - lr: 0.0010\n",
      "Epoch 7/15\n",
      "11/11 [==============================] - ETA: 0s - loss: 0.8004 - categorical_accuracy: 0.6749\n",
      "Epoch 7: saving model to model_init_2022-08-1113_02_18.794768/model-00007-0.80038-0.67488-1.26129-0.62500.h5\n",
      "11/11 [==============================] - 11s 1s/step - loss: 0.8004 - categorical_accuracy: 0.6749 - val_loss: 1.2613 - val_categorical_accuracy: 0.6250 - lr: 0.0010\n",
      "Epoch 8/15\n",
      "11/11 [==============================] - ETA: 0s - loss: 0.6674 - categorical_accuracy: 0.7433\n",
      "Epoch 8: saving model to model_init_2022-08-1113_02_18.794768/model-00008-0.66740-0.74332-1.01354-0.50000.h5\n",
      "11/11 [==============================] - 11s 1s/step - loss: 0.6674 - categorical_accuracy: 0.7433 - val_loss: 1.0135 - val_categorical_accuracy: 0.5000 - lr: 0.0010\n",
      "Epoch 9/15\n",
      "11/11 [==============================] - ETA: 0s - loss: 0.6107 - categorical_accuracy: 0.7861\n",
      "Epoch 9: saving model to model_init_2022-08-1113_02_18.794768/model-00009-0.61065-0.78610-1.63861-0.25000.h5\n",
      "11/11 [==============================] - 11s 1s/step - loss: 0.6107 - categorical_accuracy: 0.7861 - val_loss: 1.6386 - val_categorical_accuracy: 0.2500 - lr: 0.0010\n",
      "Epoch 10/15\n",
      "11/11 [==============================] - ETA: 0s - loss: 0.6485 - categorical_accuracy: 0.7594\n",
      "Epoch 10: saving model to model_init_2022-08-1113_02_18.794768/model-00010-0.64845-0.75936-0.95946-0.62500.h5\n",
      "11/11 [==============================] - 11s 1s/step - loss: 0.6485 - categorical_accuracy: 0.7594 - val_loss: 0.9595 - val_categorical_accuracy: 0.6250 - lr: 0.0010\n",
      "Epoch 10: early stopping\n"
     ]
    },
    {
     "data": {
      "text/plain": [
       "<keras.callbacks.History at 0x7f5db7fc9c10>"
      ]
     },
     "execution_count": 64,
     "metadata": {},
     "output_type": "execute_result"
    }
   ],
   "source": [
    "# Fitting the model\n",
    "model.fit(train_generator, steps_per_epoch=steps_per_epoch, epochs=num_epochs, verbose=1, \n",
    "                    callbacks=callbacks_list, validation_data=val_generator, \n",
    "                    validation_steps=validation_steps, class_weight=None, workers=1, initial_epoch=0)"
   ]
  },
  {
   "cell_type": "code",
   "execution_count": null,
   "metadata": {
    "colab": {
     "base_uri": "https://localhost:8080/",
     "height": 269
    },
    "id": "TqBJYNSfEBkk",
    "outputId": "d0217198-e01d-4592-d46e-5f2d33ced907"
   },
   "outputs": [
    {
     "data": {
      "image/png": "[encoded data removed]",
      "text/plain": [
       "<Figure size 1080x288 with 2 Axes>"
      ]
     },
     "metadata": {
      "needs_background": "light"
     },
     "output_type": "display_data"
    }
   ],
   "source": [
    "plot(model)"
   ]
  },
  {
   "cell_type": "markdown",
   "metadata": {
    "id": "FFVxDnuAa75a"
   },
   "source": [
    "**We have seen some improvement in terms of accuracy but the problem of overfitting has still not been solved.**"
   ]
  },
  {
   "cell_type": "markdown",
   "metadata": {
    "id": "apRSQwbjd5NK"
   },
   "source": [
    "**We have built a total of 9 Conv3D models by tweeking the parameters like input_shape, kernel_size, dropout layers with different dropout values, batch_size and the number of epochs. Throughout this experimentation journey, we have been able to build several models with acceptable performance out of which we are going to select one.**"
   ]
  },
  {
   "cell_type": "markdown",
   "metadata": {
    "id": "t9mbmXycgdgY"
   },
   "source": [
    "# CNN + RNN or LSTM Models"
   ]
  },
  {
   "cell_type": "markdown",
   "metadata": {
    "id": "ciHL1yPJCWpt"
   },
   "source": [
    "## Model 10: LSTM \n",
    "\n",
    "In this model we have used 18 out of the 30 frames along with BatchNormalization, MaxPooling and Dropout layers with a dropout value of 0.25, batch_size of 20 and 20 as the number of epochs."
   ]
  },
  {
   "cell_type": "code",
   "execution_count": null,
   "metadata": {
    "id": "1U1_3D8mPy5n"
   },
   "outputs": [],
   "source": [
    "from tensorflow.keras.layers import Conv2D, MaxPool2D, MaxPooling2D, LSTM"
   ]
  },
  {
   "cell_type": "code",
   "execution_count": null,
   "metadata": {
    "id": "s9ylbxzVCDlJ"
   },
   "outputs": [],
   "source": [
    "# Input Shape of the image in the format: (number of frames, image height, image width, number of channels)\n",
    "input_shape = (18, 120, 120, 3)\n",
    "\n",
    "# Model Architecture\n",
    "model = Sequential()\n",
    "\n",
    "model.add(TimeDistributed(Conv2D(16, (3, 3) , padding='same', activation='relu'),\n",
    "                                  input_shape = input_shape))\n",
    "model.add(TimeDistributed(BatchNormalization()))\n",
    "model.add(TimeDistributed(MaxPooling2D((2, 2))))\n",
    "        \n",
    "model.add(TimeDistributed(Conv2D(32, (3, 3) , padding='same', activation='relu')))\n",
    "model.add(TimeDistributed(BatchNormalization()))\n",
    "model.add(TimeDistributed(MaxPooling2D((2, 2))))\n",
    "        \n",
    "model.add(TimeDistributed(Conv2D(64, (3, 3) , padding='same', activation='relu')))\n",
    "model.add(TimeDistributed(BatchNormalization()))\n",
    "model.add(TimeDistributed(MaxPooling2D((2, 2))))\n",
    "        \n",
    "model.add(TimeDistributed(Conv2D(128, (3, 3) , padding='same', activation='relu')))\n",
    "model.add(TimeDistributed(BatchNormalization()))\n",
    "model.add(TimeDistributed(MaxPooling2D((2, 2))))\n",
    "        \n",
    "model.add(TimeDistributed(Conv2D(256, (3, 3) , padding='same', activation='relu')))\n",
    "model.add(TimeDistributed(BatchNormalization()))\n",
    "model.add(TimeDistributed(MaxPooling2D((2, 2))))\n",
    "\n",
    "model.add(TimeDistributed(Flatten()))\n",
    "\n",
    "\n",
    "model.add(LSTM(128))\n",
    "model.add(Dropout(0.25))\n",
    "        \n",
    "model.add(Dense(128,activation='relu'))\n",
    "model.add(Dropout(0.25))\n",
    "        \n",
    "model.add(Dense(nb_dense[2], activation='softmax'))"
   ]
  },
  {
   "cell_type": "code",
   "execution_count": null,
   "metadata": {
    "colab": {
     "base_uri": "https://localhost:8080/"
    },
    "id": "g2yemwQdP5j0",
    "outputId": "cf28d38b-b3b4-43e2-f701-525595bd27fc"
   },
   "outputs": [
    {
     "name": "stdout",
     "output_type": "stream",
     "text": [
      "Model: \"sequential_18\"\n",
      "_________________________________________________________________\n",
      " Layer (type)                Output Shape              Param #   \n",
      "=================================================================\n",
      " time_distributed_112 (TimeD  (None, 18, 120, 120, 16)  448      \n",
      " istributed)                                                     \n",
      "                                                                 \n",
      " time_distributed_113 (TimeD  (None, 18, 120, 120, 16)  64       \n",
      " istributed)                                                     \n",
      "                                                                 \n",
      " time_distributed_114 (TimeD  (None, 18, 60, 60, 16)   0         \n",
      " istributed)                                                     \n",
      "                                                                 \n",
      " time_distributed_115 (TimeD  (None, 18, 60, 60, 32)   4640      \n",
      " istributed)                                                     \n",
      "                                                                 \n",
      " time_distributed_116 (TimeD  (None, 18, 60, 60, 32)   128       \n",
      " istributed)                                                     \n",
      "                                                                 \n",
      " time_distributed_117 (TimeD  (None, 18, 30, 30, 32)   0         \n",
      " istributed)                                                     \n",
      "                                                                 \n",
      " time_distributed_118 (TimeD  (None, 18, 30, 30, 64)   18496     \n",
      " istributed)                                                     \n",
      "                                                                 \n",
      " time_distributed_119 (TimeD  (None, 18, 30, 30, 64)   256       \n",
      " istributed)                                                     \n",
      "                                                                 \n",
      " time_distributed_120 (TimeD  (None, 18, 15, 15, 64)   0         \n",
      " istributed)                                                     \n",
      "                                                                 \n",
      " time_distributed_121 (TimeD  (None, 18, 15, 15, 128)  73856     \n",
      " istributed)                                                     \n",
      "                                                                 \n",
      " time_distributed_122 (TimeD  (None, 18, 15, 15, 128)  512       \n",
      " istributed)                                                     \n",
      "                                                                 \n",
      " time_distributed_123 (TimeD  (None, 18, 7, 7, 128)    0         \n",
      " istributed)                                                     \n",
      "                                                                 \n",
      " time_distributed_124 (TimeD  (None, 18, 7, 7, 256)    295168    \n",
      " istributed)                                                     \n",
      "                                                                 \n",
      " time_distributed_125 (TimeD  (None, 18, 7, 7, 256)    1024      \n",
      " istributed)                                                     \n",
      "                                                                 \n",
      " time_distributed_126 (TimeD  (None, 18, 3, 3, 256)    0         \n",
      " istributed)                                                     \n",
      "                                                                 \n",
      " time_distributed_127 (TimeD  (None, 18, 2304)         0         \n",
      " istributed)                                                     \n",
      "                                                                 \n",
      " lstm_7 (LSTM)               (None, 128)               1245696   \n",
      "                                                                 \n",
      " dropout_34 (Dropout)        (None, 128)               0         \n",
      "                                                                 \n",
      " dense_44 (Dense)            (None, 128)               16512     \n",
      "                                                                 \n",
      " dropout_35 (Dropout)        (None, 128)               0         \n",
      "                                                                 \n",
      " dense_45 (Dense)            (None, 5)                 645       \n",
      "                                                                 \n",
      "=================================================================\n",
      "Total params: 1,657,445\n",
      "Trainable params: 1,656,453\n",
      "Non-trainable params: 992\n",
      "_________________________________________________________________\n",
      "None\n"
     ]
    }
   ],
   "source": [
    "# Define Optimizer\n",
    "optimiser = Adam() \n",
    "model.compile(optimizer=optimiser, loss='categorical_crossentropy', metrics=['categorical_accuracy'])\n",
    "print (model.summary())"
   ]
  },
  {
   "cell_type": "code",
   "execution_count": null,
   "metadata": {
    "colab": {
     "base_uri": "https://localhost:8080/"
    },
    "id": "cDQ5-37bhAdF",
    "outputId": "a774ffff-6665-4907-e2c9-723d58eab3c2"
   },
   "outputs": [
    {
     "name": "stdout",
     "output_type": "stream",
     "text": [
      "# training sequences = 663\n",
      "# validation sequences = 100\n",
      "batch_size = 20\n",
      "# epochs = 20\n",
      "# steps per epoch  34\n",
      "# validation steps  5\n",
      "Input Shape  (18, 120, 120, 3)\n"
     ]
    }
   ],
   "source": [
    "# Setting batch_size and num_epochs\n",
    "(train_generator, val_generator, steps_per_epoch, validation_steps, num_epochs) = gen(batch_size = 20, epochs = 20, input_shape = input_shape)"
   ]
  },
  {
   "cell_type": "code",
   "execution_count": null,
   "metadata": {
    "colab": {
     "base_uri": "https://localhost:8080/"
    },
    "id": "5t-2akpEQ4b7",
    "outputId": "e2bc236f-4afc-4e40-e70f-20711865953a"
   },
   "outputs": [
    {
     "name": "stdout",
     "output_type": "stream",
     "text": [
      "Source path =  /content/drive/MyDrive/Project_data/train  ; batch size = 20\n",
      "Epoch 1/20\n",
      "34/34 [==============================] - ETA: 0s - loss: 1.3537 - categorical_accuracy: 0.4238Source path =  /content/drive/MyDrive/Project_data/val ; batch size = 20\n",
      "\n",
      "Epoch 1: saving model to model_init_2022-08-1113_02_18.794768/model-00001-1.35370-0.42383-2.15714-0.23000.h5\n",
      "34/34 [==============================] - 52s 2s/step - loss: 1.3537 - categorical_accuracy: 0.4238 - val_loss: 2.1571 - val_categorical_accuracy: 0.2300 - lr: 0.0010\n",
      "Epoch 2/20\n",
      "34/34 [==============================] - ETA: 0s - loss: 1.3692 - categorical_accuracy: 0.4804\n",
      "Epoch 2: saving model to model_init_2022-08-1113_02_18.794768/model-00002-1.36917-0.48039-1.74371-0.23000.h5\n",
      "34/34 [==============================] - 15s 454ms/step - loss: 1.3692 - categorical_accuracy: 0.4804 - val_loss: 1.7437 - val_categorical_accuracy: 0.2300 - lr: 0.0010\n",
      "Epoch 3/20\n",
      "34/34 [==============================] - ETA: 0s - loss: 1.3756 - categorical_accuracy: 0.4510\n",
      "Epoch 3: saving model to model_init_2022-08-1113_02_18.794768/model-00003-1.37557-0.45098-1.63619-0.28000.h5\n",
      "34/34 [==============================] - 15s 454ms/step - loss: 1.3756 - categorical_accuracy: 0.4510 - val_loss: 1.6362 - val_categorical_accuracy: 0.2800 - lr: 0.0010\n",
      "Epoch 4/20\n",
      "34/34 [==============================] - ETA: 0s - loss: 1.4776 - categorical_accuracy: 0.4412\n",
      "Epoch 4: saving model to model_init_2022-08-1113_02_18.794768/model-00004-1.47764-0.44118-1.59591-0.31000.h5\n",
      "34/34 [==============================] - 15s 458ms/step - loss: 1.4776 - categorical_accuracy: 0.4412 - val_loss: 1.5959 - val_categorical_accuracy: 0.3100 - lr: 0.0010\n",
      "Epoch 5/20\n",
      "34/34 [==============================] - ETA: 0s - loss: 1.3368 - categorical_accuracy: 0.4608\n",
      "Epoch 5: saving model to model_init_2022-08-1113_02_18.794768/model-00005-1.33685-0.46078-1.30443-0.43000.h5\n",
      "34/34 [==============================] - 15s 461ms/step - loss: 1.3368 - categorical_accuracy: 0.4608 - val_loss: 1.3044 - val_categorical_accuracy: 0.4300 - lr: 0.0010\n",
      "Epoch 6/20\n",
      "34/34 [==============================] - ETA: 0s - loss: 1.2859 - categorical_accuracy: 0.4902\n",
      "Epoch 6: saving model to model_init_2022-08-1113_02_18.794768/model-00006-1.28588-0.49020-1.68973-0.29000.h5\n",
      "34/34 [==============================] - 15s 465ms/step - loss: 1.2859 - categorical_accuracy: 0.4902 - val_loss: 1.6897 - val_categorical_accuracy: 0.2900 - lr: 0.0010\n",
      "Epoch 7/20\n",
      "34/34 [==============================] - ETA: 0s - loss: 1.3517 - categorical_accuracy: 0.4412\n",
      "Epoch 7: saving model to model_init_2022-08-1113_02_18.794768/model-00007-1.35171-0.44118-1.67381-0.24000.h5\n",
      "\n",
      "Epoch 7: ReduceLROnPlateau reducing learning rate to 0.0005000000237487257.\n",
      "34/34 [==============================] - 15s 439ms/step - loss: 1.3517 - categorical_accuracy: 0.4412 - val_loss: 1.6738 - val_categorical_accuracy: 0.2400 - lr: 0.0010\n",
      "Epoch 8/20\n",
      "34/34 [==============================] - ETA: 0s - loss: 1.2283 - categorical_accuracy: 0.5098\n",
      "Epoch 8: saving model to model_init_2022-08-1113_02_18.794768/model-00008-1.22834-0.50980-1.32848-0.45000.h5\n",
      "34/34 [==============================] - 15s 448ms/step - loss: 1.2283 - categorical_accuracy: 0.5098 - val_loss: 1.3285 - val_categorical_accuracy: 0.4500 - lr: 5.0000e-04\n",
      "Epoch 9/20\n",
      "34/34 [==============================] - ETA: 0s - loss: 1.0850 - categorical_accuracy: 0.5980\n",
      "Epoch 9: saving model to model_init_2022-08-1113_02_18.794768/model-00009-1.08504-0.59804-1.22819-0.49000.h5\n",
      "34/34 [==============================] - 15s 459ms/step - loss: 1.0850 - categorical_accuracy: 0.5980 - val_loss: 1.2282 - val_categorical_accuracy: 0.4900 - lr: 5.0000e-04\n",
      "Epoch 10/20\n",
      "34/34 [==============================] - ETA: 0s - loss: 1.1091 - categorical_accuracy: 0.6176\n",
      "Epoch 10: saving model to model_init_2022-08-1113_02_18.794768/model-00010-1.10905-0.61765-1.19278-0.57000.h5\n",
      "34/34 [==============================] - 15s 451ms/step - loss: 1.1091 - categorical_accuracy: 0.6176 - val_loss: 1.1928 - val_categorical_accuracy: 0.5700 - lr: 5.0000e-04\n",
      "Epoch 11/20\n",
      "34/34 [==============================] - ETA: 0s - loss: 1.0465 - categorical_accuracy: 0.6569\n",
      "Epoch 11: saving model to model_init_2022-08-1113_02_18.794768/model-00011-1.04655-0.65686-1.15225-0.57000.h5\n",
      "34/34 [==============================] - 15s 456ms/step - loss: 1.0465 - categorical_accuracy: 0.6569 - val_loss: 1.1523 - val_categorical_accuracy: 0.5700 - lr: 5.0000e-04\n",
      "Epoch 12/20\n",
      "34/34 [==============================] - ETA: 0s - loss: 1.0820 - categorical_accuracy: 0.6176\n",
      "Epoch 12: saving model to model_init_2022-08-1113_02_18.794768/model-00012-1.08199-0.61765-1.08207-0.55000.h5\n",
      "34/34 [==============================] - 15s 445ms/step - loss: 1.0820 - categorical_accuracy: 0.6176 - val_loss: 1.0821 - val_categorical_accuracy: 0.5500 - lr: 5.0000e-04\n",
      "Epoch 13/20\n",
      "34/34 [==============================] - ETA: 0s - loss: 1.2167 - categorical_accuracy: 0.5686\n",
      "Epoch 13: saving model to model_init_2022-08-1113_02_18.794768/model-00013-1.21669-0.56863-1.09836-0.53000.h5\n",
      "34/34 [==============================] - 15s 457ms/step - loss: 1.2167 - categorical_accuracy: 0.5686 - val_loss: 1.0984 - val_categorical_accuracy: 0.5300 - lr: 5.0000e-04\n",
      "Epoch 13: early stopping\n"
     ]
    },
    {
     "data": {
      "text/plain": [
       "<keras.callbacks.History at 0x7f5db26f4a90>"
      ]
     },
     "execution_count": 108,
     "metadata": {},
     "output_type": "execute_result"
    }
   ],
   "source": [
    "# Fitting the model\n",
    "model.fit(train_generator, steps_per_epoch=steps_per_epoch, epochs=num_epochs, verbose=1, \n",
    "                    callbacks=callbacks_list, validation_data=val_generator, \n",
    "                    validation_steps=validation_steps, class_weight=None, workers=1, initial_epoch=0)"
   ]
  },
  {
   "cell_type": "code",
   "execution_count": null,
   "metadata": {
    "colab": {
     "base_uri": "https://localhost:8080/",
     "height": 267
    },
    "id": "BZX38C3yQ_YI",
    "outputId": "752a7410-3268-4ec0-f616-203d5495bde6"
   },
   "outputs": [
    {
     "data": {
      "image/png": "[encoded data removed]",
      "text/plain": [
       "<Figure size 1080x288 with 2 Axes>"
      ]
     },
     "metadata": {
      "needs_background": "light"
     },
     "output_type": "display_data"
    }
   ],
   "source": [
    "# Plotting the results\n",
    "plot(model)"
   ]
  },
  {
   "cell_type": "markdown",
   "metadata": {
    "id": "s2_2nC26h8dS"
   },
   "source": [
    "**As we can see, there's hardly any overfitting with this one, but we still have a lot of room for improvement in terms of accuracy.**"
   ]
  },
  {
   "cell_type": "markdown",
   "metadata": {
    "id": "87I0rWf0i7kR"
   },
   "source": [
    "## Model 11: LSTM \n",
    "\n",
    "In this model, we have added another hidden layer to see if it helps in increasing accuracy."
   ]
  },
  {
   "cell_type": "code",
   "execution_count": null,
   "metadata": {
    "id": "b749tVOdM210"
   },
   "outputs": [],
   "source": [
    "# Input Shape of the image in the format: (number of frames, image height, image width, number of channels)\n",
    "input_shape = (18, 120, 120, 3)\n",
    "\n",
    "# Model Architecture\n",
    "model = Sequential()\n",
    "\n",
    "model.add(TimeDistributed(Conv2D(16, (3, 3) , padding='same', activation='relu'),\n",
    "                                  input_shape = input_shape))\n",
    "model.add(TimeDistributed(BatchNormalization()))\n",
    "model.add(TimeDistributed(MaxPooling2D((2, 2))))\n",
    "        \n",
    "model.add(TimeDistributed(Conv2D(32, (3, 3) , padding='same', activation='relu')))\n",
    "model.add(TimeDistributed(BatchNormalization()))\n",
    "model.add(TimeDistributed(MaxPooling2D((2, 2))))\n",
    "        \n",
    "model.add(TimeDistributed(Conv2D(64, (3, 3) , padding='same', activation='relu')))\n",
    "model.add(TimeDistributed(BatchNormalization()))\n",
    "model.add(TimeDistributed(MaxPooling2D((2, 2))))\n",
    "        \n",
    "model.add(TimeDistributed(Conv2D(128, (3, 3) , padding='same', activation='relu')))\n",
    "model.add(TimeDistributed(BatchNormalization()))\n",
    "model.add(TimeDistributed(MaxPooling2D((2, 2))))\n",
    "        \n",
    "model.add(TimeDistributed(Conv2D(256, (3, 3) , padding='same', activation='relu')))\n",
    "model.add(TimeDistributed(BatchNormalization()))\n",
    "model.add(TimeDistributed(MaxPooling2D((2, 2))))\n",
    "\n",
    "model.add(TimeDistributed(Conv2D(512, (3, 3) , padding='same', activation='relu')))\n",
    "model.add(TimeDistributed(BatchNormalization()))\n",
    "model.add(TimeDistributed(MaxPooling2D((2, 2))))\n",
    "\n",
    "\n",
    "model.add(TimeDistributed(Flatten()))\n",
    "\n",
    "\n",
    "model.add(LSTM(128))\n",
    "model.add(Dropout(0.25))\n",
    "        \n",
    "model.add(Dense(128,activation='relu'))\n",
    "model.add(Dropout(0.25))\n",
    "        \n",
    "model.add(Dense(nb_dense[2], activation='softmax'))"
   ]
  },
  {
   "cell_type": "code",
   "execution_count": null,
   "metadata": {
    "colab": {
     "base_uri": "https://localhost:8080/"
    },
    "id": "48lc1NL4M_2Z",
    "outputId": "7cc1b555-31c3-4a74-a99c-a376fd58e5a2"
   },
   "outputs": [
    {
     "name": "stdout",
     "output_type": "stream",
     "text": [
      "Model: \"sequential_19\"\n",
      "_________________________________________________________________\n",
      " Layer (type)                Output Shape              Param #   \n",
      "=================================================================\n",
      " time_distributed_128 (TimeD  (None, 18, 120, 120, 16)  448      \n",
      " istributed)                                                     \n",
      "                                                                 \n",
      " time_distributed_129 (TimeD  (None, 18, 120, 120, 16)  64       \n",
      " istributed)                                                     \n",
      "                                                                 \n",
      " time_distributed_130 (TimeD  (None, 18, 60, 60, 16)   0         \n",
      " istributed)                                                     \n",
      "                                                                 \n",
      " time_distributed_131 (TimeD  (None, 18, 60, 60, 32)   4640      \n",
      " istributed)                                                     \n",
      "                                                                 \n",
      " time_distributed_132 (TimeD  (None, 18, 60, 60, 32)   128       \n",
      " istributed)                                                     \n",
      "                                                                 \n",
      " time_distributed_133 (TimeD  (None, 18, 30, 30, 32)   0         \n",
      " istributed)                                                     \n",
      "                                                                 \n",
      " time_distributed_134 (TimeD  (None, 18, 30, 30, 64)   18496     \n",
      " istributed)                                                     \n",
      "                                                                 \n",
      " time_distributed_135 (TimeD  (None, 18, 30, 30, 64)   256       \n",
      " istributed)                                                     \n",
      "                                                                 \n",
      " time_distributed_136 (TimeD  (None, 18, 15, 15, 64)   0         \n",
      " istributed)                                                     \n",
      "                                                                 \n",
      " time_distributed_137 (TimeD  (None, 18, 15, 15, 128)  73856     \n",
      " istributed)                                                     \n",
      "                                                                 \n",
      " time_distributed_138 (TimeD  (None, 18, 15, 15, 128)  512       \n",
      " istributed)                                                     \n",
      "                                                                 \n",
      " time_distributed_139 (TimeD  (None, 18, 7, 7, 128)    0         \n",
      " istributed)                                                     \n",
      "                                                                 \n",
      " time_distributed_140 (TimeD  (None, 18, 7, 7, 256)    295168    \n",
      " istributed)                                                     \n",
      "                                                                 \n",
      " time_distributed_141 (TimeD  (None, 18, 7, 7, 256)    1024      \n",
      " istributed)                                                     \n",
      "                                                                 \n",
      " time_distributed_142 (TimeD  (None, 18, 3, 3, 256)    0         \n",
      " istributed)                                                     \n",
      "                                                                 \n",
      " time_distributed_143 (TimeD  (None, 18, 3, 3, 512)    1180160   \n",
      " istributed)                                                     \n",
      "                                                                 \n",
      " time_distributed_144 (TimeD  (None, 18, 3, 3, 512)    2048      \n",
      " istributed)                                                     \n",
      "                                                                 \n",
      " time_distributed_145 (TimeD  (None, 18, 1, 1, 512)    0         \n",
      " istributed)                                                     \n",
      "                                                                 \n",
      " time_distributed_146 (TimeD  (None, 18, 512)          0         \n",
      " istributed)                                                     \n",
      "                                                                 \n",
      " lstm_8 (LSTM)               (None, 128)               328192    \n",
      "                                                                 \n",
      " dropout_36 (Dropout)        (None, 128)               0         \n",
      "                                                                 \n",
      " dense_46 (Dense)            (None, 128)               16512     \n",
      "                                                                 \n",
      " dropout_37 (Dropout)        (None, 128)               0         \n",
      "                                                                 \n",
      " dense_47 (Dense)            (None, 5)                 645       \n",
      "                                                                 \n",
      "=================================================================\n",
      "Total params: 1,922,149\n",
      "Trainable params: 1,920,133\n",
      "Non-trainable params: 2,016\n",
      "_________________________________________________________________\n",
      "None\n"
     ]
    }
   ],
   "source": [
    "# Define Optimizer\n",
    "optimiser = Adam()\n",
    "model.compile(optimizer=optimiser, loss='categorical_crossentropy', metrics=['categorical_accuracy'])\n",
    "print (model.summary())"
   ]
  },
  {
   "cell_type": "code",
   "execution_count": null,
   "metadata": {
    "colab": {
     "base_uri": "https://localhost:8080/"
    },
    "id": "Pdsyx-WWNC2l",
    "outputId": "37b8d57e-72d9-479e-fd30-39c1b3c98c7a"
   },
   "outputs": [
    {
     "name": "stdout",
     "output_type": "stream",
     "text": [
      "# training sequences = 663\n",
      "# validation sequences = 100\n",
      "batch_size = 20\n",
      "# epochs = 20\n",
      "# steps per epoch  34\n",
      "# validation steps  5\n",
      "Input Shape  (18, 120, 120, 3)\n"
     ]
    }
   ],
   "source": [
    "# Setting batch_size and num_epochs\n",
    "(train_generator, val_generator, steps_per_epoch, validation_steps, num_epochs) = gen(batch_size = 20, epochs = 20, input_shape = input_shape)"
   ]
  },
  {
   "cell_type": "code",
   "execution_count": null,
   "metadata": {
    "colab": {
     "base_uri": "https://localhost:8080/"
    },
    "id": "yL_4QfZENHmH",
    "outputId": "d2d28fba-c152-46ba-c2e6-c6c50f1747cb"
   },
   "outputs": [
    {
     "name": "stdout",
     "output_type": "stream",
     "text": [
      "Source path =  /content/drive/MyDrive/Project_data/train  ; batch size = 20\n",
      "Epoch 1/20\n",
      "34/34 [==============================] - ETA: 0s - loss: 1.3041 - categorical_accuracy: 0.4404Source path =  /content/drive/MyDrive/Project_data/val ; batch size = 20\n",
      "\n",
      "Epoch 1: saving model to model_init_2022-08-1113_02_18.794768/model-00001-1.30413-0.44042-2.15746-0.24000.h5\n",
      "34/34 [==============================] - 53s 2s/step - loss: 1.3041 - categorical_accuracy: 0.4404 - val_loss: 2.1575 - val_categorical_accuracy: 0.2400 - lr: 0.0010\n",
      "Epoch 2/20\n",
      "34/34 [==============================] - ETA: 0s - loss: 1.4024 - categorical_accuracy: 0.4020\n",
      "Epoch 2: saving model to model_init_2022-08-1113_02_18.794768/model-00002-1.40235-0.40196-1.80502-0.20000.h5\n",
      "34/34 [==============================] - 15s 454ms/step - loss: 1.4024 - categorical_accuracy: 0.4020 - val_loss: 1.8050 - val_categorical_accuracy: 0.2000 - lr: 0.0010\n",
      "Epoch 3/20\n",
      "34/34 [==============================] - ETA: 0s - loss: 1.5203 - categorical_accuracy: 0.2941\n",
      "Epoch 3: saving model to model_init_2022-08-1113_02_18.794768/model-00003-1.52029-0.29412-1.85164-0.21000.h5\n",
      "34/34 [==============================] - 14s 427ms/step - loss: 1.5203 - categorical_accuracy: 0.2941 - val_loss: 1.8516 - val_categorical_accuracy: 0.2100 - lr: 0.0010\n",
      "Epoch 4/20\n",
      "34/34 [==============================] - ETA: 0s - loss: 1.5024 - categorical_accuracy: 0.3235\n",
      "Epoch 4: saving model to model_init_2022-08-1113_02_18.794768/model-00004-1.50238-0.32353-1.39597-0.39000.h5\n",
      "34/34 [==============================] - 15s 463ms/step - loss: 1.5024 - categorical_accuracy: 0.3235 - val_loss: 1.3960 - val_categorical_accuracy: 0.3900 - lr: 0.0010\n",
      "Epoch 5/20\n",
      "34/34 [==============================] - ETA: 0s - loss: 1.4154 - categorical_accuracy: 0.3529\n",
      "Epoch 5: saving model to model_init_2022-08-1113_02_18.794768/model-00005-1.41536-0.35294-1.75956-0.27000.h5\n",
      "34/34 [==============================] - 15s 450ms/step - loss: 1.4154 - categorical_accuracy: 0.3529 - val_loss: 1.7596 - val_categorical_accuracy: 0.2700 - lr: 0.0010\n",
      "Epoch 6/20\n",
      "34/34 [==============================] - ETA: 0s - loss: 1.6163 - categorical_accuracy: 0.3333\n",
      "Epoch 6: saving model to model_init_2022-08-1113_02_18.794768/model-00006-1.61629-0.33333-1.44062-0.33000.h5\n",
      "\n",
      "Epoch 6: ReduceLROnPlateau reducing learning rate to 0.0005000000237487257.\n",
      "34/34 [==============================] - 16s 471ms/step - loss: 1.6163 - categorical_accuracy: 0.3333 - val_loss: 1.4406 - val_categorical_accuracy: 0.3300 - lr: 0.0010\n",
      "Epoch 7/20\n",
      "34/34 [==============================] - ETA: 0s - loss: 1.4503 - categorical_accuracy: 0.3725\n",
      "Epoch 7: saving model to model_init_2022-08-1113_02_18.794768/model-00007-1.45025-0.37255-1.28573-0.45000.h5\n",
      "34/34 [==============================] - 15s 463ms/step - loss: 1.4503 - categorical_accuracy: 0.3725 - val_loss: 1.2857 - val_categorical_accuracy: 0.4500 - lr: 5.0000e-04\n",
      "Epoch 8/20\n",
      "34/34 [==============================] - ETA: 0s - loss: 1.4082 - categorical_accuracy: 0.3333\n",
      "Epoch 8: saving model to model_init_2022-08-1113_02_18.794768/model-00008-1.40818-0.33333-1.15514-0.64000.h5\n",
      "34/34 [==============================] - 16s 487ms/step - loss: 1.4082 - categorical_accuracy: 0.3333 - val_loss: 1.1551 - val_categorical_accuracy: 0.6400 - lr: 5.0000e-04\n",
      "Epoch 9/20\n",
      "34/34 [==============================] - ETA: 0s - loss: 1.3695 - categorical_accuracy: 0.4314\n",
      "Epoch 9: saving model to model_init_2022-08-1113_02_18.794768/model-00009-1.36951-0.43137-1.12142-0.47000.h5\n",
      "34/34 [==============================] - 15s 441ms/step - loss: 1.3695 - categorical_accuracy: 0.4314 - val_loss: 1.1214 - val_categorical_accuracy: 0.4700 - lr: 5.0000e-04\n",
      "Epoch 10/20\n",
      "34/34 [==============================] - ETA: 0s - loss: 1.3311 - categorical_accuracy: 0.5196\n",
      "Epoch 10: saving model to model_init_2022-08-1113_02_18.794768/model-00010-1.33111-0.51961-1.21838-0.50000.h5\n",
      "34/34 [==============================] - 15s 445ms/step - loss: 1.3311 - categorical_accuracy: 0.5196 - val_loss: 1.2184 - val_categorical_accuracy: 0.5000 - lr: 5.0000e-04\n",
      "Epoch 11/20\n",
      "34/34 [==============================] - ETA: 0s - loss: 1.4062 - categorical_accuracy: 0.4804\n",
      "Epoch 11: saving model to model_init_2022-08-1113_02_18.794768/model-00011-1.40617-0.48039-1.51950-0.37000.h5\n",
      "\n",
      "Epoch 11: ReduceLROnPlateau reducing learning rate to 0.0002500000118743628.\n",
      "34/34 [==============================] - 15s 460ms/step - loss: 1.4062 - categorical_accuracy: 0.4804 - val_loss: 1.5195 - val_categorical_accuracy: 0.3700 - lr: 5.0000e-04\n",
      "Epoch 11: early stopping\n"
     ]
    },
    {
     "data": {
      "text/plain": [
       "<keras.callbacks.History at 0x7f5a85148e10>"
      ]
     },
     "execution_count": 113,
     "metadata": {},
     "output_type": "execute_result"
    }
   ],
   "source": [
    "# Fitting the model\n",
    "model.fit(train_generator, steps_per_epoch=steps_per_epoch, epochs=num_epochs, verbose=1, \n",
    "                    callbacks=callbacks_list, validation_data=val_generator, \n",
    "                    validation_steps=validation_steps, class_weight=None, workers=1, initial_epoch=0)"
   ]
  },
  {
   "cell_type": "code",
   "execution_count": null,
   "metadata": {
    "colab": {
     "base_uri": "https://localhost:8080/",
     "height": 268
    },
    "id": "yvEM8cQdOAkV",
    "outputId": "13164c84-eaa8-418e-db42-f4790b7975b1"
   },
   "outputs": [
    {
     "data": {
      "image/png": "[encoded data removed]",
      "text/plain": [
       "<Figure size 1080x288 with 2 Axes>"
      ]
     },
     "metadata": {
      "needs_background": "light"
     },
     "output_type": "display_data"
    }
   ],
   "source": [
    "# Plotting the results\n",
    "plot(model)"
   ]
  },
  {
   "cell_type": "markdown",
   "metadata": {
    "id": "mi15kK8KjeSY"
   },
   "source": [
    "**Addition of another hidden layer did not help us with any increase in the accuracy.**"
   ]
  },
  {
   "cell_type": "markdown",
   "metadata": {
    "id": "hhwMx7STkPrC"
   },
   "source": [
    "## Model 12: LSTM\n",
    "\n",
    "In this model, we have altered the dropout layers by increasing the dropout value to 0.5. Rest of the architecture is same as the one used in Model 10."
   ]
  },
  {
   "cell_type": "code",
   "execution_count": null,
   "metadata": {
    "id": "whKT5LPUOB9x"
   },
   "outputs": [],
   "source": [
    "# Input Shape of the image in the format: (number of frames, image height, image width, number of channels)\n",
    "input_shape = (18, 120, 120, 3)\n",
    "\n",
    "# Define Architecture\n",
    "model = Sequential()\n",
    "\n",
    "model.add(TimeDistributed(Conv2D(16, (3, 3) , padding='same', activation='relu'),\n",
    "                                  input_shape = input_shape))\n",
    "model.add(TimeDistributed(BatchNormalization()))\n",
    "model.add(TimeDistributed(MaxPooling2D((2, 2))))\n",
    "        \n",
    "model.add(TimeDistributed(Conv2D(32, (3, 3) , padding='same', activation='relu')))\n",
    "model.add(TimeDistributed(BatchNormalization()))\n",
    "model.add(TimeDistributed(MaxPooling2D((2, 2))))\n",
    "        \n",
    "model.add(TimeDistributed(Conv2D(64, (3, 3) , padding='same', activation='relu')))\n",
    "model.add(TimeDistributed(BatchNormalization()))\n",
    "model.add(TimeDistributed(MaxPooling2D((2, 2))))\n",
    "        \n",
    "model.add(TimeDistributed(Conv2D(128, (3, 3) , padding='same', activation='relu')))\n",
    "model.add(TimeDistributed(BatchNormalization()))\n",
    "model.add(TimeDistributed(MaxPooling2D((2, 2))))\n",
    "        \n",
    "model.add(TimeDistributed(Conv2D(256, (3, 3) , padding='same', activation='relu')))\n",
    "model.add(TimeDistributed(BatchNormalization()))\n",
    "model.add(TimeDistributed(MaxPooling2D((2, 2))))\n",
    "\n",
    "model.add(TimeDistributed(Conv2D(512, (3, 3) , padding='same', activation='relu')))\n",
    "model.add(TimeDistributed(BatchNormalization()))\n",
    "model.add(TimeDistributed(MaxPooling2D((2, 2))))\n",
    "\n",
    "\n",
    "model.add(TimeDistributed(Flatten()))\n",
    "\n",
    "\n",
    "model.add(LSTM(128))\n",
    "model.add(Dropout(0.50))\n",
    "        \n",
    "model.add(Dense(128,activation='relu'))\n",
    "model.add(Dropout(0.50))\n",
    "        \n",
    "model.add(Dense(nb_dense[2], activation='softmax'))"
   ]
  },
  {
   "cell_type": "code",
   "execution_count": null,
   "metadata": {
    "colab": {
     "base_uri": "https://localhost:8080/"
    },
    "id": "YWBz6d1VOH6d",
    "outputId": "f7032941-f565-47be-edd0-73f3289587f7"
   },
   "outputs": [
    {
     "name": "stdout",
     "output_type": "stream",
     "text": [
      "Model: \"sequential_21\"\n",
      "_________________________________________________________________\n",
      " Layer (type)                Output Shape              Param #   \n",
      "=================================================================\n",
      " time_distributed_166 (TimeD  (None, 18, 120, 120, 16)  448      \n",
      " istributed)                                                     \n",
      "                                                                 \n",
      " time_distributed_167 (TimeD  (None, 18, 120, 120, 16)  64       \n",
      " istributed)                                                     \n",
      "                                                                 \n",
      " time_distributed_168 (TimeD  (None, 18, 60, 60, 16)   0         \n",
      " istributed)                                                     \n",
      "                                                                 \n",
      " time_distributed_169 (TimeD  (None, 18, 60, 60, 32)   4640      \n",
      " istributed)                                                     \n",
      "                                                                 \n",
      " time_distributed_170 (TimeD  (None, 18, 60, 60, 32)   128       \n",
      " istributed)                                                     \n",
      "                                                                 \n",
      " time_distributed_171 (TimeD  (None, 18, 30, 30, 32)   0         \n",
      " istributed)                                                     \n",
      "                                                                 \n",
      " time_distributed_172 (TimeD  (None, 18, 30, 30, 64)   18496     \n",
      " istributed)                                                     \n",
      "                                                                 \n",
      " time_distributed_173 (TimeD  (None, 18, 30, 30, 64)   256       \n",
      " istributed)                                                     \n",
      "                                                                 \n",
      " time_distributed_174 (TimeD  (None, 18, 15, 15, 64)   0         \n",
      " istributed)                                                     \n",
      "                                                                 \n",
      " time_distributed_175 (TimeD  (None, 18, 15, 15, 128)  73856     \n",
      " istributed)                                                     \n",
      "                                                                 \n",
      " time_distributed_176 (TimeD  (None, 18, 15, 15, 128)  512       \n",
      " istributed)                                                     \n",
      "                                                                 \n",
      " time_distributed_177 (TimeD  (None, 18, 7, 7, 128)    0         \n",
      " istributed)                                                     \n",
      "                                                                 \n",
      " time_distributed_178 (TimeD  (None, 18, 7, 7, 256)    295168    \n",
      " istributed)                                                     \n",
      "                                                                 \n",
      " time_distributed_179 (TimeD  (None, 18, 7, 7, 256)    1024      \n",
      " istributed)                                                     \n",
      "                                                                 \n",
      " time_distributed_180 (TimeD  (None, 18, 3, 3, 256)    0         \n",
      " istributed)                                                     \n",
      "                                                                 \n",
      " time_distributed_181 (TimeD  (None, 18, 3, 3, 512)    1180160   \n",
      " istributed)                                                     \n",
      "                                                                 \n",
      " time_distributed_182 (TimeD  (None, 18, 3, 3, 512)    2048      \n",
      " istributed)                                                     \n",
      "                                                                 \n",
      " time_distributed_183 (TimeD  (None, 18, 1, 1, 512)    0         \n",
      " istributed)                                                     \n",
      "                                                                 \n",
      " time_distributed_184 (TimeD  (None, 18, 512)          0         \n",
      " istributed)                                                     \n",
      "                                                                 \n",
      " lstm_10 (LSTM)              (None, 128)               328192    \n",
      "                                                                 \n",
      " dropout_40 (Dropout)        (None, 128)               0         \n",
      "                                                                 \n",
      " dense_50 (Dense)            (None, 128)               16512     \n",
      "                                                                 \n",
      " dropout_41 (Dropout)        (None, 128)               0         \n",
      "                                                                 \n",
      " dense_51 (Dense)            (None, 5)                 645       \n",
      "                                                                 \n",
      "=================================================================\n",
      "Total params: 1,922,149\n",
      "Trainable params: 1,920,133\n",
      "Non-trainable params: 2,016\n",
      "_________________________________________________________________\n",
      "None\n"
     ]
    }
   ],
   "source": [
    "# Define Optimizer\n",
    "optimiser = Adam()\n",
    "model.compile(optimizer=optimiser, loss='categorical_crossentropy', metrics=['categorical_accuracy'])\n",
    "print (model.summary())"
   ]
  },
  {
   "cell_type": "code",
   "execution_count": null,
   "metadata": {
    "colab": {
     "base_uri": "https://localhost:8080/"
    },
    "id": "tGFtu3oxOHlK",
    "outputId": "8b5e8b75-bb3a-41bd-e7aa-5a5b71bf07bb"
   },
   "outputs": [
    {
     "name": "stdout",
     "output_type": "stream",
     "text": [
      "# training sequences = 663\n",
      "# validation sequences = 100\n",
      "batch_size = 20\n",
      "# epochs = 20\n",
      "# steps per epoch  34\n",
      "# validation steps  5\n",
      "Input Shape  (18, 120, 120, 3)\n"
     ]
    }
   ],
   "source": [
    "# Setting batch_size and num_epochs\n",
    "(train_generator, val_generator, steps_per_epoch, validation_steps, num_epochs) = gen(batch_size = 20, epochs = 20, input_shape = input_shape)"
   ]
  },
  {
   "cell_type": "code",
   "execution_count": null,
   "metadata": {
    "colab": {
     "base_uri": "https://localhost:8080/"
    },
    "id": "j3fOUDGZOG-4",
    "outputId": "eeff9a82-e150-4ccf-c352-5e803817de28"
   },
   "outputs": [
    {
     "name": "stdout",
     "output_type": "stream",
     "text": [
      "Source path =  /content/drive/MyDrive/Project_data/train  ; batch size = 20\n",
      "Epoch 1/20\n",
      "34/34 [==============================] - ETA: 0s - loss: 1.4305 - categorical_accuracy: 0.4027Source path =  /content/drive/MyDrive/Project_data/val ; batch size = 20\n",
      "\n",
      "Epoch 1: saving model to model_init_2022-08-1113_02_18.794768/model-00001-1.43053-0.40271-2.22842-0.23000.h5\n",
      "34/34 [==============================] - 53s 2s/step - loss: 1.4305 - categorical_accuracy: 0.4027 - val_loss: 2.2284 - val_categorical_accuracy: 0.2300 - lr: 0.0010\n",
      "Epoch 2/20\n",
      "34/34 [==============================] - ETA: 0s - loss: 1.4667 - categorical_accuracy: 0.4020\n",
      "Epoch 2: saving model to model_init_2022-08-1113_02_18.794768/model-00002-1.46671-0.40196-2.08336-0.20000.h5\n",
      "34/34 [==============================] - 15s 462ms/step - loss: 1.4667 - categorical_accuracy: 0.4020 - val_loss: 2.0834 - val_categorical_accuracy: 0.2000 - lr: 0.0010\n",
      "Epoch 3/20\n",
      "34/34 [==============================] - ETA: 0s - loss: 1.5277 - categorical_accuracy: 0.3333\n",
      "Epoch 3: saving model to model_init_2022-08-1113_02_18.794768/model-00003-1.52771-0.33333-1.60351-0.34000.h5\n",
      "34/34 [==============================] - 15s 460ms/step - loss: 1.5277 - categorical_accuracy: 0.3333 - val_loss: 1.6035 - val_categorical_accuracy: 0.3400 - lr: 0.0010\n",
      "Epoch 4/20\n",
      "34/34 [==============================] - ETA: 0s - loss: 1.7156 - categorical_accuracy: 0.3529\n",
      "Epoch 4: saving model to model_init_2022-08-1113_02_18.794768/model-00004-1.71558-0.35294-1.83713-0.21000.h5\n",
      "34/34 [==============================] - 15s 460ms/step - loss: 1.7156 - categorical_accuracy: 0.3529 - val_loss: 1.8371 - val_categorical_accuracy: 0.2100 - lr: 0.0010\n",
      "Epoch 5/20\n",
      "34/34 [==============================] - ETA: 0s - loss: 1.5328 - categorical_accuracy: 0.3137\n",
      "Epoch 5: saving model to model_init_2022-08-1113_02_18.794768/model-00005-1.53284-0.31373-1.58896-0.28000.h5\n",
      "34/34 [==============================] - 16s 474ms/step - loss: 1.5328 - categorical_accuracy: 0.3137 - val_loss: 1.5890 - val_categorical_accuracy: 0.2800 - lr: 0.0010\n",
      "Epoch 6/20\n",
      "34/34 [==============================] - ETA: 0s - loss: 1.5821 - categorical_accuracy: 0.2941\n",
      "Epoch 6: saving model to model_init_2022-08-1113_02_18.794768/model-00006-1.58210-0.29412-1.31169-0.48000.h5\n",
      "34/34 [==============================] - 15s 459ms/step - loss: 1.5821 - categorical_accuracy: 0.2941 - val_loss: 1.3117 - val_categorical_accuracy: 0.4800 - lr: 0.0010\n",
      "Epoch 7/20\n",
      "34/34 [==============================] - ETA: 0s - loss: 1.5003 - categorical_accuracy: 0.2941\n",
      "Epoch 7: saving model to model_init_2022-08-1113_02_18.794768/model-00007-1.50025-0.29412-1.26569-0.47000.h5\n",
      "34/34 [==============================] - 15s 451ms/step - loss: 1.5003 - categorical_accuracy: 0.2941 - val_loss: 1.2657 - val_categorical_accuracy: 0.4700 - lr: 0.0010\n",
      "Epoch 8/20\n",
      "34/34 [==============================] - ETA: 0s - loss: 1.7059 - categorical_accuracy: 0.3431\n",
      "Epoch 8: saving model to model_init_2022-08-1113_02_18.794768/model-00008-1.70593-0.34314-1.30660-0.49000.h5\n",
      "34/34 [==============================] - 15s 450ms/step - loss: 1.7059 - categorical_accuracy: 0.3431 - val_loss: 1.3066 - val_categorical_accuracy: 0.4900 - lr: 0.0010\n",
      "Epoch 9/20\n",
      "34/34 [==============================] - ETA: 0s - loss: 1.3797 - categorical_accuracy: 0.4804\n",
      "Epoch 9: saving model to model_init_2022-08-1113_02_18.794768/model-00009-1.37967-0.48039-1.35530-0.44000.h5\n",
      "\n",
      "Epoch 9: ReduceLROnPlateau reducing learning rate to 0.0005000000237487257.\n",
      "34/34 [==============================] - 15s 454ms/step - loss: 1.3797 - categorical_accuracy: 0.4804 - val_loss: 1.3553 - val_categorical_accuracy: 0.4400 - lr: 0.0010\n",
      "Epoch 10/20\n",
      "34/34 [==============================] - ETA: 0s - loss: 1.5293 - categorical_accuracy: 0.3235\n",
      "Epoch 10: saving model to model_init_2022-08-1113_02_18.794768/model-00010-1.52935-0.32353-1.33149-0.40000.h5\n",
      "34/34 [==============================] - 16s 471ms/step - loss: 1.5293 - categorical_accuracy: 0.3235 - val_loss: 1.3315 - val_categorical_accuracy: 0.4000 - lr: 5.0000e-04\n",
      "Epoch 11/20\n",
      "34/34 [==============================] - ETA: 0s - loss: 1.4860 - categorical_accuracy: 0.3627\n",
      "Epoch 11: saving model to model_init_2022-08-1113_02_18.794768/model-00011-1.48599-0.36275-1.19026-0.57000.h5\n",
      "34/34 [==============================] - 15s 456ms/step - loss: 1.4860 - categorical_accuracy: 0.3627 - val_loss: 1.1903 - val_categorical_accuracy: 0.5700 - lr: 5.0000e-04\n",
      "Epoch 12/20\n",
      "34/34 [==============================] - ETA: 0s - loss: 1.4099 - categorical_accuracy: 0.3627\n",
      "Epoch 12: saving model to model_init_2022-08-1113_02_18.794768/model-00012-1.40994-0.36275-1.15657-0.54000.h5\n",
      "34/34 [==============================] - 15s 466ms/step - loss: 1.4099 - categorical_accuracy: 0.3627 - val_loss: 1.1566 - val_categorical_accuracy: 0.5400 - lr: 5.0000e-04\n",
      "Epoch 13/20\n",
      "34/34 [==============================] - ETA: 0s - loss: 1.3765 - categorical_accuracy: 0.4020\n",
      "Epoch 13: saving model to model_init_2022-08-1113_02_18.794768/model-00013-1.37649-0.40196-1.29854-0.41000.h5\n",
      "34/34 [==============================] - 14s 437ms/step - loss: 1.3765 - categorical_accuracy: 0.4020 - val_loss: 1.2985 - val_categorical_accuracy: 0.4100 - lr: 5.0000e-04\n",
      "Epoch 14/20\n",
      "34/34 [==============================] - ETA: 0s - loss: 1.3514 - categorical_accuracy: 0.4216\n",
      "Epoch 14: saving model to model_init_2022-08-1113_02_18.794768/model-00014-1.35141-0.42157-1.17485-0.55000.h5\n",
      "\n",
      "Epoch 14: ReduceLROnPlateau reducing learning rate to 0.0002500000118743628.\n",
      "34/34 [==============================] - 15s 455ms/step - loss: 1.3514 - categorical_accuracy: 0.4216 - val_loss: 1.1748 - val_categorical_accuracy: 0.5500 - lr: 5.0000e-04\n",
      "Epoch 14: early stopping\n"
     ]
    },
    {
     "data": {
      "text/plain": [
       "<keras.callbacks.History at 0x7f5a84331d50>"
      ]
     },
     "execution_count": 121,
     "metadata": {},
     "output_type": "execute_result"
    }
   ],
   "source": [
    "# Fitting the model\n",
    "model.fit(train_generator, steps_per_epoch=steps_per_epoch, epochs=num_epochs, verbose=1, \n",
    "                    callbacks=callbacks_list, validation_data=val_generator, \n",
    "                    validation_steps=validation_steps, class_weight=None, workers=1, initial_epoch=0)"
   ]
  },
  {
   "cell_type": "code",
   "execution_count": null,
   "metadata": {
    "colab": {
     "base_uri": "https://localhost:8080/"
    },
    "id": "neUKufsXPaxy",
    "outputId": "b715b4ac-e215-43a6-8bf3-b71d0e5a7228"
   },
   "outputs": [
    {
     "data": {
      "image/png": "[encoded data removed]",
      "text/plain": [
       "<Figure size 1080x288 with 2 Axes>"
      ]
     },
     "metadata": {
      "needs_background": "light"
     },
     "output_type": "display_data"
    }
   ],
   "source": [
    "# Plotting the model\n",
    "plot(model)"
   ]
  },
  {
   "cell_type": "markdown",
   "metadata": {
    "id": "4lHqaAhInHhN"
   },
   "source": [
    "**The overall performance of this model is not up to the mark. Neither the accuracy achieved is good nor the problem of overfitting has been addressed.**"
   ]
  },
  {
   "cell_type": "markdown",
   "metadata": {
    "id": "ssQ0ez8DCLvS"
   },
   "source": [
    "## Model 13: LSTM\n",
    "\n",
    "In this model, we have used all the 30 frames along with an image size of (120,120). BatchNormaliztion, Max Pooling and Dropout layers with a dropout value of 0.50 have also been used. Batch size has been increased to 64 and number of epochs is set to 15."
   ]
  },
  {
   "cell_type": "code",
   "execution_count": null,
   "metadata": {
    "id": "zPdB29ZsU_r5"
   },
   "outputs": [],
   "source": [
    "# Input Shape of the image in the format: (number of frames, image height, image width, number of channels)\n",
    "input_shape=(30,120,120,3)\n",
    "\n",
    "# Define Architecture\n",
    "model = Sequential()\n",
    "\n",
    "model.add(TimeDistributed(Conv2D(16, (3, 3) , padding='same', activation='relu'),\n",
    "                                  input_shape = input_shape))\n",
    "model.add(TimeDistributed(BatchNormalization()))\n",
    "model.add(TimeDistributed(MaxPooling2D((2, 2))))\n",
    "        \n",
    "model.add(TimeDistributed(Conv2D(32, (3, 3) , padding='same', activation='relu')))\n",
    "model.add(TimeDistributed(BatchNormalization()))\n",
    "model.add(TimeDistributed(MaxPooling2D((2, 2))))\n",
    "        \n",
    "model.add(TimeDistributed(Conv2D(64, (3, 3) , padding='same', activation='relu')))\n",
    "model.add(TimeDistributed(BatchNormalization()))\n",
    "model.add(TimeDistributed(MaxPooling2D((2, 2))))\n",
    "        \n",
    "model.add(TimeDistributed(Conv2D(128, (3, 3) , padding='same', activation='relu')))\n",
    "model.add(TimeDistributed(BatchNormalization()))\n",
    "model.add(TimeDistributed(MaxPooling2D((2, 2))))\n",
    "        \n",
    "model.add(TimeDistributed(Conv2D(256, (3, 3) , padding='same', activation='relu')))\n",
    "model.add(TimeDistributed(BatchNormalization()))\n",
    "model.add(TimeDistributed(MaxPooling2D((2, 2))))\n",
    "        \n",
    "\n",
    "model.add(TimeDistributed(Flatten()))\n",
    "\n",
    "\n",
    "model.add(LSTM(128))\n",
    "model.add(Dropout(0.50))\n",
    "        \n",
    "model.add(Dense(128,activation='relu'))\n",
    "model.add(Dropout(0.50))\n",
    "        \n",
    "model.add(Dense(nb_dense[2], activation='softmax'))\n"
   ]
  },
  {
   "cell_type": "code",
   "execution_count": null,
   "metadata": {
    "colab": {
     "base_uri": "https://localhost:8080/"
    },
    "id": "C5u7ihgGHkBF",
    "outputId": "9e8d5337-ec54-4b37-b2df-94c5cdd12ce1"
   },
   "outputs": [
    {
     "name": "stdout",
     "output_type": "stream",
     "text": [
      "Model: \"sequential_14\"\n",
      "_________________________________________________________________\n",
      " Layer (type)                Output Shape              Param #   \n",
      "=================================================================\n",
      " time_distributed_48 (TimeDi  (None, 30, 120, 120, 16)  448      \n",
      " stributed)                                                      \n",
      "                                                                 \n",
      " time_distributed_49 (TimeDi  (None, 30, 120, 120, 16)  64       \n",
      " stributed)                                                      \n",
      "                                                                 \n",
      " time_distributed_50 (TimeDi  (None, 30, 60, 60, 16)   0         \n",
      " stributed)                                                      \n",
      "                                                                 \n",
      " time_distributed_51 (TimeDi  (None, 30, 60, 60, 32)   4640      \n",
      " stributed)                                                      \n",
      "                                                                 \n",
      " time_distributed_52 (TimeDi  (None, 30, 60, 60, 32)   128       \n",
      " stributed)                                                      \n",
      "                                                                 \n",
      " time_distributed_53 (TimeDi  (None, 30, 30, 30, 32)   0         \n",
      " stributed)                                                      \n",
      "                                                                 \n",
      " time_distributed_54 (TimeDi  (None, 30, 30, 30, 64)   18496     \n",
      " stributed)                                                      \n",
      "                                                                 \n",
      " time_distributed_55 (TimeDi  (None, 30, 30, 30, 64)   256       \n",
      " stributed)                                                      \n",
      "                                                                 \n",
      " time_distributed_56 (TimeDi  (None, 30, 15, 15, 64)   0         \n",
      " stributed)                                                      \n",
      "                                                                 \n",
      " time_distributed_57 (TimeDi  (None, 30, 15, 15, 128)  73856     \n",
      " stributed)                                                      \n",
      "                                                                 \n",
      " time_distributed_58 (TimeDi  (None, 30, 15, 15, 128)  512       \n",
      " stributed)                                                      \n",
      "                                                                 \n",
      " time_distributed_59 (TimeDi  (None, 30, 7, 7, 128)    0         \n",
      " stributed)                                                      \n",
      "                                                                 \n",
      " time_distributed_60 (TimeDi  (None, 30, 7, 7, 256)    295168    \n",
      " stributed)                                                      \n",
      "                                                                 \n",
      " time_distributed_61 (TimeDi  (None, 30, 7, 7, 256)    1024      \n",
      " stributed)                                                      \n",
      "                                                                 \n",
      " time_distributed_62 (TimeDi  (None, 30, 3, 3, 256)    0         \n",
      " stributed)                                                      \n",
      "                                                                 \n",
      " time_distributed_63 (TimeDi  (None, 30, 2304)         0         \n",
      " stributed)                                                      \n",
      "                                                                 \n",
      " lstm_3 (LSTM)               (None, 128)               1245696   \n",
      "                                                                 \n",
      " dropout_26 (Dropout)        (None, 128)               0         \n",
      "                                                                 \n",
      " dense_36 (Dense)            (None, 128)               16512     \n",
      "                                                                 \n",
      " dropout_27 (Dropout)        (None, 128)               0         \n",
      "                                                                 \n",
      " dense_37 (Dense)            (None, 5)                 645       \n",
      "                                                                 \n",
      "=================================================================\n",
      "Total params: 1,657,445\n",
      "Trainable params: 1,656,453\n",
      "Non-trainable params: 992\n",
      "_________________________________________________________________\n",
      "None\n"
     ]
    }
   ],
   "source": [
    "# Defining Optimizer\n",
    "optimiser = Adam()\n",
    "model.compile(optimizer=optimiser, loss='categorical_crossentropy', metrics=['categorical_accuracy'])\n",
    "print(model.summary())"
   ]
  },
  {
   "cell_type": "code",
   "execution_count": null,
   "metadata": {
    "colab": {
     "base_uri": "https://localhost:8080/"
    },
    "id": "U-rKRIDSHmtW",
    "outputId": "3003b1f9-8867-4f14-bb5d-aaaac22290c4"
   },
   "outputs": [
    {
     "name": "stdout",
     "output_type": "stream",
     "text": [
      "# training sequences = 663\n",
      "# validation sequences = 100\n",
      "batch_size = 64\n",
      "# epochs = 15\n",
      "# steps per epoch  11\n",
      "# validation steps  2\n",
      "Input Shape  (30, 120, 120, 3)\n"
     ]
    }
   ],
   "source": [
    "# Setting batch_size and num_epochs\n",
    "(train_generator, val_generator, steps_per_epoch, validation_steps, num_epochs) = gen(batch_size = 64, epochs = 15, input_shape = input_shape)"
   ]
  },
  {
   "cell_type": "code",
   "execution_count": null,
   "metadata": {
    "colab": {
     "base_uri": "https://localhost:8080/"
    },
    "id": "I2fS429THr4y",
    "outputId": "da6f2000-01f0-4fa1-af53-71142dc1add7"
   },
   "outputs": [
    {
     "name": "stdout",
     "output_type": "stream",
     "text": [
      "Source path =  /content/drive/MyDrive/Project_data/train  ; batch size = 64\n",
      "Epoch 1/15\n",
      "11/11 [==============================] - ETA: 0s - loss: 1.5730 - categorical_accuracy: 0.3122Source path =  /content/drive/MyDrive/Project_data/val ; batch size = 64\n",
      "\n",
      "Epoch 1: saving model to model_init_2022-08-1113_02_18.794768/model-00001-1.57298-0.31222-1.69025-0.30000.h5\n",
      "11/11 [==============================] - 84s 8s/step - loss: 1.5730 - categorical_accuracy: 0.3122 - val_loss: 1.6903 - val_categorical_accuracy: 0.3000 - lr: 0.0010\n",
      "Epoch 2/15\n",
      "11/11 [==============================] - ETA: 0s - loss: 1.3303 - categorical_accuracy: 0.4506\n",
      "Epoch 2: saving model to model_init_2022-08-1113_02_18.794768/model-00002-1.33029-0.45059-1.79689-0.23438.h5\n",
      "11/11 [==============================] - 37s 4s/step - loss: 1.3303 - categorical_accuracy: 0.4506 - val_loss: 1.7969 - val_categorical_accuracy: 0.2344 - lr: 0.0010\n",
      "Epoch 3/15\n",
      "11/11 [==============================] - ETA: 0s - loss: 1.2831 - categorical_accuracy: 0.4308\n",
      "Epoch 3: saving model to model_init_2022-08-1113_02_18.794768/model-00003-1.28308-0.43083-2.04314-0.26786.h5\n",
      "\n",
      "Epoch 3: ReduceLROnPlateau reducing learning rate to 0.0005000000237487257.\n",
      "11/11 [==============================] - 33s 3s/step - loss: 1.2831 - categorical_accuracy: 0.4308 - val_loss: 2.0431 - val_categorical_accuracy: 0.2679 - lr: 0.0010\n",
      "Epoch 4/15\n",
      "11/11 [==============================] - ETA: 0s - loss: 1.2479 - categorical_accuracy: 0.5064\n",
      "Epoch 4: saving model to model_init_2022-08-1113_02_18.794768/model-00004-1.24791-0.50644-2.01325-0.28125.h5\n",
      "11/11 [==============================] - 27s 3s/step - loss: 1.2479 - categorical_accuracy: 0.5064 - val_loss: 2.0132 - val_categorical_accuracy: 0.2812 - lr: 5.0000e-04\n",
      "Epoch 4: early stopping\n"
     ]
    },
    {
     "data": {
      "text/plain": [
       "<keras.callbacks.History at 0x7f5db24d5e50>"
      ]
     },
     "execution_count": 88,
     "metadata": {},
     "output_type": "execute_result"
    }
   ],
   "source": [
    "# Fitting the model\n",
    "model.fit(train_generator, steps_per_epoch=steps_per_epoch, epochs=num_epochs, verbose=1, \n",
    "                    callbacks=callbacks_list, validation_data=val_generator, \n",
    "                    validation_steps=validation_steps, class_weight=None, workers=1, initial_epoch=0)"
   ]
  },
  {
   "cell_type": "code",
   "execution_count": null,
   "metadata": {
    "colab": {
     "base_uri": "https://localhost:8080/",
     "height": 265
    },
    "id": "ouediPYEHyW3",
    "outputId": "e1417c0c-7a94-4c54-d32d-8e0fae8d8552"
   },
   "outputs": [
    {
     "data": {
      "image/png": "[encoded data removed]",
      "text/plain": [
       "<Figure size 1080x288 with 2 Axes>"
      ]
     },
     "metadata": {
      "needs_background": "light"
     },
     "output_type": "display_data"
    }
   ],
   "source": [
    "# Plotting the model\n",
    "plot(model)                                                                                                                                                                            "
   ]
  },
  {
   "cell_type": "markdown",
   "metadata": {
    "id": "NxRgFMWfnWDR"
   },
   "source": [
    "**This architecture has also got the problem of overfitting.**"
   ]
  },
  {
   "cell_type": "markdown",
   "metadata": {
    "id": "mzT8icRHcc9d"
   },
   "source": [
    "## Model 14: LSTM\n",
    "\n",
    "In this model, we have tried to experiment with the size of image being fed to the neural network. All the 30 frames are being considered here and the image size has been reduced to (100, 100). BatchNormalization, MaxPooling and Dropout layers with a dropout value of 0.50 have also been used. Batch size is 64 and the number of epochs is set to 15."
   ]
  },
  {
   "cell_type": "code",
   "execution_count": null,
   "metadata": {
    "id": "9xw7SmUkCcKA"
   },
   "outputs": [],
   "source": [
    "# Input Shape of the image in the format: (number of frames, image height, image width, number of channels)\n",
    "input_shape=(30,100,100,3)\n",
    "\n",
    "# Define Architecture\n",
    "model = Sequential()\n",
    "\n",
    "model.add(TimeDistributed(Conv2D(16, (3, 3) , padding='same', activation='relu'),\n",
    "                                  input_shape = input_shape))\n",
    "model.add(TimeDistributed(BatchNormalization()))\n",
    "model.add(TimeDistributed(MaxPooling2D((2, 2))))\n",
    "        \n",
    "model.add(TimeDistributed(Conv2D(32, (3, 3) , padding='same', activation='relu')))\n",
    "model.add(TimeDistributed(BatchNormalization()))\n",
    "model.add(TimeDistributed(MaxPooling2D((2, 2))))\n",
    "        \n",
    "model.add(TimeDistributed(Conv2D(64, (3, 3) , padding='same', activation='relu')))\n",
    "model.add(TimeDistributed(BatchNormalization()))\n",
    "model.add(TimeDistributed(MaxPooling2D((2, 2))))\n",
    "        \n",
    "model.add(TimeDistributed(Conv2D(128, (3, 3) , padding='same', activation='relu')))\n",
    "model.add(TimeDistributed(BatchNormalization()))\n",
    "model.add(TimeDistributed(MaxPooling2D((2, 2))))\n",
    "        \n",
    "model.add(TimeDistributed(Conv2D(256, (3, 3) , padding='same', activation='relu')))\n",
    "model.add(TimeDistributed(BatchNormalization()))\n",
    "model.add(TimeDistributed(MaxPooling2D((2, 2))))\n",
    "        \n",
    "\n",
    "model.add(TimeDistributed(Flatten()))\n",
    "\n",
    "\n",
    "model.add(LSTM(128))\n",
    "model.add(Dropout(0.50))\n",
    "        \n",
    "model.add(Dense(128,activation='relu'))\n",
    "model.add(Dropout(0.50))\n",
    "        \n",
    "model.add(Dense(nb_dense[2], activation='softmax'))"
   ]
  },
  {
   "cell_type": "code",
   "execution_count": null,
   "metadata": {
    "colab": {
     "base_uri": "https://localhost:8080/"
    },
    "id": "q03FxHqJCgzK",
    "outputId": "6414b1fd-821e-445c-f573-6bbe5c6b8ddf"
   },
   "outputs": [
    {
     "name": "stdout",
     "output_type": "stream",
     "text": [
      "Model: \"sequential_15\"\n",
      "_________________________________________________________________\n",
      " Layer (type)                Output Shape              Param #   \n",
      "=================================================================\n",
      " time_distributed_64 (TimeDi  (None, 30, 100, 100, 16)  448      \n",
      " stributed)                                                      \n",
      "                                                                 \n",
      " time_distributed_65 (TimeDi  (None, 30, 100, 100, 16)  64       \n",
      " stributed)                                                      \n",
      "                                                                 \n",
      " time_distributed_66 (TimeDi  (None, 30, 50, 50, 16)   0         \n",
      " stributed)                                                      \n",
      "                                                                 \n",
      " time_distributed_67 (TimeDi  (None, 30, 50, 50, 32)   4640      \n",
      " stributed)                                                      \n",
      "                                                                 \n",
      " time_distributed_68 (TimeDi  (None, 30, 50, 50, 32)   128       \n",
      " stributed)                                                      \n",
      "                                                                 \n",
      " time_distributed_69 (TimeDi  (None, 30, 25, 25, 32)   0         \n",
      " stributed)                                                      \n",
      "                                                                 \n",
      " time_distributed_70 (TimeDi  (None, 30, 25, 25, 64)   18496     \n",
      " stributed)                                                      \n",
      "                                                                 \n",
      " time_distributed_71 (TimeDi  (None, 30, 25, 25, 64)   256       \n",
      " stributed)                                                      \n",
      "                                                                 \n",
      " time_distributed_72 (TimeDi  (None, 30, 12, 12, 64)   0         \n",
      " stributed)                                                      \n",
      "                                                                 \n",
      " time_distributed_73 (TimeDi  (None, 30, 12, 12, 128)  73856     \n",
      " stributed)                                                      \n",
      "                                                                 \n",
      " time_distributed_74 (TimeDi  (None, 30, 12, 12, 128)  512       \n",
      " stributed)                                                      \n",
      "                                                                 \n",
      " time_distributed_75 (TimeDi  (None, 30, 6, 6, 128)    0         \n",
      " stributed)                                                      \n",
      "                                                                 \n",
      " time_distributed_76 (TimeDi  (None, 30, 6, 6, 256)    295168    \n",
      " stributed)                                                      \n",
      "                                                                 \n",
      " time_distributed_77 (TimeDi  (None, 30, 6, 6, 256)    1024      \n",
      " stributed)                                                      \n",
      "                                                                 \n",
      " time_distributed_78 (TimeDi  (None, 30, 3, 3, 256)    0         \n",
      " stributed)                                                      \n",
      "                                                                 \n",
      " time_distributed_79 (TimeDi  (None, 30, 2304)         0         \n",
      " stributed)                                                      \n",
      "                                                                 \n",
      " lstm_4 (LSTM)               (None, 128)               1245696   \n",
      "                                                                 \n",
      " dropout_28 (Dropout)        (None, 128)               0         \n",
      "                                                                 \n",
      " dense_38 (Dense)            (None, 128)               16512     \n",
      "                                                                 \n",
      " dropout_29 (Dropout)        (None, 128)               0         \n",
      "                                                                 \n",
      " dense_39 (Dense)            (None, 5)                 645       \n",
      "                                                                 \n",
      "=================================================================\n",
      "Total params: 1,657,445\n",
      "Trainable params: 1,656,453\n",
      "Non-trainable params: 992\n",
      "_________________________________________________________________\n",
      "None\n"
     ]
    }
   ],
   "source": [
    "# Defining Optimizer\n",
    "optimiser = Adam()\n",
    "model.compile(optimizer=optimiser, loss='categorical_crossentropy', metrics=['categorical_accuracy'])\n",
    "print(model.summary())"
   ]
  },
  {
   "cell_type": "code",
   "execution_count": null,
   "metadata": {
    "colab": {
     "base_uri": "https://localhost:8080/"
    },
    "id": "jqbC_a-jChMv",
    "outputId": "eb4b5118-b860-460c-8f5b-22de6fa11773"
   },
   "outputs": [
    {
     "name": "stdout",
     "output_type": "stream",
     "text": [
      "# training sequences = 663\n",
      "# validation sequences = 100\n",
      "batch_size = 64\n",
      "# epochs = 15\n",
      "# steps per epoch  11\n",
      "# validation steps  2\n",
      "Input Shape  (30, 100, 100, 3)\n"
     ]
    }
   ],
   "source": [
    "# Setting batch_size and num_epochs\n",
    "(train_generator, val_generator, steps_per_epoch, validation_steps, num_epochs) = gen(batch_size = 64, epochs = 15, input_shape = input_shape)"
   ]
  },
  {
   "cell_type": "code",
   "execution_count": null,
   "metadata": {
    "colab": {
     "base_uri": "https://localhost:8080/"
    },
    "id": "EGqeV_VcClPu",
    "outputId": "33d0be53-68db-4c93-9748-17f76cbdaae1"
   },
   "outputs": [
    {
     "name": "stdout",
     "output_type": "stream",
     "text": [
      "Source path =  /content/drive/MyDrive/Project_data/train  ; batch size = 64\n",
      "Epoch 1/15\n",
      "11/11 [==============================] - ETA: 0s - loss: 1.5480 - categorical_accuracy: 0.3258Source path =  /content/drive/MyDrive/Project_data/val ; batch size = 64\n",
      "\n",
      "Epoch 1: saving model to model_init_2022-08-1113_02_18.794768/model-00001-1.54797-0.32579-1.73511-0.24000.h5\n",
      "11/11 [==============================] - 87s 8s/step - loss: 1.5480 - categorical_accuracy: 0.3258 - val_loss: 1.7351 - val_categorical_accuracy: 0.2400 - lr: 0.0010\n",
      "Epoch 2/15\n",
      "11/11 [==============================] - ETA: 0s - loss: 1.2947 - categorical_accuracy: 0.4545\n",
      "Epoch 2: saving model to model_init_2022-08-1113_02_18.794768/model-00002-1.29469-0.45455-2.04617-0.25000.h5\n",
      "11/11 [==============================] - 39s 4s/step - loss: 1.2947 - categorical_accuracy: 0.4545 - val_loss: 2.0462 - val_categorical_accuracy: 0.2500 - lr: 0.0010\n",
      "Epoch 3/15\n",
      "11/11 [==============================] - ETA: 0s - loss: 1.2517 - categorical_accuracy: 0.4980\n",
      "Epoch 3: saving model to model_init_2022-08-1113_02_18.794768/model-00003-1.25170-0.49802-1.81254-0.26786.h5\n",
      "\n",
      "Epoch 3: ReduceLROnPlateau reducing learning rate to 0.0005000000237487257.\n",
      "11/11 [==============================] - 34s 3s/step - loss: 1.2517 - categorical_accuracy: 0.4980 - val_loss: 1.8125 - val_categorical_accuracy: 0.2679 - lr: 0.0010\n",
      "Epoch 4/15\n",
      "11/11 [==============================] - ETA: 0s - loss: 1.2960 - categorical_accuracy: 0.5107\n",
      "Epoch 4: saving model to model_init_2022-08-1113_02_18.794768/model-00004-1.29601-0.51073-2.10141-0.18750.h5\n",
      "11/11 [==============================] - 30s 3s/step - loss: 1.2960 - categorical_accuracy: 0.5107 - val_loss: 2.1014 - val_categorical_accuracy: 0.1875 - lr: 5.0000e-04\n",
      "Epoch 5/15\n",
      "11/11 [==============================] - ETA: 0s - loss: 1.2187 - categorical_accuracy: 0.4976\n",
      "Epoch 5: saving model to model_init_2022-08-1113_02_18.794768/model-00005-1.21872-0.49761-2.04370-0.21875.h5\n",
      "\n",
      "Epoch 5: ReduceLROnPlateau reducing learning rate to 0.0002500000118743628.\n",
      "11/11 [==============================] - 28s 3s/step - loss: 1.2187 - categorical_accuracy: 0.4976 - val_loss: 2.0437 - val_categorical_accuracy: 0.2188 - lr: 5.0000e-04\n",
      "Epoch 6/15\n",
      "11/11 [==============================] - ETA: 0s - loss: 1.1247 - categorical_accuracy: 0.5455\n",
      "Epoch 6: saving model to model_init_2022-08-1113_02_18.794768/model-00006-1.12474-0.54545-1.36178-0.62500.h5\n",
      "11/11 [==============================] - 23s 2s/step - loss: 1.1247 - categorical_accuracy: 0.5455 - val_loss: 1.3618 - val_categorical_accuracy: 0.6250 - lr: 2.5000e-04\n",
      "Epoch 7/15\n",
      "11/11 [==============================] - ETA: 0s - loss: 1.1439 - categorical_accuracy: 0.5025\n",
      "Epoch 7: saving model to model_init_2022-08-1113_02_18.794768/model-00007-1.14395-0.50246-1.85947-0.25000.h5\n",
      "11/11 [==============================] - 22s 2s/step - loss: 1.1439 - categorical_accuracy: 0.5025 - val_loss: 1.8595 - val_categorical_accuracy: 0.2500 - lr: 2.5000e-04\n",
      "Epoch 8/15\n",
      "11/11 [==============================] - ETA: 0s - loss: 1.0181 - categorical_accuracy: 0.5989\n",
      "Epoch 8: saving model to model_init_2022-08-1113_02_18.794768/model-00008-1.01806-0.59893-2.65144-0.25000.h5\n",
      "\n",
      "Epoch 8: ReduceLROnPlateau reducing learning rate to 0.0001250000059371814.\n",
      "11/11 [==============================] - 21s 2s/step - loss: 1.0181 - categorical_accuracy: 0.5989 - val_loss: 2.6514 - val_categorical_accuracy: 0.2500 - lr: 2.5000e-04\n",
      "Epoch 9/15\n",
      "11/11 [==============================] - ETA: 0s - loss: 0.9894 - categorical_accuracy: 0.6257\n",
      "Epoch 9: saving model to model_init_2022-08-1113_02_18.794768/model-00009-0.98940-0.62567-2.24197-0.12500.h5\n",
      "11/11 [==============================] - 21s 2s/step - loss: 0.9894 - categorical_accuracy: 0.6257 - val_loss: 2.2420 - val_categorical_accuracy: 0.1250 - lr: 1.2500e-04\n",
      "Epoch 9: early stopping\n"
     ]
    },
    {
     "data": {
      "text/plain": [
       "<keras.callbacks.History at 0x7f5db6914810>"
      ]
     },
     "execution_count": 93,
     "metadata": {},
     "output_type": "execute_result"
    }
   ],
   "source": [
    "# Fitting the model\n",
    "model.fit(train_generator, steps_per_epoch=steps_per_epoch, epochs=num_epochs, verbose=1, \n",
    "                    callbacks=callbacks_list, validation_data=val_generator, \n",
    "                    validation_steps=validation_steps, class_weight=None, workers=1, initial_epoch=0)"
   ]
  },
  {
   "cell_type": "code",
   "execution_count": null,
   "metadata": {
    "colab": {
     "base_uri": "https://localhost:8080/",
     "height": 265
    },
    "id": "cPjH63JTCoUO",
    "outputId": "9b70b566-2d50-4269-dc11-912e3a8cc240"
   },
   "outputs": [
    {
     "data": {
      "image/png": "[encoded data removed]",
      "text/plain": [
       "<Figure size 1080x288 with 2 Axes>"
      ]
     },
     "metadata": {
      "needs_background": "light"
     },
     "output_type": "display_data"
    }
   ],
   "source": [
    "# Plotting the model\n",
    "plot(model)"
   ]
  },
  {
   "cell_type": "markdown",
   "metadata": {
    "id": "1IsxPcQuopJV"
   },
   "source": [
    "**The accuracy has certainly increased but the model is still overfitting on the validation set.**"
   ]
  },
  {
   "cell_type": "markdown",
   "metadata": {
    "id": "sCRMjXZiD4-Z"
   },
   "source": [
    "## Model 15: LSTM\n",
    "\n",
    "In this model, we have reduced the number of frames to 16 keeping the size of image as (100, 100). Rest all parameters are same as Model 14."
   ]
  },
  {
   "cell_type": "code",
   "execution_count": null,
   "metadata": {
    "id": "2LVKmyEIEH2x"
   },
   "outputs": [],
   "source": [
    "# Input Shape of the image in the format: (number of frames, image height, image width, number of channels)\n",
    "input_shape=(16,100,100,3)\n",
    "\n",
    "# Define Architecture\n",
    "model = Sequential()\n",
    "\n",
    "model.add(TimeDistributed(Conv2D(16, (3, 3) , padding='same', activation='relu'),\n",
    "                                  input_shape = input_shape))\n",
    "model.add(TimeDistributed(BatchNormalization()))\n",
    "model.add(TimeDistributed(MaxPooling2D((2, 2))))\n",
    "        \n",
    "model.add(TimeDistributed(Conv2D(32, (3, 3) , padding='same', activation='relu')))\n",
    "model.add(TimeDistributed(BatchNormalization()))\n",
    "model.add(TimeDistributed(MaxPooling2D((2, 2))))\n",
    "        \n",
    "model.add(TimeDistributed(Conv2D(64, (3, 3) , padding='same', activation='relu')))\n",
    "model.add(TimeDistributed(BatchNormalization()))\n",
    "model.add(TimeDistributed(MaxPooling2D((2, 2))))\n",
    "        \n",
    "model.add(TimeDistributed(Conv2D(128, (3, 3) , padding='same', activation='relu')))\n",
    "model.add(TimeDistributed(BatchNormalization()))\n",
    "model.add(TimeDistributed(MaxPooling2D((2, 2))))\n",
    "        \n",
    "model.add(TimeDistributed(Conv2D(256, (3, 3) , padding='same', activation='relu')))\n",
    "model.add(TimeDistributed(BatchNormalization()))\n",
    "model.add(TimeDistributed(MaxPooling2D((2, 2))))\n",
    "        \n",
    "\n",
    "model.add(TimeDistributed(Flatten()))\n",
    "\n",
    "\n",
    "model.add(LSTM(128))\n",
    "model.add(Dropout(0.50))\n",
    "        \n",
    "model.add(Dense(128,activation='relu'))\n",
    "model.add(Dropout(0.50))\n",
    "        \n",
    "model.add(Dense(nb_dense[2], activation='softmax'))"
   ]
  },
  {
   "cell_type": "code",
   "execution_count": null,
   "metadata": {
    "colab": {
     "base_uri": "https://localhost:8080/"
    },
    "id": "wuFf5y8qENWL",
    "outputId": "4c68c2aa-2dcd-4636-c650-213a3575c882"
   },
   "outputs": [
    {
     "name": "stdout",
     "output_type": "stream",
     "text": [
      "Model: \"sequential_16\"\n",
      "_________________________________________________________________\n",
      " Layer (type)                Output Shape              Param #   \n",
      "=================================================================\n",
      " time_distributed_80 (TimeDi  (None, 16, 100, 100, 16)  448      \n",
      " stributed)                                                      \n",
      "                                                                 \n",
      " time_distributed_81 (TimeDi  (None, 16, 100, 100, 16)  64       \n",
      " stributed)                                                      \n",
      "                                                                 \n",
      " time_distributed_82 (TimeDi  (None, 16, 50, 50, 16)   0         \n",
      " stributed)                                                      \n",
      "                                                                 \n",
      " time_distributed_83 (TimeDi  (None, 16, 50, 50, 32)   4640      \n",
      " stributed)                                                      \n",
      "                                                                 \n",
      " time_distributed_84 (TimeDi  (None, 16, 50, 50, 32)   128       \n",
      " stributed)                                                      \n",
      "                                                                 \n",
      " time_distributed_85 (TimeDi  (None, 16, 25, 25, 32)   0         \n",
      " stributed)                                                      \n",
      "                                                                 \n",
      " time_distributed_86 (TimeDi  (None, 16, 25, 25, 64)   18496     \n",
      " stributed)                                                      \n",
      "                                                                 \n",
      " time_distributed_87 (TimeDi  (None, 16, 25, 25, 64)   256       \n",
      " stributed)                                                      \n",
      "                                                                 \n",
      " time_distributed_88 (TimeDi  (None, 16, 12, 12, 64)   0         \n",
      " stributed)                                                      \n",
      "                                                                 \n",
      " time_distributed_89 (TimeDi  (None, 16, 12, 12, 128)  73856     \n",
      " stributed)                                                      \n",
      "                                                                 \n",
      " time_distributed_90 (TimeDi  (None, 16, 12, 12, 128)  512       \n",
      " stributed)                                                      \n",
      "                                                                 \n",
      " time_distributed_91 (TimeDi  (None, 16, 6, 6, 128)    0         \n",
      " stributed)                                                      \n",
      "                                                                 \n",
      " time_distributed_92 (TimeDi  (None, 16, 6, 6, 256)    295168    \n",
      " stributed)                                                      \n",
      "                                                                 \n",
      " time_distributed_93 (TimeDi  (None, 16, 6, 6, 256)    1024      \n",
      " stributed)                                                      \n",
      "                                                                 \n",
      " time_distributed_94 (TimeDi  (None, 16, 3, 3, 256)    0         \n",
      " stributed)                                                      \n",
      "                                                                 \n",
      " time_distributed_95 (TimeDi  (None, 16, 2304)         0         \n",
      " stributed)                                                      \n",
      "                                                                 \n",
      " lstm_5 (LSTM)               (None, 128)               1245696   \n",
      "                                                                 \n",
      " dropout_30 (Dropout)        (None, 128)               0         \n",
      "                                                                 \n",
      " dense_40 (Dense)            (None, 128)               16512     \n",
      "                                                                 \n",
      " dropout_31 (Dropout)        (None, 128)               0         \n",
      "                                                                 \n",
      " dense_41 (Dense)            (None, 5)                 645       \n",
      "                                                                 \n",
      "=================================================================\n",
      "Total params: 1,657,445\n",
      "Trainable params: 1,656,453\n",
      "Non-trainable params: 992\n",
      "_________________________________________________________________\n",
      "None\n"
     ]
    }
   ],
   "source": [
    "# Defining Optimizer\n",
    "optimiser = Adam()\n",
    "model.compile(optimizer=optimiser, loss='categorical_crossentropy', metrics=['categorical_accuracy'])\n",
    "print(model.summary())"
   ]
  },
  {
   "cell_type": "code",
   "execution_count": null,
   "metadata": {
    "colab": {
     "base_uri": "https://localhost:8080/"
    },
    "id": "7D4PkTq2EP7Z",
    "outputId": "677c2e12-bdc6-4f73-c8a7-27eee57ceec6"
   },
   "outputs": [
    {
     "name": "stdout",
     "output_type": "stream",
     "text": [
      "# training sequences = 663\n",
      "# validation sequences = 100\n",
      "batch_size = 64\n",
      "# epochs = 15\n",
      "# steps per epoch  11\n",
      "# validation steps  2\n",
      "Input Shape  (16, 100, 100, 3)\n"
     ]
    }
   ],
   "source": [
    "# Setting batch_size and num_epochs\n",
    "(train_generator, val_generator, steps_per_epoch, validation_steps, num_epochs) = gen(batch_size = 64, epochs = 15, input_shape = input_shape)"
   ]
  },
  {
   "cell_type": "code",
   "execution_count": null,
   "metadata": {
    "colab": {
     "base_uri": "https://localhost:8080/"
    },
    "id": "HxhRIXb8EZRE",
    "outputId": "697e760d-0bf1-48b8-d2e4-f69af003cb45"
   },
   "outputs": [
    {
     "name": "stdout",
     "output_type": "stream",
     "text": [
      "Source path =  /content/drive/MyDrive/Project_data/train  ; batch size = 64\n",
      "Epoch 1/15\n",
      "11/11 [==============================] - ETA: 0s - loss: 1.5448 - categorical_accuracy: 0.3213Source path =  /content/drive/MyDrive/Project_data/val ; batch size = 64\n",
      "\n",
      "Epoch 1: saving model to model_init_2022-08-1113_02_18.794768/model-00001-1.54477-0.32127-1.76400-0.26000.h5\n",
      "11/11 [==============================] - 48s 4s/step - loss: 1.5448 - categorical_accuracy: 0.3213 - val_loss: 1.7640 - val_categorical_accuracy: 0.2600 - lr: 0.0010\n",
      "Epoch 2/15\n",
      "11/11 [==============================] - ETA: 0s - loss: 1.3496 - categorical_accuracy: 0.4190\n",
      "Epoch 2: saving model to model_init_2022-08-1113_02_18.794768/model-00002-1.34959-0.41897-2.26624-0.18750.h5\n",
      "11/11 [==============================] - 20s 2s/step - loss: 1.3496 - categorical_accuracy: 0.4190 - val_loss: 2.2662 - val_categorical_accuracy: 0.1875 - lr: 0.0010\n",
      "Epoch 3/15\n",
      "11/11 [==============================] - ETA: 0s - loss: 1.2642 - categorical_accuracy: 0.5020\n",
      "Epoch 3: saving model to model_init_2022-08-1113_02_18.794768/model-00003-1.26424-0.50198-2.00182-0.19643.h5\n",
      "\n",
      "Epoch 3: ReduceLROnPlateau reducing learning rate to 0.0005000000237487257.\n",
      "11/11 [==============================] - 20s 2s/step - loss: 1.2642 - categorical_accuracy: 0.5020 - val_loss: 2.0018 - val_categorical_accuracy: 0.1964 - lr: 0.0010\n",
      "Epoch 4/15\n",
      "11/11 [==============================] - ETA: 0s - loss: 1.3177 - categorical_accuracy: 0.4635\n",
      "Epoch 4: saving model to model_init_2022-08-1113_02_18.794768/model-00004-1.31765-0.46352-1.83942-0.34375.h5\n",
      "11/11 [==============================] - 15s 2s/step - loss: 1.3177 - categorical_accuracy: 0.4635 - val_loss: 1.8394 - val_categorical_accuracy: 0.3438 - lr: 5.0000e-04\n",
      "Epoch 5/15\n",
      "11/11 [==============================] - ETA: 0s - loss: 1.1475 - categorical_accuracy: 0.5359\n",
      "Epoch 5: saving model to model_init_2022-08-1113_02_18.794768/model-00005-1.14751-0.53589-1.99524-0.21875.h5\n",
      "\n",
      "Epoch 5: ReduceLROnPlateau reducing learning rate to 0.0002500000118743628.\n",
      "11/11 [==============================] - 15s 1s/step - loss: 1.1475 - categorical_accuracy: 0.5359 - val_loss: 1.9952 - val_categorical_accuracy: 0.2188 - lr: 5.0000e-04\n",
      "Epoch 6/15\n",
      "11/11 [==============================] - ETA: 0s - loss: 1.1455 - categorical_accuracy: 0.5407\n",
      "Epoch 6: saving model to model_init_2022-08-1113_02_18.794768/model-00006-1.14554-0.54067-1.98916-0.37500.h5\n",
      "11/11 [==============================] - 13s 1s/step - loss: 1.1455 - categorical_accuracy: 0.5407 - val_loss: 1.9892 - val_categorical_accuracy: 0.3750 - lr: 2.5000e-04\n",
      "Epoch 7/15\n",
      "11/11 [==============================] - ETA: 0s - loss: 1.1092 - categorical_accuracy: 0.5567\n",
      "Epoch 7: saving model to model_init_2022-08-1113_02_18.794768/model-00007-1.10917-0.55665-1.51888-0.25000.h5\n",
      "11/11 [==============================] - 12s 1s/step - loss: 1.1092 - categorical_accuracy: 0.5567 - val_loss: 1.5189 - val_categorical_accuracy: 0.2500 - lr: 2.5000e-04\n",
      "Epoch 8/15\n",
      "11/11 [==============================] - ETA: 0s - loss: 1.0101 - categorical_accuracy: 0.5829\n",
      "Epoch 8: saving model to model_init_2022-08-1113_02_18.794768/model-00008-1.01013-0.58289-2.23838-0.12500.h5\n",
      "11/11 [==============================] - 11s 1s/step - loss: 1.0101 - categorical_accuracy: 0.5829 - val_loss: 2.2384 - val_categorical_accuracy: 0.1250 - lr: 2.5000e-04\n",
      "Epoch 9/15\n",
      "11/11 [==============================] - ETA: 0s - loss: 1.0486 - categorical_accuracy: 0.5829\n",
      "Epoch 9: saving model to model_init_2022-08-1113_02_18.794768/model-00009-1.04857-0.58289-2.54630-0.12500.h5\n",
      "\n",
      "Epoch 9: ReduceLROnPlateau reducing learning rate to 0.0001250000059371814.\n",
      "11/11 [==============================] - 12s 1s/step - loss: 1.0486 - categorical_accuracy: 0.5829 - val_loss: 2.5463 - val_categorical_accuracy: 0.1250 - lr: 2.5000e-04\n",
      "Epoch 9: early stopping\n"
     ]
    },
    {
     "data": {
      "text/plain": [
       "<keras.callbacks.History at 0x7f5d6fd04050>"
      ]
     },
     "execution_count": 98,
     "metadata": {},
     "output_type": "execute_result"
    }
   ],
   "source": [
    "# Fitting the model\n",
    "model.fit(train_generator, steps_per_epoch=steps_per_epoch, epochs=num_epochs, verbose=1, \n",
    "                    callbacks=callbacks_list, validation_data=val_generator, \n",
    "                    validation_steps=validation_steps, class_weight=None, workers=1, initial_epoch=0)"
   ]
  },
  {
   "cell_type": "code",
   "execution_count": null,
   "metadata": {
    "colab": {
     "base_uri": "https://localhost:8080/",
     "height": 267
    },
    "id": "znp5eZTEEcz1",
    "outputId": "586d37bb-b287-4159-d2f3-4c27807b0497"
   },
   "outputs": [
    {
     "data": {
      "image/png": "[encoded data removed]",
      "text/plain": [
       "<Figure size 1080x288 with 2 Axes>"
      ]
     },
     "metadata": {
      "needs_background": "light"
     },
     "output_type": "display_data"
    }
   ],
   "source": [
    "# Plotting the results\n",
    "plot(model)"
   ]
  },
  {
   "cell_type": "markdown",
   "metadata": {
    "id": "VANJjkyPPphe"
   },
   "source": [
    "**The model seems to have achieved a better accuracy but the problem of overfitting is persistent.**"
   ]
  },
  {
   "cell_type": "markdown",
   "metadata": {
    "id": "2W4gXFF1xHeY"
   },
   "source": [
    "# Best Model"
   ]
  },
  {
   "cell_type": "markdown",
   "metadata": {
    "id": "aRsQ9ZnltIFj"
   },
   "source": [
    "**After building a total of 15 models, the best model which we have selected keeping in mind the number of parameters, the accuracy and the amount of overfitting, is Model 5.**"
   ]
  },
  {
   "cell_type": "markdown",
   "metadata": {
    "id": "tfiPhLemxG3u"
   },
   "source": [
    "The specifications of the best model is:\n",
    "\n",
    "1. Training accuracy: 93%\n",
    "2. Validation accuracy: 87.5%\n",
    "3. Number of Frames: 30\n",
    "4. Image Size: 120, 120\n",
    "5. Filter Size: 2,2,2\n",
    "6. Batch Size: 32\n",
    "7. Number of Epochs: 15\n",
    "8. Total Parameters: 840k (approximately) \n",
    "\n"
   ]
  }
 ],
 "metadata": {
  "accelerator": "GPU",
  "colab": {
   "collapsed_sections": [],
   "machine_shape": "hm",
   "name": "Ritik_Jacob_Gesture_Recognition.ipynb",
   "provenance": [],
   "toc_visible": true
  },
  "gpuClass": "standard",
  "kernelspec": {
   "display_name": "Python 3",
   "language": "python",
   "name": "python3"
  },
  "language_info": {
   "codemirror_mode": {
    "name": "ipython",
    "version": 3
   },
   "file_extension": ".py",
   "mimetype": "text/x-python",
   "name": "python",
   "nbconvert_exporter": "python",
   "pygments_lexer": "ipython3",
   "version": "3.7.4"
  }
 },
 "nbformat": 4,
 "nbformat_minor": 1
}
